{
 "cells": [
  {
   "cell_type": "code",
   "execution_count": 1,
   "id": "827575a8",
   "metadata": {},
   "outputs": [],
   "source": [
    "#Question-1\n",
    "# Write a program that accepts a list from the user and print the alternate element of the list."
   ]
  },
  {
   "cell_type": "code",
   "execution_count": 2,
   "id": "d3f50f43",
   "metadata": {},
   "outputs": [
    {
     "name": "stdout",
     "output_type": "stream",
     "text": [
      "Enter a list of values separated by spaces: 1 2 3 4 5 6 7 8 9\n",
      "Alternate elements of the list: ['1', '3', '5', '7', '9']\n"
     ]
    }
   ],
   "source": [
    "lst = input(\"Enter a list of values separated by spaces: \").split()\n",
    "alternate_lst = lst[::2]\n",
    "print(\"Alternate elements of the list:\", alternate_lst)"
   ]
  },
  {
   "cell_type": "code",
   "execution_count": 3,
   "id": "ed2724e7",
   "metadata": {},
   "outputs": [],
   "source": [
    "#Question-2\n",
    "# Write a python program to input a list of strings, return the maximum length of strings entered."
   ]
  },
  {
   "cell_type": "code",
   "execution_count": 4,
   "id": "32bae5ff",
   "metadata": {},
   "outputs": [
    {
     "name": "stdout",
     "output_type": "stream",
     "text": [
      "vinay\n",
      "7\n"
     ]
    }
   ],
   "source": [
    "x=['sowmya','hello','venky','chandu','vinay','hemanth','manoj']\n",
    "print(max(x))\n",
    "print(len(x))"
   ]
  },
  {
   "cell_type": "code",
   "execution_count": 5,
   "id": "28c2dfda",
   "metadata": {},
   "outputs": [],
   "source": [
    "#Question-3\n",
    "# Write a program that rotates the element of a list so that the element at the first index moves to the second index,the \n",
    "# element in the second index moves to the third index, etc.,and the element in the last index moves to the first index."
   ]
  },
  {
   "cell_type": "code",
   "execution_count": 6,
   "id": "713d6a29",
   "metadata": {},
   "outputs": [
    {
     "name": "stdout",
     "output_type": "stream",
     "text": [
      "Enter a list of values separated by spaces: 1 2 3 4 5\n",
      "Rotated list: ['5', '1', '2', '3', '4']\n"
     ]
    }
   ],
   "source": [
    "lst = input(\"Enter a list of values separated by spaces: \").split()\n",
    "rotated_lst = [lst[-1]] + lst[:-1]\n",
    "print(\"Rotated list:\", rotated_lst)"
   ]
  },
  {
   "cell_type": "code",
   "execution_count": 7,
   "id": "c91eae1d",
   "metadata": {},
   "outputs": [],
   "source": [
    "#Question-4\n",
    "# Find the sum of each row of matrix of size m x n. For example for the following matrix output will be like this :\n",
    "# Sum of row 1 = 32\n",
    "# Sum of row 2 = 31\n",
    "# Sum of row 3 = 63"
   ]
  },
  {
   "cell_type": "code",
   "execution_count": 8,
   "id": "2e42c758",
   "metadata": {},
   "outputs": [
    {
     "name": "stdout",
     "output_type": "stream",
     "text": [
      "Enter the number of rows: 3\n",
      "Enter the number of columns: 4\n",
      "Enter row 1 of the matrix separated by spaces: 1 2 3 4\n",
      "Enter row 2 of the matrix separated by spaces: 5 6 7 8\n",
      "Enter row 3 of the matrix separated by spaces: 9 10 11 12\n",
      "Sum of row 1 = 10\n",
      "Sum of row 2 = 26\n",
      "Sum of row 3 = 42\n"
     ]
    }
   ],
   "source": [
    "m = int(input(\"Enter the number of rows: \"))\n",
    "n = int(input(\"Enter the number of columns: \"))\n",
    "\n",
    "matrix = []\n",
    "for i in range(m):\n",
    "    row = input(f\"Enter row {i+1} of the matrix separated by spaces: \").split()\n",
    "    matrix.append(row)\n",
    "\n",
    "for i in range(m):\n",
    "    row_sum = sum([int(x) for x in matrix[i]])\n",
    "    print(f\"Sum of row {i+1} = {row_sum}\")"
   ]
  },
  {
   "cell_type": "code",
   "execution_count": 9,
   "id": "c9849dff",
   "metadata": {},
   "outputs": [],
   "source": [
    "#Question-5\n",
    "# Write a program to add two matrices of size n x m"
   ]
  },
  {
   "cell_type": "code",
   "execution_count": 13,
   "id": "8635e3fb",
   "metadata": {},
   "outputs": [
    {
     "name": "stdout",
     "output_type": "stream",
     "text": [
      "Multiplication Matrix [[25, 21, 14], [14, 48, 8], [24, 6, 0]]\n"
     ]
    }
   ],
   "source": [
    "x=[[5,3,7],[2,6,2],[8,3,8]]\n",
    "y=[[5,7,2],[7,8,4],[3,2,0]]\n",
    "z=[[0,0,0],[0,0,0],[0,0,0]]\n",
    "for i in range(len(x)):\n",
    "    for j in range(len(y)):\n",
    "        z[i][j]=x[i][j]*y[i][j]\n",
    "print(\"Multiplication Matrix\",z)"
   ]
  },
  {
   "cell_type": "code",
   "execution_count": null,
   "id": "ab50fe22",
   "metadata": {},
   "outputs": [],
   "source": [
    "#Question-6\n",
    "# Write a program to multiply two matrices."
   ]
  },
  {
   "cell_type": "code",
   "execution_count": 14,
   "id": "26a20111",
   "metadata": {},
   "outputs": [
    {
     "name": "stdout",
     "output_type": "stream",
     "text": [
      "Addition Matrix [[8, 8, 0], [11, 12, 0]]\n"
     ]
    }
   ],
   "source": [
    "x=[[4,2,5],[5,3,6]]\n",
    "y=[[4,6,2],[6,9,3]]\n",
    "z=[[0,0,0],[0,0,0]]\n",
    "for i in range(len(x)):\n",
    "    for j in range(len(y)):\n",
    "        z[i][j]=x[i][j]+y[i][j]\n",
    "print(\"Addition Matrix\",z)"
   ]
  },
  {
   "cell_type": "code",
   "execution_count": null,
   "id": "eaa4c346",
   "metadata": {},
   "outputs": [],
   "source": [
    "#Question-7\n",
    "# Given a list of N integers, and an integer K, find the number of pairs of elements in the array whose sum is equal to K."
   ]
  },
  {
   "cell_type": "code",
   "execution_count": 21,
   "id": "5169e879",
   "metadata": {},
   "outputs": [
    {
     "name": "stdout",
     "output_type": "stream",
     "text": [
      "2\n"
     ]
    }
   ],
   "source": [
    "def count_pairs(arr, k):\n",
    "    count = 0\n",
    "    seen = set()\n",
    "    for num in arr:\n",
    "        if k - num in seen:\n",
    "            count += 1\n",
    "        seen.add(num)\n",
    "    return count\n",
    "\n",
    "# Example usage\n",
    "arr = [1, 2, 3, 4, 5]\n",
    "k = 6\n",
    "print(count_pairs(arr, k)) # Output: 2"
   ]
  },
  {
   "cell_type": "code",
   "execution_count": null,
   "id": "f2bc038d",
   "metadata": {},
   "outputs": [],
   "source": [
    "#Question-8\n",
    "# Python program to compare two equal sized list and print the first index where they different."
   ]
  },
  {
   "cell_type": "code",
   "execution_count": 25,
   "id": "49ae9a56",
   "metadata": {},
   "outputs": [
    {
     "name": "stdout",
     "output_type": "stream",
     "text": [
      "2\n"
     ]
    }
   ],
   "source": [
    "def first_repeating(arr):\n",
    "    seen = set()\n",
    "    for num in arr:\n",
    "        if num in seen:\n",
    "            return num\n",
    "        seen.add(num)\n",
    "    return None\n",
    "\n",
    "# Example usage\n",
    "arr = [1, 2, 3, 2, 4, 5, 1]\n",
    "print(first_repeating(arr)) # Output: 2"
   ]
  },
  {
   "cell_type": "code",
   "execution_count": null,
   "id": "f28e9172",
   "metadata": {},
   "outputs": [],
   "source": [
    "#Question-9\n",
    "# Find out the first repeating element in a list"
   ]
  },
  {
   "cell_type": "code",
   "execution_count": 29,
   "id": "bda7151e",
   "metadata": {},
   "outputs": [
    {
     "name": "stdout",
     "output_type": "stream",
     "text": [
      "2\n"
     ]
    }
   ],
   "source": [
    "def first_repeating(arr):\n",
    "    seen = set()\n",
    "    for num in arr:\n",
    "        if num in seen:\n",
    "            return num\n",
    "        seen.add(num)\n",
    "    return None\n",
    "\n",
    "# Example usage\n",
    "arr = [1, 2, 3, 2, 4, 5, 1]\n",
    "print(first_repeating(arr)) # Output: 2"
   ]
  },
  {
   "cell_type": "code",
   "execution_count": null,
   "id": "3e9c251f",
   "metadata": {},
   "outputs": [],
   "source": [
    "#Question-10\n",
    "# Given an unsorted list A of size N that contains only non-negative integers, find a continuous sub-list which adds to\n",
    "# a given number S.In case of multiple sub-lists, return the sub-list which comes first on moving from left to right."
   ]
  },
  {
   "cell_type": "code",
   "execution_count": null,
   "id": "f88e0153",
   "metadata": {},
   "outputs": [],
   "source": [
    "def subarray_sum(arr, target):\n",
    "    left, right = 0, 0\n",
    "    current_sum = 0\n",
    "    while right < len(arr):\n",
    "        current_sum += arr[right]\n",
    "        while current_sum > target:\n",
    "            current_sum -= arr[left]\n",
    "            left += 1\n",
    "        if current_sum == target:\n",
    "            return arr[left:right+1]\n",
    "        right += 1\n",
    "    return None\n",
    "\n",
    "# Example usage\n",
    "arr = [1, 2, 3, 4, 5, 6, 7, 8, 9]\n",
    "target = 15\n",
    "print(subarray_sum(arr, target)) # Output: [1, 2, 3, 4, 5]"
   ]
  },
  {
   "cell_type": "code",
   "execution_count": null,
   "id": "5a6fb15b",
   "metadata": {},
   "outputs": [],
   "source": [
    "#Question-11\n",
    "# Find missing numbers in a sorted list range."
   ]
  },
  {
   "cell_type": "code",
   "execution_count": 31,
   "id": "c1de1997",
   "metadata": {},
   "outputs": [
    {
     "name": "stdout",
     "output_type": "stream",
     "text": [
      "[3, 5, 8]\n"
     ]
    }
   ],
   "source": [
    "def find_missing(lst):\n",
    "    return sorted(set(range(lst[0], lst[-1])) - set(lst))\n",
    "# Driver code\n",
    "lst = [1, 2, 4, 6, 7, 9, 10]\n",
    "print(find_missing(lst))"
   ]
  },
  {
   "cell_type": "code",
   "execution_count": null,
   "id": "5a7188b8",
   "metadata": {},
   "outputs": [],
   "source": [
    "#Question-12\n",
    "# Given a list of positive integers. Find the length of the longest sub-sequence such that elements in\n",
    "# the subsequence are consecutive integers, the consecutive numbers can be in any order."
   ]
  },
  {
   "cell_type": "code",
   "execution_count": null,
   "id": "aeddbe03",
   "metadata": {},
   "outputs": [],
   "source": [
    "def find_longest_consecutive_subsequence(nums):\n",
    "    num_set = set(nums)                                  # Create a set of the input numbers\n",
    "    longest_subsequence_length = 0                        # Initialize the length of the longest sub-sequence to zero\n",
    "    for num in num_set:                                  # Loop through each number in the set\n",
    "        if num - 1 not in num_set:                        # If the number is the start of a sub-sequence\n",
    "            current_subsequence_length = 1                # Initialize the length of the current sub-sequence to one\n",
    "            while num + current_subsequence_length - 1 in num_set:      # Loop through the numbers in the sub-sequence             \n",
    "                current_subsequence_length += 1                         # Increment the length of the sub-sequence  \n",
    "            # Update the length of the longest sub-sequence if the current sub-sequence is longer\n",
    "            longest_subsequence_length = max(longest_subsequence_length, current_subsequence_length)\n",
    "    return longest_subsequence_length                                    # Return the length of the longest sub-sequence\n",
    "\n",
    "# Example usage\n",
    "nums = [1, 2, 3, 6, 7, 8, 10, 11, 12]\n",
    "print(find_longest_consecutive_subsequence(nums)) # Output: 3"
   ]
  },
  {
   "cell_type": "code",
   "execution_count": null,
   "id": "a3e01bdf",
   "metadata": {},
   "outputs": [],
   "source": [
    "#Question-13\n",
    "# Concatenate every element across lists using list comprehension"
   ]
  },
  {
   "cell_type": "code",
   "execution_count": null,
   "id": "34f35680",
   "metadata": {},
   "outputs": [],
   "source": [
    "# Example lists\n",
    "list1 = ['a', 'b', 'c']\n",
    "list2 = ['d', 'e', 'f']\n",
    "list3 = ['g', 'h', 'i']\n",
    "\n",
    "# Concatenate every element across lists\n",
    "result = [elem for sublist in [list1, list2, list3] for elem in sublist]\n",
    "\n",
    "# Print the concatenated list\n",
    "print(result) # Output: ['a', 'b', 'c', 'd', 'e', 'f', 'g', 'h', 'i']"
   ]
  },
  {
   "cell_type": "code",
   "execution_count": null,
   "id": "911dcb93",
   "metadata": {},
   "outputs": [],
   "source": [
    "#Question-14\n",
    "# Count occurrence of repeated element in list"
   ]
  },
  {
   "cell_type": "code",
   "execution_count": 32,
   "id": "af0af5ce",
   "metadata": {},
   "outputs": [
    {
     "name": "stdout",
     "output_type": "stream",
     "text": [
      "2\n"
     ]
    }
   ],
   "source": [
    "x=[1,3,4,5,6,9,2,8,6]\n",
    "print(x.count(6))"
   ]
  },
  {
   "cell_type": "code",
   "execution_count": null,
   "id": "de4e16c5",
   "metadata": {},
   "outputs": [],
   "source": [
    "#Question-15\n",
    "# Reverse a List using slice."
   ]
  },
  {
   "cell_type": "code",
   "execution_count": 35,
   "id": "f0b4ed75",
   "metadata": {},
   "outputs": [
    {
     "name": "stdout",
     "output_type": "stream",
     "text": [
      "[5, 4, 3, 2, 1]\n"
     ]
    }
   ],
   "source": [
    "# Example list\n",
    "my_list = [1, 2, 3, 4, 5]\n",
    "\n",
    "# Reverse the list using slice notation\n",
    "my_list_reversed = my_list[::-1]\n",
    "\n",
    "# Print the reversed list\n",
    "print(my_list_reversed) # Output: [5, 4, 3, 2, 1]\n"
   ]
  },
  {
   "cell_type": "code",
   "execution_count": null,
   "id": "b46a5974",
   "metadata": {},
   "outputs": [],
   "source": []
  },
  {
   "cell_type": "code",
   "execution_count": null,
   "id": "bb81cbaa",
   "metadata": {},
   "outputs": [],
   "source": []
  }
 ],
 "metadata": {
  "kernelspec": {
   "display_name": "Python 3 (ipykernel)",
   "language": "python",
   "name": "python3"
  },
  "language_info": {
   "codemirror_mode": {
    "name": "ipython",
    "version": 3
   },
   "file_extension": ".py",
   "mimetype": "text/x-python",
   "name": "python",
   "nbconvert_exporter": "python",
   "pygments_lexer": "ipython3",
   "version": "3.9.12"
  }
 },
 "nbformat": 4,
 "nbformat_minor": 5
}
