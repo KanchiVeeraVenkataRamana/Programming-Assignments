{
 "cells": [
  {
   "cell_type": "code",
   "execution_count": 1,
   "id": "b849fdea",
   "metadata": {},
   "outputs": [],
   "source": [
    "#Question-1\n",
    "# Write a NumPy program to replace the negative values in a NumPy array with 0."
   ]
  },
  {
   "cell_type": "code",
   "execution_count": 2,
   "id": "94167aa6",
   "metadata": {},
   "outputs": [
    {
     "name": "stdout",
     "output_type": "stream",
     "text": [
      "[0 2 0 4 0]\n"
     ]
    }
   ],
   "source": [
    "import numpy as np\n",
    "# Creating a numpy array with negative values\n",
    "arr = np.array([-1, 2, -3, 4, -5])\n",
    "# Replacing negative values with 0\n",
    "arr[arr < 0] = 0\n",
    "print(arr)"
   ]
  },
  {
   "cell_type": "code",
   "execution_count": 3,
   "id": "e1f1a2e8",
   "metadata": {},
   "outputs": [],
   "source": [
    "#Question-2\n",
    "# Write a NumPy program to replace all elements of a NumPy array that are greater than the specified array.\n",
    "# [Expected Output:\n",
    "# Original array:\n",
    "# [[ 0.42436315 0.48558583 0.32924763]\n",
    "# [ 0.7439979 0.58220701 0.38213418]\n",
    "# [ 0.5097581 0.34528799 0.1563123 ]]\n",
    "# Replace all elements of the said array with .5 which are greater than. 5\n",
    "# [[ 0.42436315 0.48558583 0.32924763]\n",
    "# [ 0.5 0.5 0.38213418]\n",
    "# [ 0.5 0.34528799 0.1563123 ]]]"
   ]
  },
  {
   "cell_type": "code",
   "execution_count": 4,
   "id": "c6ffb876",
   "metadata": {},
   "outputs": [
    {
     "name": "stdout",
     "output_type": "stream",
     "text": [
      "[[0.42436315 0.48558583 0.32924763]\n",
      " [0.5        0.5        0.38213418]\n",
      " [0.5        0.34528799 0.1563123 ]]\n"
     ]
    }
   ],
   "source": [
    "import numpy as np\n",
    "# Creating a numpy array with some values\n",
    "arr = np.array([[0.42436315, 0.48558583, 0.32924763],\n",
    "                [0.7439979, 0.58220701, 0.38213418],\n",
    "                [0.5097581, 0.34528799, 0.1563123]])\n",
    "# Replacing all elements of the array that are greater than 0.5 with 0.5\n",
    "arr[arr > 0.5] = 0.5\n",
    "print(arr)"
   ]
  },
  {
   "cell_type": "code",
   "execution_count": null,
   "id": "6c283837",
   "metadata": {},
   "outputs": [],
   "source": [
    "#Question-3\n",
    "# Write a NumPy program to convert a NumPy array into Python list structure."
   ]
  },
  {
   "cell_type": "code",
   "execution_count": 5,
   "id": "f02ccb5d",
   "metadata": {},
   "outputs": [
    {
     "name": "stdout",
     "output_type": "stream",
     "text": [
      "[10 20 30 40 50]\n"
     ]
    }
   ],
   "source": [
    "import numpy as np\n",
    "a=np.array([10,20,30,40,50])\n",
    "print(a)"
   ]
  },
  {
   "cell_type": "code",
   "execution_count": null,
   "id": "6e8a4283",
   "metadata": {},
   "outputs": [],
   "source": [
    "#Question-4\n",
    "# Write a NumPy program to shuffle numbers between 0 and 10 (inclusive)."
   ]
  },
  {
   "cell_type": "code",
   "execution_count": 8,
   "id": "ada18f67",
   "metadata": {},
   "outputs": [
    {
     "name": "stdout",
     "output_type": "stream",
     "text": [
      "[ 9  0  8  4  6  7  3  2 10  5  1]\n"
     ]
    }
   ],
   "source": [
    "import numpy as np\n",
    "# Creating a NumPy array with numbers from 0 to 10 (inclusive)\n",
    "arr = np.arange(11)\n",
    "# Shuffling the array\n",
    "np.random.shuffle(arr)\n",
    "print(arr)"
   ]
  },
  {
   "cell_type": "code",
   "execution_count": null,
   "id": "ff4b6aba",
   "metadata": {},
   "outputs": [],
   "source": [
    "#Question-5\n",
    "# Write a NumPy program to convert 1-D arrays as columns into a 2-D array.Sample array: (10,20,30), (40,50,60)"
   ]
  },
  {
   "cell_type": "code",
   "execution_count": 11,
   "id": "b65f256c",
   "metadata": {},
   "outputs": [
    {
     "name": "stdout",
     "output_type": "stream",
     "text": [
      "[[10 40]\n",
      " [20 50]\n",
      " [30 60]]\n"
     ]
    }
   ],
   "source": [
    "import numpy as np\n",
    "# Creating 1-D arrays\n",
    "arr1 = np.array([10, 20, 30])\n",
    "arr2 = np.array([40, 50, 60])\n",
    "# Creating a 2-D array from the 1-D arrays\n",
    "arr_2d = np.column_stack((arr1, arr2))\n",
    "print(arr_2d)"
   ]
  },
  {
   "cell_type": "code",
   "execution_count": null,
   "id": "d49940f6",
   "metadata": {},
   "outputs": [],
   "source": [
    "#Question-6\n",
    "# Write a NumPy program to concatenate two 2-dimensional arrays.\n",
    "# Sample arrays: ([[0, 1, 3], [5, 7, 9]], [[0, 2, 4], [6, 8, 10]]"
   ]
  },
  {
   "cell_type": "code",
   "execution_count": 12,
   "id": "420feb89",
   "metadata": {},
   "outputs": [
    {
     "name": "stdout",
     "output_type": "stream",
     "text": [
      "[[ 0  1  3]\n",
      " [ 5  7  9]\n",
      " [ 0  2  4]\n",
      " [ 6  8 10]]\n"
     ]
    }
   ],
   "source": [
    "import numpy as np\n",
    "# Creating the two 2-D arrays\n",
    "arr1 = np.array([[0, 1, 3], [5, 7, 9]])\n",
    "arr2 = np.array([[0, 2, 4], [6, 8, 10]])\n",
    "# Concatenating the two 2-D arrays along the rows (axis=0)\n",
    "arr_concat = np.concatenate((arr1, arr2), axis=0)\n",
    "print(arr_concat)"
   ]
  },
  {
   "cell_type": "code",
   "execution_count": null,
   "id": "a380fe32",
   "metadata": {},
   "outputs": [],
   "source": [
    "#Question-7\n",
    "# Write a NumPy program to create a 3x3 identity matrix"
   ]
  },
  {
   "cell_type": "code",
   "execution_count": 15,
   "id": "dda7ecbe",
   "metadata": {},
   "outputs": [
    {
     "name": "stdout",
     "output_type": "stream",
     "text": [
      "[[1. 0. 0.]\n",
      " [0. 1. 0.]\n",
      " [0. 0. 1.]]\n"
     ]
    }
   ],
   "source": [
    "import numpy as np\n",
    "# Creating a 3x3 identity matrix\n",
    "identity_matrix = np.identity(3)\n",
    "print(identity_matrix)"
   ]
  },
  {
   "cell_type": "code",
   "execution_count": null,
   "id": "e8584884",
   "metadata": {},
   "outputs": [],
   "source": [
    "#Question-8\n",
    "# Write a NumPy program to create an array of 10 zeros, 10 ones, 10 fives."
   ]
  },
  {
   "cell_type": "code",
   "execution_count": 17,
   "id": "03d729ca",
   "metadata": {},
   "outputs": [
    {
     "name": "stdout",
     "output_type": "stream",
     "text": [
      "[0. 0. 0. 0. 0. 0. 0. 0. 0. 0. 1. 1. 1. 1. 1. 1. 1. 1. 1. 1. 5. 5. 5. 5.\n",
      " 5. 5. 5. 5. 5. 5.]\n"
     ]
    }
   ],
   "source": [
    "import numpy as np\n",
    "# Creating an array of 10 zeros\n",
    "zeros_array = np.zeros(10)\n",
    "# Creating an array of 10 ones\n",
    "ones_array = np.ones(10)\n",
    "# Creating an array of 10 fives\n",
    "fives_array = np.ones(10) * 5\n",
    "# Concatenating the arrays horizontally\n",
    "result = np.concatenate([zeros_array, ones_array, fives_array])\n",
    "print(result)"
   ]
  },
  {
   "cell_type": "code",
   "execution_count": 18,
   "id": "f1b6385c",
   "metadata": {},
   "outputs": [],
   "source": [
    "#Question-9\n",
    "# Write a NumPy program to get help on the add function."
   ]
  },
  {
   "cell_type": "code",
   "execution_count": 19,
   "id": "bc33add7",
   "metadata": {},
   "outputs": [
    {
     "name": "stdout",
     "output_type": "stream",
     "text": [
      "[[11 22 33]\n",
      " [44 55 66]]\n"
     ]
    }
   ],
   "source": [
    "import numpy as np\n",
    "a=np.array([[10,20,30],[40,50,60]])\n",
    "b=np.array([[1,2,3],[4,5,6]])\n",
    "c=np.add(a,b)\n",
    "print(c)"
   ]
  },
  {
   "cell_type": "code",
   "execution_count": null,
   "id": "49d8bf50",
   "metadata": {},
   "outputs": [],
   "source": [
    "#Question-10\n",
    "# Write a NumPy program to create a 5x5 matrix with row values ranging from 0 to 4."
   ]
  },
  {
   "cell_type": "code",
   "execution_count": 21,
   "id": "94cd6656",
   "metadata": {},
   "outputs": [
    {
     "name": "stdout",
     "output_type": "stream",
     "text": [
      "[[0. 0. 0. 0. 0.]\n",
      " [1. 1. 1. 1. 1.]\n",
      " [2. 2. 2. 2. 2.]\n",
      " [3. 3. 3. 3. 3.]\n",
      " [4. 4. 4. 4. 4.]]\n"
     ]
    }
   ],
   "source": [
    "import numpy as np\n",
    "# Create a 5x5 matrix with row values ranging from 0 to 4\n",
    "matrix = np.zeros((5, 5))\n",
    "for i in range(5):\n",
    "    matrix[i] = i\n",
    "# Print the resulting matrix\n",
    "print(matrix)"
   ]
  },
  {
   "cell_type": "code",
   "execution_count": null,
   "id": "c001c9e1",
   "metadata": {},
   "outputs": [],
   "source": [
    "#Question-11\n",
    "# Write a NumPy program to move axes of an array to new positions. Other axes remain in their original order.\n",
    "# Expected Output:\n",
    "# (3, 4, 2)\n",
    "# (4, 2, 3)"
   ]
  },
  {
   "cell_type": "code",
   "execution_count": 22,
   "id": "94565acb",
   "metadata": {},
   "outputs": [
    {
     "name": "stdout",
     "output_type": "stream",
     "text": [
      "(3, 4, 2)\n",
      "(3, 2, 4)\n"
     ]
    }
   ],
   "source": [
    "import numpy as np\n",
    "# Create a sample array\n",
    "arr = np.random.randint(10, size=(3, 4, 2))\n",
    "# Move the second axis to the first position, and the first axis to the last position\n",
    "new_arr = np.moveaxis(arr, (1, 0), (-1, 0))\n",
    "# Print the shapes of the original and new arrays\n",
    "print(arr.shape)\n",
    "print(new_arr.shape)"
   ]
  },
  {
   "cell_type": "code",
   "execution_count": 23,
   "id": "4654cd4d",
   "metadata": {},
   "outputs": [],
   "source": [
    "#Question-12\n",
    "# Write a NumPy program to view inputs as arrays with at least two dimensions, three dimensions."
   ]
  },
  {
   "cell_type": "code",
   "execution_count": 24,
   "id": "11e9e73b",
   "metadata": {},
   "outputs": [
    {
     "name": "stdout",
     "output_type": "stream",
     "text": [
      "(5,)\n",
      "(1, 5)\n",
      "(1, 5, 1)\n"
     ]
    }
   ],
   "source": [
    "import numpy as np\n",
    "# Define a 1-dimensional array\n",
    "arr1d = np.array([1, 2, 3, 4, 5])\n",
    "# View the array as a 2-dimensional array\n",
    "arr2d = np.atleast_2d(arr1d)\n",
    "# View the array as a 3-dimensional array\n",
    "arr3d = np.atleast_3d(arr1d)\n",
    "# Print the shapes of the arrays\n",
    "print(arr1d.shape)\n",
    "print(arr2d.shape)\n",
    "print(arr3d.shape)"
   ]
  },
  {
   "cell_type": "code",
   "execution_count": null,
   "id": "760f145c",
   "metadata": {},
   "outputs": [],
   "source": [
    "#Question-13\n",
    "# Write a NumPy program to create a 4x4 array, now create a new array from the said array swapping first and last, \n",
    "# second and third columns."
   ]
  },
  {
   "cell_type": "code",
   "execution_count": 25,
   "id": "7ddfae14",
   "metadata": {},
   "outputs": [
    {
     "name": "stdout",
     "output_type": "stream",
     "text": [
      "Original array:\n",
      "[[ 1  2  3  4]\n",
      " [ 5  6  7  8]\n",
      " [ 9 10 11 12]\n",
      " [13 14 15 16]]\n",
      "New array after swapping columns:\n",
      "[[ 4  2  3  1]\n",
      " [ 8  6  7  5]\n",
      " [12 10 11  9]\n",
      " [16 14 15 13]]\n"
     ]
    }
   ],
   "source": [
    "import numpy as np\n",
    "# create a 4x4 array\n",
    "arr = np.arange(1, 17).reshape(4, 4)\n",
    "print(\"Original array:\")\n",
    "print(arr)\n",
    "# create a new array from the original array swapping columns\n",
    "new_arr = arr[:, [3, 1, 2, 0]]\n",
    "print(\"New array after swapping columns:\")\n",
    "print(new_arr)"
   ]
  },
  {
   "cell_type": "code",
   "execution_count": 26,
   "id": "e9046ff0",
   "metadata": {},
   "outputs": [],
   "source": [
    "#Question-14\n",
    "# Write a NumPy program to multiply two given arrays of the same size element-by-element."
   ]
  },
  {
   "cell_type": "code",
   "execution_count": 27,
   "id": "cf24bf89",
   "metadata": {},
   "outputs": [
    {
     "name": "stdout",
     "output_type": "stream",
     "text": [
      "[ 4 10 18]\n"
     ]
    }
   ],
   "source": [
    "import numpy as np\n",
    "# Create two arrays of the same size\n",
    "arr1 = np.array([1, 2, 3])\n",
    "arr2 = np.array([4, 5, 6])\n",
    "# Multiply the arrays element-by-element\n",
    "result = arr1 * arr2\n",
    "# Print the result\n",
    "print(result)"
   ]
  },
  {
   "cell_type": "code",
   "execution_count": 28,
   "id": "c971fe6e",
   "metadata": {},
   "outputs": [],
   "source": [
    "#Question-15\n",
    "# Write a NumPy program to create a 4x4 matrix in which 0 and 1 are staggered, with zeros on the main diagonal."
   ]
  },
  {
   "cell_type": "code",
   "execution_count": 29,
   "id": "8fb62fac",
   "metadata": {},
   "outputs": [
    {
     "name": "stdout",
     "output_type": "stream",
     "text": [
      "[[0 1 0 1]\n",
      " [1 0 1 0]\n",
      " [0 1 0 1]\n",
      " [1 0 1 0]]\n"
     ]
    }
   ],
   "source": [
    "import numpy as np\n",
    "# create a 4x4 array of zeros\n",
    "arr = np.zeros((4, 4), dtype=int)\n",
    "# fill the array with the staggered pattern\n",
    "arr[::2, 1::2] = 1\n",
    "arr[1::2, ::2] = 1\n",
    "# print the resulting array\n",
    "print(arr)"
   ]
  },
  {
   "cell_type": "code",
   "execution_count": null,
   "id": "f1c9afd8",
   "metadata": {},
   "outputs": [],
   "source": []
  },
  {
   "cell_type": "code",
   "execution_count": null,
   "id": "e6093607",
   "metadata": {},
   "outputs": [],
   "source": []
  }
 ],
 "metadata": {
  "kernelspec": {
   "display_name": "Python 3 (ipykernel)",
   "language": "python",
   "name": "python3"
  },
  "language_info": {
   "codemirror_mode": {
    "name": "ipython",
    "version": 3
   },
   "file_extension": ".py",
   "mimetype": "text/x-python",
   "name": "python",
   "nbconvert_exporter": "python",
   "pygments_lexer": "ipython3",
   "version": "3.9.12"
  }
 },
 "nbformat": 4,
 "nbformat_minor": 5
}
