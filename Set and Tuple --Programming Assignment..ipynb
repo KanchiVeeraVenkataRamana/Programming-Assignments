{
 "cells": [
  {
   "cell_type": "code",
   "execution_count": null,
   "id": "52b5d1b8",
   "metadata": {},
   "outputs": [],
   "source": [
    "#Question 1\n",
    "# Using union operation add to sets containing the values of days of weeks;"
   ]
  },
  {
   "cell_type": "code",
   "execution_count": 1,
   "id": "cc68e644",
   "metadata": {},
   "outputs": [
    {
     "name": "stdout",
     "output_type": "stream",
     "text": [
      "{'wednesday', 'sunday', 'monday', 'friday', 'saturday', 'tuesday', 'thursday'}\n"
     ]
    }
   ],
   "source": [
    "a={'monday','tuesday','wednesday'}\n",
    "b={'thursday','friday','saturday','sunday'}\n",
    "print(a|b)"
   ]
  },
  {
   "cell_type": "code",
   "execution_count": null,
   "id": "679c7e08",
   "metadata": {},
   "outputs": [],
   "source": [
    "#Question-2\n",
    "# Initilize a set having months as values from January to At, then add the rest of months to it:\n",
    "#   InitilizeTheSet = (‘January’, ‘February’,’March’)"
   ]
  },
  {
   "cell_type": "code",
   "execution_count": null,
   "id": "35ae7629",
   "metadata": {},
   "outputs": [],
   "source": [
    "init_set = {'January', 'February', 'March', 'April', 'May', 'June', 'July', 'August'}\n",
    "init_set.update({'September', 'October', 'November', 'December'})\n",
    "print(init_set)"
   ]
  },
  {
   "cell_type": "code",
   "execution_count": null,
   "id": "130aad2f",
   "metadata": {},
   "outputs": [],
   "source": [
    "#Question-3\n",
    "# Create a freeze set containg name of weeks and delete the last elemnt of the set:"
   ]
  },
  {
   "cell_type": "code",
   "execution_count": 2,
   "id": "215c3fb3",
   "metadata": {},
   "outputs": [
    {
     "name": "stdout",
     "output_type": "stream",
     "text": [
      "frozenset({'Friday', 'Tuesday', 'Sunday', 'Saturday', 'Wednesday', 'Thursday'})\n"
     ]
    }
   ],
   "source": [
    "weekdays = frozenset([\"Monday\", \"Tuesday\", \"Wednesday\", \"Thursday\", \"Friday\", \"Saturday\", \"Sunday\"])\n",
    "weekdays = frozenset(list(weekdays)[:-1])\n",
    "print(weekdays)"
   ]
  },
  {
   "cell_type": "code",
   "execution_count": null,
   "id": "6786fdeb",
   "metadata": {},
   "outputs": [],
   "source": [
    "#Question 4\n",
    "# Make a set containing week days and print the values from Monday to Sunday Hint: use frozenset"
   ]
  },
  {
   "cell_type": "code",
   "execution_count": 7,
   "id": "18fc2abe",
   "metadata": {},
   "outputs": [
    {
     "name": "stdout",
     "output_type": "stream",
     "text": [
      "frozenset({'wednesday', 'sunday', 'saturday', 'monday', 'friday', 'tuesday', 'thursday'})\n"
     ]
    }
   ],
   "source": [
    "days={'sunday','monday','tuesday','wednesday','thursday','friday','saturday'}\n",
    "fnum=frozenset(days)\n",
    "print(fnum)"
   ]
  },
  {
   "cell_type": "code",
   "execution_count": 8,
   "id": "f362a859",
   "metadata": {},
   "outputs": [],
   "source": [
    "#Question-5\n",
    "# Find if the value h is in the given tuple: Valuee = (‘EkeedaIsTheBest’)"
   ]
  },
  {
   "cell_type": "code",
   "execution_count": 11,
   "id": "7b037bad",
   "metadata": {},
   "outputs": [
    {
     "name": "stdout",
     "output_type": "stream",
     "text": [
      "'h' is present in the tuple\n"
     ]
    }
   ],
   "source": [
    "Valuee = ('EkeedaIsTheBest',)\n",
    "if 'h' in Valuee[0]:\n",
    "    print(\"'h' is present in the tuple\")\n",
    "else:\n",
    "    print(\"'h' is not present in the tuple\")"
   ]
  },
  {
   "cell_type": "code",
   "execution_count": null,
   "id": "e05c3497",
   "metadata": {},
   "outputs": [],
   "source": [
    "#Question 6\n",
    "#Print the tuple values 5 times  Value = (‘ekeeda’’)"
   ]
  },
  {
   "cell_type": "code",
   "execution_count": 6,
   "id": "c5e5c229",
   "metadata": {},
   "outputs": [
    {
     "name": "stdout",
     "output_type": "stream",
     "text": [
      "('ekeeda', 'ekeeda', 'ekeeda', 'ekeeda', 'ekeeda')\n"
     ]
    }
   ],
   "source": [
    "value=('ekeeda',)\n",
    "print(value*5)"
   ]
  },
  {
   "cell_type": "code",
   "execution_count": null,
   "id": "437a90dc",
   "metadata": {},
   "outputs": [],
   "source": [
    "#Question 7\n",
    "# Return a set of elements that are not present in both sets A and B:\n",
    "# A = {30, 40, 50, 60, 70}\n",
    "# B = {10, 20, 30, 40, 50}"
   ]
  },
  {
   "cell_type": "code",
   "execution_count": 12,
   "id": "9ea92fe3",
   "metadata": {},
   "outputs": [
    {
     "name": "stdout",
     "output_type": "stream",
     "text": [
      "{20, 70, 10, 60}\n"
     ]
    }
   ],
   "source": [
    "A={30,40,50,60,70}\n",
    "B={10,20,30,40,50}\n",
    "print(A^B)"
   ]
  },
  {
   "cell_type": "code",
   "execution_count": null,
   "id": "07244a00",
   "metadata": {},
   "outputs": [],
   "source": [
    "#Question-8\n",
    "#Add a list of elements to a set;\n",
    "# sett= {\"a\", \"b\", \"c\"}\n",
    "# li = [\"x\", \"y\", \"z\"]"
   ]
  },
  {
   "cell_type": "code",
   "execution_count": 13,
   "id": "8b75f0fb",
   "metadata": {},
   "outputs": [
    {
     "name": "stdout",
     "output_type": "stream",
     "text": [
      "{'b', 'a', ('x', 'y', 'z'), 'c'}\n"
     ]
    }
   ],
   "source": [
    "sett={'a','b','c'}\n",
    "li=('x','y','z')\n",
    "sett.add(li)\n",
    "print(sett)"
   ]
  },
  {
   "cell_type": "code",
   "execution_count": 14,
   "id": "63b27866",
   "metadata": {},
   "outputs": [],
   "source": [
    "#Question-9\n",
    "# Write a Python program to find the total number of times an item appeared in the tuple. Item= 2, 4, 5, 6, 2, 3, 4, 4, 7 "
   ]
  },
  {
   "cell_type": "code",
   "execution_count": 15,
   "id": "a22ec87c",
   "metadata": {},
   "outputs": [
    {
     "name": "stdout",
     "output_type": "stream",
     "text": [
      "9\n"
     ]
    }
   ],
   "source": [
    "item=(2,4,5,6,2,3,4,4,7)\n",
    "print(len(item))"
   ]
  },
  {
   "cell_type": "code",
   "execution_count": null,
   "id": "df1dec18",
   "metadata": {},
   "outputs": [],
   "source": [
    "#Question-10\n",
    "# Tuple operations; Var = ('p','r','o','g','r','a','m','i','n’, ‘i’,’s’,’f’,’u’,’n').\n",
    "# Print values between 5-8; 6-11; 5-9"
   ]
  },
  {
   "cell_type": "code",
   "execution_count": 16,
   "id": "8b3b3498",
   "metadata": {},
   "outputs": [
    {
     "name": "stdout",
     "output_type": "stream",
     "text": [
      "('a', 'm', 'i')\n",
      "('m', 'i', 'n', 'i', 's')\n",
      "('a', 'm', 'i', 'n')\n"
     ]
    }
   ],
   "source": [
    "var=('p','r','o','g','r','a','m','i','n','i','s','f','u','n')\n",
    "print(var[5:8])\n",
    "print(var[6:11])\n",
    "print(var[5:9])"
   ]
  },
  {
   "cell_type": "code",
   "execution_count": null,
   "id": "7ea25e97",
   "metadata": {},
   "outputs": [],
   "source": [
    "#Question-11\n",
    "# Remove the elements from the set in single operation: set1 = {10, 20, 30, 40, 50}"
   ]
  },
  {
   "cell_type": "code",
   "execution_count": 19,
   "id": "d9d7a06e",
   "metadata": {},
   "outputs": [
    {
     "name": "stdout",
     "output_type": "stream",
     "text": [
      "set()\n"
     ]
    }
   ],
   "source": [
    "set1={10,20,30,40,50}\n",
    "set1.clear()\n",
    "print(set1)"
   ]
  },
  {
   "cell_type": "code",
   "execution_count": null,
   "id": "79fde295",
   "metadata": {},
   "outputs": [],
   "source": [
    "#Question-12\n",
    "# Evaluate if the values in the tuple are same: Tup = (11,11,11,11,11)"
   ]
  },
  {
   "cell_type": "code",
   "execution_count": 20,
   "id": "84536ee2",
   "metadata": {},
   "outputs": [
    {
     "name": "stdout",
     "output_type": "stream",
     "text": [
      "11\n",
      "11\n",
      "11\n",
      "11\n",
      "11\n"
     ]
    }
   ],
   "source": [
    "Tup=(11,11,11,11,11)\n",
    "print(Tup[0])\n",
    "print(Tup[1])\n",
    "print(Tup[2])\n",
    "print(Tup[3])\n",
    "print(Tup[4])"
   ]
  },
  {
   "cell_type": "code",
   "execution_count": null,
   "id": "0d579975",
   "metadata": {},
   "outputs": [],
   "source": [
    "#Question-13\n",
    "# Sort a tuple of tuple of tuples based on the second item in it : tup = ((x, 20), (y, 10), ('y', 45), ('z', 33))"
   ]
  },
  {
   "cell_type": "code",
   "execution_count": 24,
   "id": "b88e9b2d",
   "metadata": {},
   "outputs": [
    {
     "name": "stdout",
     "output_type": "stream",
     "text": [
      "[('y', 10), ('x', 20), ('z', 33), ('y', 45)]\n"
     ]
    }
   ],
   "source": [
    "tup = (('x', 20), ('y', 10), ('y', 45), ('z', 33))\n",
    "sorted_tup = sorted(tup, key=lambda x: x[1])\n",
    "print(sorted_tup)"
   ]
  },
  {
   "cell_type": "code",
   "execution_count": null,
   "id": "62370c50",
   "metadata": {},
   "outputs": [],
   "source": [
    "#Question-14\n",
    "# Write a Python program to see if the given sets have no common elements?\n",
    "# x = {1,2,3,4}\n",
    "# y = {4,5,6,7}\n",
    "# z = {8,9,10}"
   ]
  },
  {
   "cell_type": "code",
   "execution_count": 25,
   "id": "7ad70dfa",
   "metadata": {},
   "outputs": [
    {
     "name": "stdout",
     "output_type": "stream",
     "text": [
      "set()\n"
     ]
    }
   ],
   "source": [
    "x={1,2,3,4}\n",
    "y={4,5,6,7}\n",
    "z={8,9,10}\n",
    "print(x&y&z)"
   ]
  },
  {
   "cell_type": "code",
   "execution_count": null,
   "id": "fea0c3a4",
   "metadata": {},
   "outputs": [],
   "source": [
    "#Question-15\n",
    "# Write a Python program to compute the sum of nested tuples: nums = [(1,2,22), (2,44,-44), (2,4), (2,2,2,2.2)]"
   ]
  },
  {
   "cell_type": "code",
   "execution_count": 26,
   "id": "2ce4032f",
   "metadata": {},
   "outputs": [
    {
     "name": "stdout",
     "output_type": "stream",
     "text": [
      "Sum of nested tuples: 41.2\n"
     ]
    }
   ],
   "source": [
    "nums = [(1, 2, 22), (2, 44, -44), (2, 4), (2, 2, 2, 2.2)]\n",
    "total = 0\n",
    "for tup in nums:\n",
    "    for item in tup:\n",
    "        total += item\n",
    "print(\"Sum of nested tuples:\", total)"
   ]
  },
  {
   "cell_type": "code",
   "execution_count": null,
   "id": "79d181d9",
   "metadata": {},
   "outputs": [],
   "source": []
  }
 ],
 "metadata": {
  "kernelspec": {
   "display_name": "Python 3 (ipykernel)",
   "language": "python",
   "name": "python3"
  },
  "language_info": {
   "codemirror_mode": {
    "name": "ipython",
    "version": 3
   },
   "file_extension": ".py",
   "mimetype": "text/x-python",
   "name": "python",
   "nbconvert_exporter": "python",
   "pygments_lexer": "ipython3",
   "version": "3.9.12"
  }
 },
 "nbformat": 4,
 "nbformat_minor": 5
}
