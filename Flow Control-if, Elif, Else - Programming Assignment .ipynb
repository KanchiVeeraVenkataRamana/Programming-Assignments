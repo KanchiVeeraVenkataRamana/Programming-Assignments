{
 "cells": [
  {
   "cell_type": "code",
   "execution_count": null,
   "id": "eacf797a",
   "metadata": {},
   "outputs": [],
   "source": [
    "#Question-1\n",
    "# Accept three sides of a triangle and check whether it is an equilateral, isosceles or scalene triangle.\n",
    "# Note :\n",
    "# An equilateral triangle is a triangle in which all three sides are equal.\n",
    "# A scalene triangle is a triangle that has three unequal sides.\n",
    "# An isosceles triangle is a triangle with (at least) two equal sides."
   ]
  },
  {
   "cell_type": "code",
   "execution_count": 1,
   "id": "98d3c2fb",
   "metadata": {},
   "outputs": [
    {
     "name": "stdout",
     "output_type": "stream",
     "text": [
      "Enter the length of side a: 3\n",
      "Enter the length of side b: 3\n",
      "Enter the length of side c: 3\n",
      "It is an equilateral triangle.\n"
     ]
    }
   ],
   "source": [
    "a = float(input(\"Enter the length of side a: \")) #Accept three sides of a triangle\n",
    "b = float(input(\"Enter the length of side b: \"))\n",
    "c = float(input(\"Enter the length of side c: \"))\n",
    "if a == b == c:                                 #Check doe equilateral Triangle\n",
    "    print(\"It is an equilateral triangle.\")\n",
    "elif a == b or b == c or c == a:               #Check for isosceles triangle\n",
    "    print(\"It is an isosceles triangle.\")\n",
    "else:                                         #Check for scalene triangle\n",
    "    print(\"It is a scalene triangle.\")"
   ]
  },
  {
   "cell_type": "code",
   "execution_count": null,
   "id": "7bd0ba7a",
   "metadata": {},
   "outputs": [],
   "source": [
    "#Question-2\n",
    "# Write a program to display the last digit of a number.\n",
    "# (hint : any number % 10 will return the last digit)."
   ]
  },
  {
   "cell_type": "code",
   "execution_count": 2,
   "id": "a0767ded",
   "metadata": {},
   "outputs": [
    {
     "name": "stdout",
     "output_type": "stream",
     "text": [
      "Enter a number: 238\n",
      "The last digit of 238 is 8\n"
     ]
    }
   ],
   "source": [
    "num = int(input(\"Enter a number: \"))                 #Accept the number from the user\n",
    "last_digit = num % 10                                #Calculate the last digit\n",
    "print(\"The last digit of\", num, \"is\", last_digit)    #Display the last digit"
   ]
  },
  {
   "cell_type": "code",
   "execution_count": null,
   "id": "9bb5774c",
   "metadata": {},
   "outputs": [],
   "source": [
    "#Question-3\n",
    "# Write a program to check whether the last digit of a number( entered by user ) is divisible by 3 or not."
   ]
  },
  {
   "cell_type": "code",
   "execution_count": 3,
   "id": "136d8102",
   "metadata": {},
   "outputs": [
    {
     "name": "stdout",
     "output_type": "stream",
     "text": [
      "Enter a number: 89\n",
      "The last digit of 89 is divisible by 3\n"
     ]
    }
   ],
   "source": [
    "num = int(input(\"Enter a number: \"))                        #Accept the number from the user\n",
    "last_digit = num % 10                                       #Calculate the last digit\n",
    "if last_digit % 3 == 0:                                     #Check whether the last digit is divisible by 3 or not\n",
    "    print(\"The last digit of\", num, \"is divisible by 3\")\n",
    "else:\n",
    "    print(\"The last digit of\", num, \"is not divisible by 3\")"
   ]
  },
  {
   "cell_type": "code",
   "execution_count": 4,
   "id": "aa942ad9",
   "metadata": {},
   "outputs": [],
   "source": [
    "#Question-4\n",
    "# Write a python code to check whether 13 is a prime number or not?"
   ]
  },
  {
   "cell_type": "code",
   "execution_count": 5,
   "id": "64f9471e",
   "metadata": {},
   "outputs": [
    {
     "name": "stdout",
     "output_type": "stream",
     "text": [
      "13 is a prime number\n"
     ]
    }
   ],
   "source": [
    "def is_prime(n):                                  #Define a function to check whether a number is prime or not\n",
    "    if n <= 1:\n",
    "        return False\n",
    "    for i in range(2, int(n ** 0.5) + 1):\n",
    "        if n % i == 0:\n",
    "            return False\n",
    "    return True\n",
    "\n",
    "if is_prime(13):                                #Check whether 13 is a prime number or not\n",
    "    print(\"13 is a prime number\")\n",
    "else:\n",
    "    print(\"13 is not a prime number\")\n"
   ]
  },
  {
   "cell_type": "code",
   "execution_count": null,
   "id": "aa1abefd",
   "metadata": {},
   "outputs": [],
   "source": [
    "#Question-5\n",
    "# Write a python program for the following:\n",
    "# a. if x is even and positive  take a square root , \n",
    "# b.if x is odd and positive  take cube root \n",
    "# c.if x is negative , take absolute of it and then take square root of it "
   ]
  },
  {
   "cell_type": "code",
   "execution_count": 1,
   "id": "c77afc81",
   "metadata": {},
   "outputs": [
    {
     "name": "stdout",
     "output_type": "stream",
     "text": [
      "Enter a number: 37\n",
      "The cube root of 37 is 3.33\n"
     ]
    }
   ],
   "source": [
    "import math\n",
    "x = int(input(\"Enter a number: \"))\n",
    "if x > 0:\n",
    "    if x % 2 == 0:\n",
    "        result = math.sqrt(x)\n",
    "        print(f\"The square root of {x} is {result:.2f}\")\n",
    "    else:\n",
    "        result = math.pow(x, 1/3)\n",
    "        print(f\"The cube root of {x} is {result:.2f}\")\n",
    "elif x < 0:\n",
    "    abs_x = abs(x)\n",
    "    result = math.sqrt(abs_x)\n",
    "    print(f\"The square root of the absolute value of {x} is {result:.2f}\")\n",
    "else:\n",
    "    print(\"The number is zero.\")"
   ]
  },
  {
   "cell_type": "code",
   "execution_count": null,
   "id": "0894cfff",
   "metadata": {},
   "outputs": [],
   "source": [
    "#Question-6\n",
    "# Write a Python program to display the sign of the Chinese Zodiac for given year in which you were born.\n",
    "#(year-0- zodiac sign- dragon)\n",
    "# 1-snake,2-horse,3-sheep,4-monkey,5-rooster,6-dog,7-pig,8-rat,9-ox,10-tiger)"
   ]
  },
  {
   "cell_type": "code",
   "execution_count": 2,
   "id": "20fa042f",
   "metadata": {},
   "outputs": [
    {
     "name": "stdout",
     "output_type": "stream",
     "text": [
      "Enter the year in which you were born: 2001\n",
      "You were born in the year of the rooster.\n"
     ]
    }
   ],
   "source": [
    "year = int(input(\"Enter the year in which you were born: \"))\n",
    "zodiac_signs = {0: \"dragon\",1: \"snake\",2: \"horse\",3: \"sheep\",4: \"monkey\",5: \"rooster\",6: \"dog\",7: \"pig\",8: \"rat\",9: \"ox\",\n",
    "                10: \"tiger\"}\n",
    "zodiac_year = (year - 4) % 12\n",
    "sign = zodiac_signs[zodiac_year]\n",
    "print(f\"You were born in the year of the {sign}.\")"
   ]
  },
  {
   "cell_type": "code",
   "execution_count": 3,
   "id": "3d9dba46",
   "metadata": {},
   "outputs": [],
   "source": [
    "#Question-7\n",
    "# Write a program to check whether a number is positive, negative or zero (use if-elif)"
   ]
  },
  {
   "cell_type": "code",
   "execution_count": 4,
   "id": "76af0bbf",
   "metadata": {},
   "outputs": [
    {
     "name": "stdout",
     "output_type": "stream",
     "text": [
      "Enter a number: 38\n",
      "38.0 is positive.\n"
     ]
    }
   ],
   "source": [
    "num = float(input(\"Enter a number: \"))\n",
    "if num > 0:\n",
    "    print(f\"{num} is positive.\")\n",
    "elif num < 0:\n",
    "    print(f\"{num} is negative.\")\n",
    "else:\n",
    "    print(\"The number is zero.\")"
   ]
  },
  {
   "cell_type": "code",
   "execution_count": 5,
   "id": "97c42b25",
   "metadata": {},
   "outputs": [],
   "source": [
    "#Question-8\n",
    "# Write a code to print the maximum of two numbers (use if-else)."
   ]
  },
  {
   "cell_type": "code",
   "execution_count": 6,
   "id": "b5f441ca",
   "metadata": {},
   "outputs": [
    {
     "name": "stdout",
     "output_type": "stream",
     "text": [
      "Enter the first number: 43\n",
      "Enter the second number: 21\n",
      "43.0 is greater than 21.0.\n"
     ]
    }
   ],
   "source": [
    "num1 = float(input(\"Enter the first number: \"))\n",
    "num2 = float(input(\"Enter the second number: \"))\n",
    "if num1 > num2:\n",
    "    print(f\"{num1} is greater than {num2}.\")\n",
    "else:\n",
    "    print(f\"{num2} is greater than {num1}.\")"
   ]
  },
  {
   "cell_type": "code",
   "execution_count": 7,
   "id": "24054c7b",
   "metadata": {},
   "outputs": [],
   "source": [
    "#Question-9\n",
    "# Write a program to check whether a given number is multiple of 7 (use if statement)"
   ]
  },
  {
   "cell_type": "code",
   "execution_count": 8,
   "id": "60b8f0f7",
   "metadata": {},
   "outputs": [
    {
     "name": "stdout",
     "output_type": "stream",
     "text": [
      "Enter a number: 45\n",
      "45 is not a multiple of 7\n"
     ]
    }
   ],
   "source": [
    "num = int(input(\"Enter a number: \"))          #Take the input number from the user\n",
    "if num % 7 == 0:                              #Check whether the number is a multiple of 7\n",
    "    print(num, \"is a multiple of 7\")\n",
    "else:\n",
    "    print(num, \"is not a multiple of 7\")"
   ]
  },
  {
   "cell_type": "code",
   "execution_count": null,
   "id": "24b0059e",
   "metadata": {},
   "outputs": [],
   "source": [
    "#Question-10\n",
    "# Write a Python program to check whether an alphabet is a vowel or consonant."
   ]
  },
  {
   "cell_type": "code",
   "execution_count": 10,
   "id": "dd69844e",
   "metadata": {},
   "outputs": [
    {
     "name": "stdout",
     "output_type": "stream",
     "text": [
      "Enter an alphabet: r\n",
      "r is a consonant\n"
     ]
    }
   ],
   "source": [
    "alphabet = input(\"Enter an alphabet: \")        #Get input from user\n",
    "if alphabet in ('a', 'e', 'i', 'o', 'u'):      #Check if the alphabet is a vowel\n",
    "    print(alphabet, \"is a vowel\")\n",
    "else:                                          #If the alphabet is not a vowel, it is a consonant\n",
    "    print(alphabet, \"is a consonant\")"
   ]
  },
  {
   "cell_type": "code",
   "execution_count": 11,
   "id": "aa531f54",
   "metadata": {},
   "outputs": [],
   "source": [
    "#Question-11\n",
    "# Write a Python program to calculate a dog's age in dog's years.\n",
    "# Note: For the first two years, a dog year is equal to 10.5 human years. After that, each dog year equals 4 human years.\n",
    "# Expected Output:\n",
    "# Input a dog's age in human years: 15  \n",
    "# The dog's age in dog's years is 73"
   ]
  },
  {
   "cell_type": "code",
   "execution_count": 12,
   "id": "64868808",
   "metadata": {},
   "outputs": [
    {
     "name": "stdout",
     "output_type": "stream",
     "text": [
      "Input a dog's age in human years: 54\n",
      "The dog's age in dog's years is 229\n"
     ]
    }
   ],
   "source": [
    "human_years = int(input(\"Input a dog's age in human years: \"))      #Get input from user\n",
    "if human_years <= 2:                                                #Calculate the dog's age in dog's years\n",
    "    dog_years = human_years * 10.5\n",
    "else:\n",
    "    dog_years = 21 + (human_years - 2) * 4\n",
    "print(\"The dog's age in dog's years is\", dog_years)                 #Print the dog's age in dog's years"
   ]
  },
  {
   "cell_type": "code",
   "execution_count": 13,
   "id": "7763d53b",
   "metadata": {},
   "outputs": [],
   "source": [
    "#Question-12\n",
    "# Write a Python program to find the median of three values."
   ]
  },
  {
   "cell_type": "code",
   "execution_count": 14,
   "id": "01b88332",
   "metadata": {},
   "outputs": [
    {
     "name": "stdout",
     "output_type": "stream",
     "text": [
      "Enter the first value: 43\n",
      "Enter the second value: 32\n",
      "Enter the third value: 12\n",
      "The median is 32.0\n"
     ]
    }
   ],
   "source": [
    "a = float(input(\"Enter the first value: \"))        #Get input from user\n",
    "b = float(input(\"Enter the second value: \"))\n",
    "c = float(input(\"Enter the third value: \"))\n",
    "if a <= b <= c or c <= b <= a:                    #Find the median\n",
    "    median = b\n",
    "elif b <= a <= c or c <= a <= b:\n",
    "    median = a\n",
    "else:\n",
    "    median = c\n",
    "print(\"The median is\", median)                   #Print the median"
   ]
  },
  {
   "cell_type": "code",
   "execution_count": 15,
   "id": "58ae68ed",
   "metadata": {},
   "outputs": [],
   "source": [
    "#Question-13\n",
    "# Write a Python program to check if a string represents an integer or not."
   ]
  },
  {
   "cell_type": "code",
   "execution_count": 16,
   "id": "d31e95ad",
   "metadata": {},
   "outputs": [
    {
     "name": "stdout",
     "output_type": "stream",
     "text": [
      "Enter a string: 45\n",
      "The string represents an integer\n"
     ]
    }
   ],
   "source": [
    "string = input(\"Enter a string: \")                      #Get input from user\n",
    "try:                                                    # Check if the string represents an integer\n",
    "    integer = int(string)   \n",
    "    print(\"The string represents an integer\")\n",
    "except ValueError:\n",
    "    print(\"The string does not represent an integer\")"
   ]
  },
  {
   "cell_type": "code",
   "execution_count": 17,
   "id": "9cd5fa90",
   "metadata": {},
   "outputs": [],
   "source": [
    "#Question-14\n",
    "# Write a Python program to sum of two given integers. However, if the sum is between 15 to 20 it will return 20."
   ]
  },
  {
   "cell_type": "code",
   "execution_count": 18,
   "id": "8b3057ea",
   "metadata": {},
   "outputs": [
    {
     "name": "stdout",
     "output_type": "stream",
     "text": [
      "Enter the first number: 45\n",
      "Enter the second number: 32\n",
      "The sum is 77\n"
     ]
    }
   ],
   "source": [
    "num1 = int(input(\"Enter the first number: \"))           #Get input from user\n",
    "num2 = int(input(\"Enter the second number: \"))\n",
    "sum = num1 + num2                                       #Calculate the sum\n",
    "if sum in range(15, 21):                                #Check if the sum is between 15 and 20\n",
    "    sum = 20\n",
    "print(\"The sum is\", sum)                                #Print the sum"
   ]
  },
  {
   "cell_type": "code",
   "execution_count": 19,
   "id": "bf29e180",
   "metadata": {},
   "outputs": [],
   "source": [
    "#Question-15\n",
    "# Write a Python program to count the number of even and odd numbers from a series of numbers."
   ]
  },
  {
   "cell_type": "code",
   "execution_count": 20,
   "id": "5b52276c",
   "metadata": {},
   "outputs": [
    {
     "name": "stdout",
     "output_type": "stream",
     "text": [
      "Enter a series of numbers separated by spaces: 43\n",
      "Number of even numbers: 0\n",
      "Number of odd numbers: 1\n"
     ]
    }
   ],
   "source": [
    "numbers = input(\"Enter a series of numbers separated by spaces: \")    #Get input from user\n",
    "numbers_list = list(map(int, numbers.split()))                        #Convert the input to a list of integers\n",
    "even_count = 0                                                        #Initialize counters\n",
    "odd_count = 0\n",
    "for num in numbers_list:                                               #Loop through the list of numbers\n",
    "    if num % 2 == 0:\n",
    "        even_count += 1\n",
    "    else:\n",
    "        odd_count += 1\n",
    "print(\"Number of even numbers:\", even_count)                          #Print the counts\n",
    "print(\"Number of odd numbers:\", odd_count)"
   ]
  },
  {
   "cell_type": "code",
   "execution_count": null,
   "id": "e074da33",
   "metadata": {},
   "outputs": [],
   "source": []
  },
  {
   "cell_type": "code",
   "execution_count": null,
   "id": "e38bbb59",
   "metadata": {},
   "outputs": [],
   "source": []
  }
 ],
 "metadata": {
  "kernelspec": {
   "display_name": "Python 3 (ipykernel)",
   "language": "python",
   "name": "python3"
  },
  "language_info": {
   "codemirror_mode": {
    "name": "ipython",
    "version": 3
   },
   "file_extension": ".py",
   "mimetype": "text/x-python",
   "name": "python",
   "nbconvert_exporter": "python",
   "pygments_lexer": "ipython3",
   "version": "3.9.12"
  }
 },
 "nbformat": 4,
 "nbformat_minor": 5
}
