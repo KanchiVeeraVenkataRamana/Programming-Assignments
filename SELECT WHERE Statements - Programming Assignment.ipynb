{
 "cells": [
  {
   "cell_type": "code",
   "execution_count": null,
   "id": "289c790e",
   "metadata": {},
   "outputs": [],
   "source": [
    "#Question-1\n",
    "# Select all the columns from the table Customers where the country is Germany and City is Berlin."
   ]
  },
  {
   "cell_type": "code",
   "execution_count": null,
   "id": "16a4707d",
   "metadata": {},
   "outputs": [],
   "source": [
    "SELECT * FROM Customers \n",
    "WHERE Country='Germany' AND City='Berlin';"
   ]
  },
  {
   "cell_type": "code",
   "execution_count": null,
   "id": "3900dc00",
   "metadata": {},
   "outputs": [],
   "source": [
    "#Question-2\n",
    "# Write a query to find out the city where the city is Paris and London from the Customers table"
   ]
  },
  {
   "cell_type": "code",
   "execution_count": null,
   "id": "47eb3483",
   "metadata": {},
   "outputs": [],
   "source": [
    "SELECT City FROM Customers WHERE City = 'Paris' OR City = 'London';"
   ]
  },
  {
   "cell_type": "code",
   "execution_count": null,
   "id": "e8a92744",
   "metadata": {},
   "outputs": [],
   "source": [
    "#Question-3\n",
    "# Write a query to find out ProductName and SupllierID from table Products where supplierID is not equal to 1"
   ]
  },
  {
   "cell_type": "code",
   "execution_count": null,
   "id": "65ccce61",
   "metadata": {},
   "outputs": [],
   "source": [
    "SELECT ProductName, SupplierID\n",
    "FROM Products\n",
    "WHERE SupplierID <> 1;"
   ]
  },
  {
   "cell_type": "code",
   "execution_count": null,
   "id": "71b74163",
   "metadata": {},
   "outputs": [],
   "source": [
    "#Question-4\n",
    "# Write a query to find out the prices between 50 and 100 from the products table"
   ]
  },
  {
   "cell_type": "code",
   "execution_count": null,
   "id": "60b0411b",
   "metadata": {},
   "outputs": [],
   "source": [
    "SELECT * FROM products WHERE price BETWEEN 50 AND 100;"
   ]
  },
  {
   "cell_type": "code",
   "execution_count": null,
   "id": "1d774c05",
   "metadata": {},
   "outputs": [],
   "source": [
    "#Question-5\n",
    "# Write a query to find out the price of items that are not equal to 30 from the products table."
   ]
  },
  {
   "cell_type": "code",
   "execution_count": null,
   "id": "55182089",
   "metadata": {},
   "outputs": [],
   "source": [
    "SELECT price FROM products WHERE price <> 30;"
   ]
  },
  {
   "cell_type": "code",
   "execution_count": null,
   "id": "b38fd068",
   "metadata": {},
   "outputs": [],
   "source": [
    "#Question-6\n",
    "# Write a statement to find out the price of a product greater than 50"
   ]
  },
  {
   "cell_type": "code",
   "execution_count": null,
   "id": "5a94cb90",
   "metadata": {},
   "outputs": [],
   "source": [
    "SELECT price FROM products WHERE price > 50;"
   ]
  },
  {
   "cell_type": "code",
   "execution_count": null,
   "id": "cd7102c4",
   "metadata": {},
   "outputs": [],
   "source": [
    "#Question-7\n",
    "# Write a query to find out the price of items greater than 30 and equal to 30 from the products table."
   ]
  },
  {
   "cell_type": "code",
   "execution_count": null,
   "id": "3192a343",
   "metadata": {},
   "outputs": [],
   "source": [
    "SELECT price FROM products WHERE price >= 30;"
   ]
  },
  {
   "cell_type": "code",
   "execution_count": null,
   "id": "ed6a2412",
   "metadata": {},
   "outputs": [],
   "source": [
    "#Question-8\n",
    "# Write a statement and get a price from the product table where the price is greater than 30"
   ]
  },
  {
   "cell_type": "code",
   "execution_count": null,
   "id": "fdeb1966",
   "metadata": {},
   "outputs": [],
   "source": [
    "SELECT price FROM products WHERE price > 30 LIMIT 1;"
   ]
  },
  {
   "cell_type": "code",
   "execution_count": null,
   "id": "9eb8c5b5",
   "metadata": {},
   "outputs": [],
   "source": [
    "#Question-9\n",
    "# Write a statement to find the fruit which is red on the basket table"
   ]
  },
  {
   "cell_type": "code",
   "execution_count": null,
   "id": "dff5e432",
   "metadata": {},
   "outputs": [],
   "source": [
    "SELECT fruit FROM basket WHERE color = 'red';"
   ]
  },
  {
   "cell_type": "code",
   "execution_count": null,
   "id": "d3c834c8",
   "metadata": {},
   "outputs": [],
   "source": [
    "#Question-10\n",
    "# Write a SQL statement to select all the customers from the country \"USA\", in the \"Clients\" table:"
   ]
  },
  {
   "cell_type": "code",
   "execution_count": null,
   "id": "b34ba413",
   "metadata": {},
   "outputs": [],
   "source": [
    "SELECT * FROM Clients WHERE country = 'USA';"
   ]
  },
  {
   "cell_type": "code",
   "execution_count": null,
   "id": "8e832198",
   "metadata": {},
   "outputs": [],
   "source": []
  },
  {
   "cell_type": "code",
   "execution_count": null,
   "id": "c10eab97",
   "metadata": {},
   "outputs": [],
   "source": []
  },
  {
   "cell_type": "code",
   "execution_count": null,
   "id": "52adf420",
   "metadata": {},
   "outputs": [],
   "source": []
  },
  {
   "cell_type": "code",
   "execution_count": null,
   "id": "44e7e648",
   "metadata": {},
   "outputs": [],
   "source": []
  },
  {
   "cell_type": "code",
   "execution_count": null,
   "id": "62e92ba8",
   "metadata": {},
   "outputs": [],
   "source": []
  },
  {
   "cell_type": "code",
   "execution_count": null,
   "id": "26006e1a",
   "metadata": {},
   "outputs": [],
   "source": []
  },
  {
   "cell_type": "code",
   "execution_count": null,
   "id": "4e2863b7",
   "metadata": {},
   "outputs": [],
   "source": []
  }
 ],
 "metadata": {
  "kernelspec": {
   "display_name": "Python 3 (ipykernel)",
   "language": "python",
   "name": "python3"
  },
  "language_info": {
   "codemirror_mode": {
    "name": "ipython",
    "version": 3
   },
   "file_extension": ".py",
   "mimetype": "text/x-python",
   "name": "python",
   "nbconvert_exporter": "python",
   "pygments_lexer": "ipython3",
   "version": "3.9.12"
  }
 },
 "nbformat": 4,
 "nbformat_minor": 5
}
