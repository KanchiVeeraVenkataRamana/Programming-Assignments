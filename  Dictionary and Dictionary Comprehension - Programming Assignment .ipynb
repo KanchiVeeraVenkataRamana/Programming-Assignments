{
 "cells": [
  {
   "cell_type": "code",
   "execution_count": null,
   "id": "ca395f64",
   "metadata": {},
   "outputs": [],
   "source": [
    "#Question-1\n",
    "# Use dictionary comprehension to make dictionary from following keys and values given;\n",
    "# keys = ['E','K','E','E','D','A']\n",
    "# values = [1,2,3,4,5,6]"
   ]
  },
  {
   "cell_type": "code",
   "execution_count": 2,
   "id": "cd96f581",
   "metadata": {},
   "outputs": [
    {
     "name": "stdout",
     "output_type": "stream",
     "text": [
      "{'E': 4, 'K': 2, 'D': 5, 'A': 6}\n"
     ]
    }
   ],
   "source": [
    "keys=['E','K','E','E','D','A']\n",
    "values=[1,2,3,4,5,6]\n",
    "dict={key1:value1 for(key1,value1) in zip(keys,values)}\n",
    "print(dict)"
   ]
  },
  {
   "cell_type": "code",
   "execution_count": null,
   "id": "50847923",
   "metadata": {},
   "outputs": [],
   "source": [
    "#Question-2\n",
    "# Write a Python program to add a key to a dictionary.\n",
    "# Dicti = {0:’a’, 1:’a’}"
   ]
  },
  {
   "cell_type": "code",
   "execution_count": 3,
   "id": "377b1934",
   "metadata": {},
   "outputs": [
    {
     "name": "stdout",
     "output_type": "stream",
     "text": [
      "{0: 'a', 1: 'a'}\n",
      "{'E': 4, 'K': 2, 'D': 5, 'A': 6, 2: 'a'}\n"
     ]
    }
   ],
   "source": [
    "dicti={0:\"a\",1:'a'}\n",
    "new_dict={**dict,**{2:'a'}}\n",
    "print(dicti)\n",
    "print(new_dict)"
   ]
  },
  {
   "cell_type": "code",
   "execution_count": 4,
   "id": "3a8c2528",
   "metadata": {},
   "outputs": [],
   "source": [
    "#Question-3\n",
    "# Write a program to concatenate the given dictionaries;\n",
    "# dictt1={1:10, 2:20}\n",
    "# dictt2={3:30, 4:40}\n",
    "# dictt3={5:50,6:60}"
   ]
  },
  {
   "cell_type": "code",
   "execution_count": 7,
   "id": "20dce25d",
   "metadata": {},
   "outputs": [
    {
     "name": "stdout",
     "output_type": "stream",
     "text": [
      "{1: 10, 2: 20, 3: 30, 4: 40, 5: 50, 6: 60}\n"
     ]
    }
   ],
   "source": [
    "dictt1 = {1: 10, 2: 20}\n",
    "dictt2 = {3: 30, 4: 40}\n",
    "dictt3 = {5: 50, 6: 60}\n",
    "result_dict = {}\n",
    "for d in (dictt1, dictt2, dictt3):\n",
    "    result_dict.update(d)\n",
    "print(result_dict)"
   ]
  },
  {
   "cell_type": "code",
   "execution_count": 8,
   "id": "5015d523",
   "metadata": {},
   "outputs": [],
   "source": [
    "#Question-4\n",
    "# Write a Python program to convert given a dictionary to a list of tuples"
   ]
  },
  {
   "cell_type": "code",
   "execution_count": 9,
   "id": "77ed6c71",
   "metadata": {},
   "outputs": [
    {
     "name": "stdout",
     "output_type": "stream",
     "text": [
      "[('venky', 507), ('shyam', 503), ('chandu', 502)]\n"
     ]
    }
   ],
   "source": [
    "dict={'venky':507,'shyam':503,'chandu':502}\n",
    "list=[(k,v) for k,v in dict.items()]\n",
    "print(list)"
   ]
  },
  {
   "cell_type": "code",
   "execution_count": 10,
   "id": "2ad61cfc",
   "metadata": {},
   "outputs": [],
   "source": [
    "#Question-5\n",
    "# Write a program to make dictionary ranging between keys 7-14(both excluded) and the values are square of the keys"
   ]
  },
  {
   "cell_type": "code",
   "execution_count": 11,
   "id": "ff316b76",
   "metadata": {},
   "outputs": [
    {
     "name": "stdout",
     "output_type": "stream",
     "text": [
      "{7: 49, 8: 64, 9: 81, 10: 100, 11: 121, 12: 144, 13: 169}\n"
     ]
    }
   ],
   "source": [
    "dict={i:i**2 for i in range(7,14)}\n",
    "print(dict)"
   ]
  },
  {
   "cell_type": "code",
   "execution_count": 12,
   "id": "8914a264",
   "metadata": {},
   "outputs": [],
   "source": [
    "#Question-6\n",
    "# Write a program to create a dictionary containing some values and add all the value from that dictionary;"
   ]
  },
  {
   "cell_type": "code",
   "execution_count": 17,
   "id": "0003d19b",
   "metadata": {},
   "outputs": [
    {
     "name": "stdout",
     "output_type": "stream",
     "text": [
      "{0: 0, 1: 1, 2: 4, 3: 9, 4: 16, 5: 25, 6: 36, 7: 49, 8: 64, 9: 81}\n",
      "sum: 285\n"
     ]
    }
   ],
   "source": [
    "dict={i:i**2 for i in range(10)}\n",
    "print(dict)\n",
    "sum = sum(dict.values())\n",
    "print('sum:',sum)"
   ]
  },
  {
   "cell_type": "code",
   "execution_count": null,
   "id": "2a8dd40e",
   "metadata": {},
   "outputs": [],
   "source": [
    "#Question-7\n",
    "# From the dictionary given below, sort the elements based on the keys;\n",
    "#    dictt = {‘dh’:5, ‘ani’:6,’zimb’: 8}"
   ]
  },
  {
   "cell_type": "code",
   "execution_count": null,
   "id": "9ad7e0fc",
   "metadata": {},
   "outputs": [],
   "source": [
    "dictt = {'dh': 5, 'ani': 6, 'zimb': 8}\n",
    "sorted_dict = dict(sorted(dictt.items()))\n",
    "print(\"Original dictionary:\", dictt)\n",
    "print(\"Sorted dictionary:\", sorted_dict)"
   ]
  },
  {
   "cell_type": "code",
   "execution_count": null,
   "id": "80e18859",
   "metadata": {},
   "outputs": [],
   "source": [
    "#Question-8\n",
    "# Create a data for 2 students using dictionary and print it line by line;"
   ]
  },
  {
   "cell_type": "code",
   "execution_count": 28,
   "id": "3b706412",
   "metadata": {},
   "outputs": [
    {
     "name": "stdout",
     "output_type": "stream",
     "text": [
      "venky : 54\n",
      "lakshmi : 92\n"
     ]
    }
   ],
   "source": [
    "student={'venky':54,'lakshmi':92}\n",
    "for key,value in student.items():\n",
    "    print(key,':',value)"
   ]
  },
  {
   "cell_type": "code",
   "execution_count": null,
   "id": "4227bd0e",
   "metadata": {},
   "outputs": [],
   "source": [
    "#Question-9\n",
    "# Print a dictionary with key values in a table manner;\n",
    "# dict_num = {1: ‘a’, 2: ‘b’, 3: ‘c’, 4: ‘d’, 5: ‘e’, 6: ‘f’}"
   ]
  },
  {
   "cell_type": "code",
   "execution_count": 30,
   "id": "564e1e90",
   "metadata": {},
   "outputs": [
    {
     "name": "stdout",
     "output_type": "stream",
     "text": [
      "Key        Value     \n",
      "1          a         \n",
      "2          b         \n",
      "3          c         \n",
      "4          d         \n",
      "5          e         \n",
      "6          f         \n"
     ]
    }
   ],
   "source": [
    "dict_num = {1: 'a', 2: 'b', 3: 'c', 4: 'd', 5: 'e', 6: 'f'}\n",
    "print(\"{:<10} {:<10}\".format(\"Key\", \"Value\"))\n",
    "for k, v in dict_num.items():\n",
    "    print(\"{:<10} {:<10}\".format(k, v))"
   ]
  },
  {
   "cell_type": "code",
   "execution_count": null,
   "id": "6f93cc96",
   "metadata": {},
   "outputs": [],
   "source": [
    "#Question-10\n",
    "# Print the dictionary where we drop the empty value from the dictionary;\n",
    "#    dict_num = {1: ‘a’, 2: ‘b’, 3: ‘c’, 4: ‘d’, 5: ‘e’, 6: None}"
   ]
  },
  {
   "cell_type": "code",
   "execution_count": 32,
   "id": "f69da634",
   "metadata": {},
   "outputs": [
    {
     "name": "stdout",
     "output_type": "stream",
     "text": [
      "Original dictionary: {1: 'a', 2: 'b', 3: 'c', 4: 'd', 5: 'e', 6: None}\n",
      "Filtered dictionary: {1: 'a', 2: 'b', 3: 'c', 4: 'd', 5: 'e'}\n"
     ]
    }
   ],
   "source": [
    "dict_num = {1: 'a', 2: 'b', 3: 'c', 4: 'd', 5: 'e', 6: None}\n",
    "filtered_dict = {k: v for k, v in dict_num.items() if v is not None}\n",
    "print(\"Original dictionary:\", dict_num)\n",
    "print(\"Filtered dictionary:\", filtered_dict)"
   ]
  },
  {
   "cell_type": "code",
   "execution_count": null,
   "id": "81b87c6d",
   "metadata": {},
   "outputs": [],
   "source": [
    "#Question-11\n",
    "# Check if there’s a particular value in a dict;"
   ]
  },
  {
   "cell_type": "code",
   "execution_count": 33,
   "id": "0711d654",
   "metadata": {},
   "outputs": [
    {
     "name": "stdout",
     "output_type": "stream",
     "text": [
      "Value found in the dictionary\n"
     ]
    }
   ],
   "source": [
    "my_dict = {'a': 10, 'b': 20, 'c': 30, 'd': 40}\n",
    "search_value = 20\n",
    "if search_value in my_dict.values():\n",
    "    print(\"Value found in the dictionary\")\n",
    "else:\n",
    "    print(\"Value not found in the dictionary\")"
   ]
  },
  {
   "cell_type": "code",
   "execution_count": 34,
   "id": "2ba6e586",
   "metadata": {},
   "outputs": [],
   "source": [
    "#Question-12\n",
    "# Check the key for the minimum value in a dictionary;\n",
    "#   dictt = {'Physics': 82,'Math': 65,'history': 75}"
   ]
  },
  {
   "cell_type": "code",
   "execution_count": 35,
   "id": "ec6e5973",
   "metadata": {},
   "outputs": [
    {
     "name": "stdout",
     "output_type": "stream",
     "text": [
      "(65,)\n"
     ]
    }
   ],
   "source": [
    "dictt={'Physics':82,'Math':65,'history':75}\n",
    "print((min(zip(dictt.values()))))"
   ]
  },
  {
   "cell_type": "code",
   "execution_count": 36,
   "id": "13ca50b0",
   "metadata": {},
   "outputs": [],
   "source": [
    "#Question-13\n",
    "# Write a program to add multiple keys into dictionary;\n",
    "# dictt= {'person':{ \"Name\" : \"Simulen\", \"City\" : \"CA\", \"Country\" : \"USA\"}}"
   ]
  },
  {
   "cell_type": "code",
   "execution_count": 38,
   "id": "3d78d450",
   "metadata": {},
   "outputs": [
    {
     "name": "stdout",
     "output_type": "stream",
     "text": [
      "{'person': {'Name': 'Simulen', 'City': 'CA', 'Country': 'USA', 'Age': 25, 'Gender': 'Male'}}\n"
     ]
    }
   ],
   "source": [
    "dictt = {'person':{ \"Name\" : \"Simulen\", \"City\" : \"CA\",  \"Country\" : \"USA\"}}\n",
    "# Adding multiple keys to the dictionary\n",
    "dictt['person']['Age'] = 25\n",
    "dictt['person']['Gender'] = 'Male'\n",
    "print(dictt)"
   ]
  },
  {
   "cell_type": "code",
   "execution_count": null,
   "id": "c2ed41d8",
   "metadata": {},
   "outputs": [],
   "source": [
    "#Question-14\n",
    "# Convert string to dictionary ;\n",
    "# stringg= ‘ekeeda’"
   ]
  },
  {
   "cell_type": "code",
   "execution_count": 39,
   "id": "19d1ff25",
   "metadata": {},
   "outputs": [
    {
     "name": "stdout",
     "output_type": "stream",
     "text": [
      "{'e': 3, 'k': 1, 'd': 1, 'a': 1}\n"
     ]
    }
   ],
   "source": [
    "stringg = 'ekeeda'\n",
    "# Converting string to dictionary\n",
    "my_dict = {char: stringg.count(char) for char in stringg}\n",
    "print(my_dict)"
   ]
  },
  {
   "cell_type": "code",
   "execution_count": 40,
   "id": "0a8e6785",
   "metadata": {},
   "outputs": [],
   "source": [
    "#Question-15\n",
    "# Create a dictionary having Values=key*key and keys ranging from 1 to n"
   ]
  },
  {
   "cell_type": "code",
   "execution_count": 41,
   "id": "7f8570c6",
   "metadata": {},
   "outputs": [
    {
     "name": "stdout",
     "output_type": "stream",
     "text": [
      "{1: 1, 2: 4, 3: 9, 4: 16, 5: 25}\n"
     ]
    }
   ],
   "source": [
    "n = 5\n",
    "# Creating dictionary with values = key*key\n",
    "my_dict = {key: key*key for key in range(1, n+1)}\n",
    "print(my_dict)"
   ]
  },
  {
   "cell_type": "code",
   "execution_count": null,
   "id": "5e881c7d",
   "metadata": {},
   "outputs": [],
   "source": []
  },
  {
   "cell_type": "code",
   "execution_count": null,
   "id": "be4e862a",
   "metadata": {},
   "outputs": [],
   "source": []
  },
  {
   "cell_type": "code",
   "execution_count": null,
   "id": "6da277e7",
   "metadata": {},
   "outputs": [],
   "source": []
  }
 ],
 "metadata": {
  "kernelspec": {
   "display_name": "Python 3 (ipykernel)",
   "language": "python",
   "name": "python3"
  },
  "language_info": {
   "codemirror_mode": {
    "name": "ipython",
    "version": 3
   },
   "file_extension": ".py",
   "mimetype": "text/x-python",
   "name": "python",
   "nbconvert_exporter": "python",
   "pygments_lexer": "ipython3",
   "version": "3.9.12"
  }
 },
 "nbformat": 4,
 "nbformat_minor": 5
}
