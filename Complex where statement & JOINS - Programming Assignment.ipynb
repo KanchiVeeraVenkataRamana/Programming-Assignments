{
 "cells": [
  {
   "cell_type": "code",
   "execution_count": null,
   "id": "06be339a",
   "metadata": {},
   "outputs": [],
   "source": [
    "#Question-1\n",
    "# REFER THE FOLLOWING DATABASES:\n",
    "# Drive link for the “products” table: SQL where statement database(products).xlsx\n",
    "# Drive link for the “customer” table:SQL where statement database(customer).xlsx\n",
    "# Drive link for the “orders” table: Joins(Orders table).xlsx\n",
    "# Using a very popular dataset “Northwind sample database” perform a self join in “Customers” table\n",
    "# Write a SQL statement to matched customers that are from the same city:"
   ]
  },
  {
   "cell_type": "code",
   "execution_count": null,
   "id": "85fe4484",
   "metadata": {},
   "outputs": [],
   "source": [
    "SELECT DISTINCT c1.CustomerID, c1.ContactName, c1.City, c2.CustomerID, c2.ContactName\n",
    "FROM Customers c1, Customers c2\n",
    "WHERE c1.City = c2.City AND c1.CustomerID <> c2.CustomerID\n",
    "ORDER BY c1.City;"
   ]
  },
  {
   "cell_type": "code",
   "execution_count": null,
   "id": "845a17fd",
   "metadata": {},
   "outputs": [],
   "source": [
    "#Question-2\n",
    "# Write a Right join SQL query to specify that we want to perform a RIGHT JOIN, specifically looking for \n",
    "# matches between the departments table and the employees table. DepartmentID is common in both tables"
   ]
  },
  {
   "cell_type": "code",
   "execution_count": null,
   "id": "6f20ae30",
   "metadata": {},
   "outputs": [],
   "source": [
    "SELECT *FROM departments\n",
    "RIGHT JOIN employees\n",
    "ON departments.DepartmentID = employees.DepartmentID;"
   ]
  },
  {
   "cell_type": "code",
   "execution_count": null,
   "id": "c7e2ab80",
   "metadata": {},
   "outputs": [],
   "source": [
    "#Question-3\n",
    "# We have two tables:\n",
    "# employees - This table contains each employee’s ID, name, and department ID.\n",
    "# departments - This table contains each department’s ID and name\n",
    "# try to find a column that exists in each of the tables. In this example, it is the department_id column"
   ]
  },
  {
   "cell_type": "code",
   "execution_count": null,
   "id": "6b046913",
   "metadata": {},
   "outputs": [],
   "source": [
    "SELECT employees.name, departments.name\n",
    "FROM employees\n",
    "INNER JOIN departments\n",
    "ON employees.department_id = departments.id;"
   ]
  },
  {
   "cell_type": "code",
   "execution_count": null,
   "id": "c0aa725b",
   "metadata": {},
   "outputs": [],
   "source": [
    "#Question-4\n",
    "# Write a SQL statement to join two tables Customers and orders, select all customerName from the customer,\n",
    "# ordersId from orders, and any orders they might have: Left join using unique customerID column in both the tables \n",
    "# and order the CustomersName by Ascending."
   ]
  },
  {
   "cell_type": "code",
   "execution_count": null,
   "id": "16567f4b",
   "metadata": {},
   "outputs": [],
   "source": [
    "SELECT Customers.customerName, Orders.orderId\n",
    "FROM Customers\n",
    "LEFT JOIN Orders ON Customers.customerID = Orders.customerID\n",
    "ORDER BY Customers.customerName ASC;"
   ]
  },
  {
   "cell_type": "code",
   "execution_count": null,
   "id": "9a61276e",
   "metadata": {},
   "outputs": [],
   "source": [
    "#Question-5\n",
    "# REFER THE FOLLOWING DATABASES:\n",
    "# Drive link for the “products” table: SQL where statement database(products).xlsx\n",
    "# Drive link for the “customer” table:SQL where statement database(customer).xlsx\n",
    "# Drive link for the “orders” table: Joins(Orders table).xlsx\n",
    "# Write a SQL statement, to join the two tables using inner join: Customer table with Orders table both have customerID \n",
    "# common in them and extract OrderID, OrderDate from Orders, CustomerName from Customers."
   ]
  },
  {
   "cell_type": "code",
   "execution_count": null,
   "id": "3c14894d",
   "metadata": {},
   "outputs": [],
   "source": [
    "SELECT Orders.OrderID, Orders.OrderDate, Customers.CustomerName \n",
    "FROM Orders \n",
    "INNER JOIN Customers ON Orders.CustomerID = Customers.CustomerID;"
   ]
  },
  {
   "cell_type": "code",
   "execution_count": null,
   "id": "3ee680ff",
   "metadata": {},
   "outputs": [],
   "source": []
  },
  {
   "cell_type": "code",
   "execution_count": null,
   "id": "3edd756e",
   "metadata": {},
   "outputs": [],
   "source": []
  }
 ],
 "metadata": {
  "kernelspec": {
   "display_name": "Python 3 (ipykernel)",
   "language": "python",
   "name": "python3"
  },
  "language_info": {
   "codemirror_mode": {
    "name": "ipython",
    "version": 3
   },
   "file_extension": ".py",
   "mimetype": "text/x-python",
   "name": "python",
   "nbconvert_exporter": "python",
   "pygments_lexer": "ipython3",
   "version": "3.9.12"
  }
 },
 "nbformat": 4,
 "nbformat_minor": 5
}
