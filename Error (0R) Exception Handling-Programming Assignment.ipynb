{
 "cells": [
  {
   "cell_type": "code",
   "execution_count": null,
   "id": "7eb817a4",
   "metadata": {},
   "outputs": [],
   "source": [
    "#Question-1\n",
    "#Is it possible to keep other statements in between ‘try’, ‘catch’, and ‘finally’ blocks?"
   ]
  },
  {
   "cell_type": "code",
   "execution_count": 1,
   "id": "9ae7fb48",
   "metadata": {},
   "outputs": [
    {
     "name": "stdout",
     "output_type": "stream",
     "text": [
      "This is the try block.\n",
      "This is the except block.\n",
      "This is the finally block.\n",
      "This is a statement outside the blocks.\n"
     ]
    }
   ],
   "source": [
    "try:\n",
    "    # Code block with potential errors\n",
    "    print(\"This is the try block.\")\n",
    "    x = 1/0  # This will raise a ZeroDivisionError\n",
    "    print(\"This line will not be executed.\")\n",
    "except ZeroDivisionError:\n",
    "    # Code block to handle the error\n",
    "    print(\"This is the except block.\")\n",
    "finally:\n",
    "    # Code block that always executes, with or without errors\n",
    "    print(\"This is the finally block.\")\n",
    "    \n",
    "# Other statements outside the try-catch-finally blocks\n",
    "print(\"This is a statement outside the blocks.\")"
   ]
  },
  {
   "cell_type": "code",
   "execution_count": null,
   "id": "66c8c0a0",
   "metadata": {},
   "outputs": [],
   "source": [
    "#Question-2\n",
    "# How to catch specific exception? Give one example"
   ]
  },
  {
   "cell_type": "code",
   "execution_count": 2,
   "id": "c2376f63",
   "metadata": {},
   "outputs": [
    {
     "name": "stdout",
     "output_type": "stream",
     "text": [
      "Enter a number: 12\n",
      "0.8333333333333334\n"
     ]
    }
   ],
   "source": [
    "try:\n",
    "    x = int(input(\"Enter a number: \"))\n",
    "    result = 10 / x\n",
    "    print(result)\n",
    "except ValueError:\n",
    "    print(\"You entered an invalid number.\")\n",
    "except ZeroDivisionError:\n",
    "    print(\"You cannot divide by zero.\")"
   ]
  },
  {
   "cell_type": "code",
   "execution_count": null,
   "id": "9f40eeaa",
   "metadata": {},
   "outputs": [],
   "source": [
    "try:\n",
    "    # Some code that might raise exceptions\n",
    "except (ValueError, ZeroDivisionError):\n",
    "    # Handling code for both ValueError and ZeroDivisionError"
   ]
  },
  {
   "cell_type": "code",
   "execution_count": null,
   "id": "7e99bb13",
   "metadata": {},
   "outputs": [],
   "source": [
    "#Question-3\n",
    "# How to Handle multiple exceptions with a single except clause ? Give one example, We can also handle multiple exceptions \n",
    "# with a single except clause. For that, we can use a tuple of values to specify multiple exceptions in an except clause."
   ]
  },
  {
   "cell_type": "code",
   "execution_count": 9,
   "id": "a1fbe437",
   "metadata": {},
   "outputs": [
    {
     "name": "stdout",
     "output_type": "stream",
     "text": [
      "Enter a number: 0.34\n",
      "Invalid input. Please enter a non-zero number.\n"
     ]
    }
   ],
   "source": [
    "try:\n",
    "    x = int(input(\"Enter a number: \"))\n",
    "    result = 10 / x\n",
    "    print(result)\n",
    "except (ValueError, ZeroDivisionError):\n",
    "    print(\"Invalid input. Please enter a non-zero number.\")"
   ]
  },
  {
   "cell_type": "code",
   "execution_count": null,
   "id": "ee8a249c",
   "metadata": {},
   "outputs": [],
   "source": [
    "#Question-4\n",
    "# Try showing one example of Using try with finally"
   ]
  },
  {
   "cell_type": "code",
   "execution_count": 5,
   "id": "099402de",
   "metadata": {},
   "outputs": [],
   "source": [
    "file = None\n",
    "try:\n",
    "    # Open a file for writing\n",
    "    file = open(\"example.txt\", \"w\")\n",
    "    file.write(\"This is some example text.\")\n",
    "finally:\n",
    "    # Close the file, whether there was an exception or not\n",
    "    if file:\n",
    "        file.close()"
   ]
  },
  {
   "cell_type": "code",
   "execution_count": null,
   "id": "33fde95b",
   "metadata": {},
   "outputs": [],
   "source": [
    "#Question-5\n",
    "# How to customize Exception Classes?"
   ]
  },
  {
   "cell_type": "code",
   "execution_count": 6,
   "id": "7b3a309d",
   "metadata": {},
   "outputs": [
    {
     "name": "stdout",
     "output_type": "stream",
     "text": [
      "An error occurred: Something went wrong.\n"
     ]
    }
   ],
   "source": [
    "class MyCustomException(Exception):\n",
    "    def __init__(self, message):\n",
    "        self.message = message\n",
    "\n",
    "try:\n",
    "    # Some code that might raise MyCustomException\n",
    "    raise MyCustomException(\"Something went wrong.\")\n",
    "except MyCustomException as e:\n",
    "    print(\"An error occurred:\", e.message)"
   ]
  },
  {
   "cell_type": "code",
   "execution_count": null,
   "id": "226858ea",
   "metadata": {},
   "outputs": [],
   "source": [
    "#Question-6\n",
    "# Every syntax error is an exception but every exception cannot be a syntax error.” Justify the statement."
   ]
  },
  {
   "cell_type": "code",
   "execution_count": 10,
   "id": "41fd4324",
   "metadata": {},
   "outputs": [
    {
     "name": "stdout",
     "output_type": "stream",
     "text": [
      "Enter a number: 0\n",
      "Cannot divide by zero!\n"
     ]
    }
   ],
   "source": [
    "# Exception example\n",
    "try:\n",
    "    num = int(input(\"Enter a number: \"))\n",
    "    result = 10 / num\n",
    "    print(\"The result is:\", result)\n",
    "except ZeroDivisionError:\n",
    "    print(\"Cannot divide by zero!\")"
   ]
  },
  {
   "cell_type": "code",
   "execution_count": null,
   "id": "e2bab937",
   "metadata": {},
   "outputs": [],
   "source": [
    "# Syntax error example\n",
    "print(\"Hello world!'"
   ]
  },
  {
   "cell_type": "code",
   "execution_count": null,
   "id": "04f09d8b",
   "metadata": {},
   "outputs": [],
   "source": [
    "#Question-7\n",
    "# When are the following built-in exceptions raised? Give examples to support your answers.\n",
    "# a) ImportErrorb) IOErrorc) NameErrord) ZeroDivisionError"
   ]
  },
  {
   "cell_type": "code",
   "execution_count": 11,
   "id": "ddc1b13e",
   "metadata": {},
   "outputs": [
    {
     "name": "stdout",
     "output_type": "stream",
     "text": [
      "Module not found!\n"
     ]
    }
   ],
   "source": [
    "# Example of ImportError\n",
    "try:\n",
    "    import non_existing_module\n",
    "except ImportError:\n",
    "    print(\"Module not found!\")"
   ]
  },
  {
   "cell_type": "code",
   "execution_count": 12,
   "id": "842be050",
   "metadata": {},
   "outputs": [
    {
     "name": "stdout",
     "output_type": "stream",
     "text": [
      "File not found or could not be read!\n"
     ]
    }
   ],
   "source": [
    "# Example of IOError\n",
    "try:\n",
    "    file = open(\"non_existing_file.txt\", \"r\")\n",
    "    file.read()\n",
    "    file.close()\n",
    "except IOError:\n",
    "    print(\"File not found or could not be read!\")"
   ]
  },
  {
   "cell_type": "code",
   "execution_count": 13,
   "id": "e2cc6ff5",
   "metadata": {},
   "outputs": [
    {
     "name": "stdout",
     "output_type": "stream",
     "text": [
      "Variable not defined!\n"
     ]
    }
   ],
   "source": [
    "# Example of NameError\n",
    "try:\n",
    "    print(non_existing_variable)\n",
    "except NameError:\n",
    "    print(\"Variable not defined!\")"
   ]
  },
  {
   "cell_type": "code",
   "execution_count": 14,
   "id": "e7d78d84",
   "metadata": {},
   "outputs": [
    {
     "name": "stdout",
     "output_type": "stream",
     "text": [
      "Cannot divide by zero!\n"
     ]
    }
   ],
   "source": [
    "# Example of ZeroDivisionError\n",
    "try:\n",
    "    result = 10 / 0\n",
    "except ZeroDivisionError:\n",
    "    print(\"Cannot divide by zero!\")"
   ]
  },
  {
   "cell_type": "code",
   "execution_count": null,
   "id": "b4443954",
   "metadata": {},
   "outputs": [],
   "source": [
    "#Question-8\n",
    "# What is the use of a raise statement? Write a code to accept two numbers and display the quotient. Appropriate exception \n",
    "# should be raised if the user enters the second number (denominator) as zero (0)."
   ]
  },
  {
   "cell_type": "code",
   "execution_count": 15,
   "id": "0bba66e0",
   "metadata": {},
   "outputs": [
    {
     "name": "stdout",
     "output_type": "stream",
     "text": [
      "Enter the numerator: 48\n",
      "Enter the denominator: 32\n",
      "The quotient is: 1.5\n"
     ]
    }
   ],
   "source": [
    "try:\n",
    "    # Accept two numbers from the user\n",
    "    num1 = int(input(\"Enter the numerator: \"))\n",
    "    num2 = int(input(\"Enter the denominator: \"))\n",
    "     # Check if the denominator is zero, raise ZeroDivisionError\n",
    "    if num2 == 0:\n",
    "        raise ZeroDivisionError(\"Denominator cannot be zero!\")\n",
    "    # Calculate the quotient\n",
    "    quotient = num1 / num2\n",
    "    # Display the quotient\n",
    "    print(\"The quotient is:\", quotient)\n",
    "except ValueError:\n",
    "    print(\"Invalid input! Please enter integers only.\")\n",
    "except ZeroDivisionError as e:\n",
    "    print(e)"
   ]
  },
  {
   "cell_type": "code",
   "execution_count": null,
   "id": "ede7d8d3",
   "metadata": {},
   "outputs": [],
   "source": [
    "#Question-9\n",
    "# Use assert statement in Question No. 3 to test the division expression in the program."
   ]
  },
  {
   "cell_type": "code",
   "execution_count": 16,
   "id": "3f500bdc",
   "metadata": {},
   "outputs": [
    {
     "name": "stdout",
     "output_type": "stream",
     "text": [
      "Enter the numerator: 13\n",
      "Enter the denominator: 12\n",
      "The quotient is: 1.0833333333333333\n"
     ]
    }
   ],
   "source": [
    "try:\n",
    "    # Accept two numbers from the user\n",
    "    num1 = int(input(\"Enter the numerator: \"))\n",
    "    num2 = int(input(\"Enter the denominator: \"))\n",
    "    # Check if the denominator is zero, raise ZeroDivisionError\n",
    "    if num2 == 0:\n",
    "        raise ZeroDivisionError(\"Denominator cannot be zero!\")\n",
    "    # Calculate the quotient\n",
    "    quotient = num1 / num2\n",
    "    # Display the quotient\n",
    "    print(\"The quotient is:\", quotient)\n",
    "    # Test the division expression using assert statements\n",
    "    assert quotient == num1 / num2\n",
    "    assert quotient == float(num1) / float(num2)\n",
    "    assert abs(quotient - (num1 / num2)) < 0.0001\n",
    "except ValueError:\n",
    "    print(\"Invalid input! Please enter integers only.\")\n",
    "except ZeroDivisionError as e:\n",
    "    print(e)"
   ]
  },
  {
   "cell_type": "code",
   "execution_count": null,
   "id": "23d30bd6",
   "metadata": {},
   "outputs": [],
   "source": [
    "#Question-10\n",
    "# Define the following:a) Exception Handling b)Throwing an exception c)Catching an exception"
   ]
  },
  {
   "cell_type": "code",
   "execution_count": 17,
   "id": "629c4757",
   "metadata": {},
   "outputs": [
    {
     "name": "stdout",
     "output_type": "stream",
     "text": [
      "Enter a number: 3\n",
      "Enter another number: 4\n",
      "Result:  0.75\n"
     ]
    }
   ],
   "source": [
    "try:\n",
    "    x = int(input(\"Enter a number: \"))\n",
    "    y = int(input(\"Enter another number: \"))\n",
    "    result = x / y\n",
    "    print(\"Result: \", result)\n",
    "except ZeroDivisionError:\n",
    "    print(\"Error: division by zero!\")"
   ]
  },
  {
   "cell_type": "code",
   "execution_count": 18,
   "id": "041991f1",
   "metadata": {},
   "outputs": [
    {
     "ename": "ValueError",
     "evalue": "x should not exceed 5",
     "output_type": "error",
     "traceback": [
      "\u001b[1;31m---------------------------------------------------------------------------\u001b[0m",
      "\u001b[1;31mValueError\u001b[0m                                Traceback (most recent call last)",
      "Input \u001b[1;32mIn [18]\u001b[0m, in \u001b[0;36m<cell line: 2>\u001b[1;34m()\u001b[0m\n\u001b[0;32m      1\u001b[0m x \u001b[38;5;241m=\u001b[39m \u001b[38;5;241m10\u001b[39m\n\u001b[0;32m      2\u001b[0m \u001b[38;5;28;01mif\u001b[39;00m x \u001b[38;5;241m>\u001b[39m \u001b[38;5;241m5\u001b[39m:\n\u001b[1;32m----> 3\u001b[0m     \u001b[38;5;28;01mraise\u001b[39;00m \u001b[38;5;167;01mValueError\u001b[39;00m(\u001b[38;5;124m\"\u001b[39m\u001b[38;5;124mx should not exceed 5\u001b[39m\u001b[38;5;124m\"\u001b[39m)\n",
      "\u001b[1;31mValueError\u001b[0m: x should not exceed 5"
     ]
    }
   ],
   "source": [
    "x = 10\n",
    "if x > 5:\n",
    "    raise ValueError(\"x should not exceed 5\")"
   ]
  },
  {
   "cell_type": "code",
   "execution_count": 19,
   "id": "b3c22bb7",
   "metadata": {},
   "outputs": [
    {
     "name": "stdout",
     "output_type": "stream",
     "text": [
      "Enter a number: sd\n",
      "Error: invalid input!\n"
     ]
    }
   ],
   "source": [
    "try:\n",
    "    x = int(input(\"Enter a number: \"))\n",
    "    y = int(input(\"Enter another number: \"))\n",
    "    result = x / y\n",
    "    print(\"Result: \", result)\n",
    "except ZeroDivisionError:\n",
    "    print(\"Error: division by zero!\")\n",
    "except ValueError:\n",
    "    print(\"Error: invalid input!\")\n",
    "except:\n",
    "    print(\"An error occurred!\")"
   ]
  },
  {
   "cell_type": "code",
   "execution_count": null,
   "id": "813bf040",
   "metadata": {},
   "outputs": [],
   "source": []
  },
  {
   "cell_type": "code",
   "execution_count": null,
   "id": "67e254f5",
   "metadata": {},
   "outputs": [],
   "source": []
  },
  {
   "cell_type": "code",
   "execution_count": null,
   "id": "cfe8e5d9",
   "metadata": {},
   "outputs": [],
   "source": []
  },
  {
   "cell_type": "code",
   "execution_count": null,
   "id": "43229d35",
   "metadata": {},
   "outputs": [],
   "source": []
  },
  {
   "cell_type": "code",
   "execution_count": null,
   "id": "d21ff61e",
   "metadata": {},
   "outputs": [],
   "source": []
  },
  {
   "cell_type": "code",
   "execution_count": null,
   "id": "fb3dcf52",
   "metadata": {},
   "outputs": [],
   "source": []
  },
  {
   "cell_type": "code",
   "execution_count": null,
   "id": "76f4de4c",
   "metadata": {},
   "outputs": [],
   "source": []
  },
  {
   "cell_type": "code",
   "execution_count": null,
   "id": "79e13b91",
   "metadata": {},
   "outputs": [],
   "source": []
  },
  {
   "cell_type": "code",
   "execution_count": null,
   "id": "a5d020d9",
   "metadata": {},
   "outputs": [],
   "source": []
  },
  {
   "cell_type": "code",
   "execution_count": null,
   "id": "9a80afc2",
   "metadata": {},
   "outputs": [],
   "source": []
  },
  {
   "cell_type": "code",
   "execution_count": null,
   "id": "cc27614f",
   "metadata": {},
   "outputs": [],
   "source": []
  }
 ],
 "metadata": {
  "kernelspec": {
   "display_name": "Python 3 (ipykernel)",
   "language": "python",
   "name": "python3"
  },
  "language_info": {
   "codemirror_mode": {
    "name": "ipython",
    "version": 3
   },
   "file_extension": ".py",
   "mimetype": "text/x-python",
   "name": "python",
   "nbconvert_exporter": "python",
   "pygments_lexer": "ipython3",
   "version": "3.9.12"
  }
 },
 "nbformat": 4,
 "nbformat_minor": 5
}
