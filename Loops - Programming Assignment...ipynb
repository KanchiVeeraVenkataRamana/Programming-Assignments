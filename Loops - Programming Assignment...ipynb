{
 "cells": [
  {
   "cell_type": "code",
   "execution_count": 1,
   "id": "5f406d04",
   "metadata": {},
   "outputs": [],
   "source": [
    "#Question-1\n",
    "# Accept a number and check whether it is palindrome or not."
   ]
  },
  {
   "cell_type": "code",
   "execution_count": 1,
   "id": "07eab495",
   "metadata": {},
   "outputs": [
    {
     "name": "stdout",
     "output_type": "stream",
     "text": [
      "Enter a number: 1234321\n",
      "1234321 is a palindrome!\n"
     ]
    }
   ],
   "source": [
    "number = input(\"Enter a number: \")\n",
    "reverse_number = number[::-1]\n",
    "if number == reverse_number:\n",
    "    print(number, \"is a palindrome!\")\n",
    "else:\n",
    "    print(number, \"is not a palindrome.\")"
   ]
  },
  {
   "cell_type": "code",
   "execution_count": 2,
   "id": "7124e78b",
   "metadata": {},
   "outputs": [],
   "source": [
    "#Question-2\n",
    "# Write a program to display all the numbers which are divisble by 11 but not by 2 between 100 and 500."
   ]
  },
  {
   "cell_type": "code",
   "execution_count": 2,
   "id": "f9714b4a",
   "metadata": {},
   "outputs": [
    {
     "name": "stdout",
     "output_type": "stream",
     "text": [
      "121\n",
      "143\n",
      "165\n",
      "187\n",
      "209\n",
      "231\n",
      "253\n",
      "275\n",
      "297\n",
      "319\n",
      "341\n",
      "363\n",
      "385\n",
      "407\n",
      "429\n",
      "451\n",
      "473\n",
      "495\n"
     ]
    }
   ],
   "source": [
    "for num in range(100, 501):\n",
    "    if num % 11 == 0 and num % 2 != 0:\n",
    "        print(num)"
   ]
  },
  {
   "cell_type": "code",
   "execution_count": null,
   "id": "e766bfd2",
   "metadata": {},
   "outputs": [],
   "source": [
    "#Question-3\n",
    "# Write a program to find the sum of the digits of a number accepted form user"
   ]
  },
  {
   "cell_type": "code",
   "execution_count": 3,
   "id": "b25169d9",
   "metadata": {},
   "outputs": [
    {
     "name": "stdout",
     "output_type": "stream",
     "text": [
      "Enter a number: 38\n",
      "The sum of the digits is: 11\n"
     ]
    }
   ],
   "source": [
    "num = input(\"Enter a number: \")\n",
    "digit_sum = 0\n",
    "for digit in num:\n",
    "    digit_sum += int(digit)\n",
    "print(\"The sum of the digits is:\", digit_sum)"
   ]
  },
  {
   "cell_type": "code",
   "execution_count": null,
   "id": "27bc5e5a",
   "metadata": {},
   "outputs": [],
   "source": [
    "#Question-4\n",
    "# Write a program to find the factorial of a number"
   ]
  },
  {
   "cell_type": "code",
   "execution_count": 5,
   "id": "40be8fc8",
   "metadata": {},
   "outputs": [
    {
     "name": "stdout",
     "output_type": "stream",
     "text": [
      "Enter a number: 12\n",
      "The factorial of 12 is 479001600\n"
     ]
    }
   ],
   "source": [
    "num = int(input(\"Enter a number: \"))\n",
    "factorial = 1                            # initialize factorial to 1\n",
    "for i in range(1, num+1):                # calculate factorial using a for loop\n",
    "    factorial *= i\n",
    "print(\"The factorial of\", num, \"is\", factorial)"
   ]
  },
  {
   "cell_type": "code",
   "execution_count": null,
   "id": "4af86ad6",
   "metadata": {},
   "outputs": [],
   "source": [
    "#Question-5\n",
    "# Write a program to display the product of the digits of a number accepted from the user."
   ]
  },
  {
   "cell_type": "code",
   "execution_count": 6,
   "id": "f24601fe",
   "metadata": {},
   "outputs": [
    {
     "name": "stdout",
     "output_type": "stream",
     "text": [
      "Enter a number: 8\n",
      "The product of the digits is: 8\n"
     ]
    }
   ],
   "source": [
    "num = input(\"Enter a number: \")\n",
    "digit_product = 1\n",
    "for digit in num:\n",
    "    digit_product *= int(digit)\n",
    "print(\"The product of the digits is:\", digit_product)"
   ]
  },
  {
   "cell_type": "code",
   "execution_count": null,
   "id": "4217470f",
   "metadata": {},
   "outputs": [],
   "source": [
    "#Question-6\n",
    "# Calculate the average of the number given in the list through loop.\n",
    "# list1=[34,6,43,2,32,44,55,33,32]"
   ]
  },
  {
   "cell_type": "code",
   "execution_count": 7,
   "id": "3972b9a1",
   "metadata": {},
   "outputs": [
    {
     "name": "stdout",
     "output_type": "stream",
     "text": [
      "The average of the numbers in the list is: 31.22222222222222\n"
     ]
    }
   ],
   "source": [
    "list1 = [34, 6, 43, 2, 32, 44, 55, 33, 32]\n",
    "sum = 0                                                # initialize sum to 0 and count to the length of the list\n",
    "count = len(list1)                                     # calculate the sum of the numbers in the list using a for loop\n",
    "for num in list1:\n",
    "    sum += num\n",
    "average = sum / count                                  # calculate the average by dividing the sum by the count\n",
    "print(\"The average of the numbers in the list is:\", average)"
   ]
  },
  {
   "cell_type": "code",
   "execution_count": null,
   "id": "51364846",
   "metadata": {},
   "outputs": [],
   "source": [
    "#Question-7\n",
    "# Write a program swap the keys to values and values to keys of the given dictionary,\n",
    "# Module={'Data Science':1,'Machine Learning':2,'SQL':3,'Big Data':4}\n",
    "# Output:{1:'Data Science',2:'Machine Learning',3:'SQL',4:'Big Data'}"
   ]
  },
  {
   "cell_type": "code",
   "execution_count": 8,
   "id": "d113561c",
   "metadata": {},
   "outputs": [
    {
     "name": "stdout",
     "output_type": "stream",
     "text": [
      "Original dictionary: {'Data Science': 1, 'Machine Learning': 2, 'SQL': 3, 'Big Data': 4}\n",
      "Swapped dictionary: {1: 'Data Science', 2: 'Machine Learning', 3: 'SQL', 4: 'Big Data'}\n"
     ]
    }
   ],
   "source": [
    "Module = {'Data Science': 1, 'Machine Learning': 2, 'SQL': 3, 'Big Data': 4}\n",
    "swapped_module = {}                                 # initialize an empty dictionary to store the swapped keys and values\n",
    "for key, value in Module.items():                   # iterate over the original dictionary and swap the keys and values\n",
    "    swapped_module[value] = key\n",
    "print(\"Original dictionary:\", Module)\n",
    "print(\"Swapped dictionary:\", swapped_module)"
   ]
  },
  {
   "cell_type": "code",
   "execution_count": null,
   "id": "8be5df7d",
   "metadata": {},
   "outputs": [],
   "source": [
    "#Question-8\n",
    "# Write a program to extract the words from the given list which have their first character in uppercase.\n",
    "# Days=['Monday','tuesday','friday','Sunday','Saturday']\n",
    "# Output:['Monday','Sunday','Saturday']"
   ]
  },
  {
   "cell_type": "code",
   "execution_count": 9,
   "id": "305683ea",
   "metadata": {},
   "outputs": [
    {
     "name": "stdout",
     "output_type": "stream",
     "text": [
      "['Monday', 'Sunday', 'Saturday']\n"
     ]
    }
   ],
   "source": [
    "Days = ['Monday', 'tuesday', 'friday', 'Sunday', 'Saturday']\n",
    "output = []\n",
    "for day in Days:\n",
    "    if day[0].isupper():\n",
    "        output.append(day)\n",
    "print(output)"
   ]
  },
  {
   "cell_type": "code",
   "execution_count": null,
   "id": "dfd78520",
   "metadata": {},
   "outputs": [],
   "source": [
    "#Question-9\n",
    "# write a program to count all the elements from wrong text but it should not consider space and vowels\n",
    "# wrong=\"\"\"But soft what light through younder window breaks it is the east and juliet is the sun Arise fair\n",
    "#        sun and kill the envious moon who is already sick and pale with grief\"\"\""
   ]
  },
  {
   "cell_type": "code",
   "execution_count": 13,
   "id": "95341f0d",
   "metadata": {},
   "outputs": [
    {
     "name": "stdout",
     "output_type": "stream",
     "text": [
      "84\n"
     ]
    }
   ],
   "source": [
    "wrong = \"\"\"But soft what light through younder window breaks it is the east and juliet is the sun Arise fair sun\n",
    "          and kill the envious moon who isalready sick and pale with grief\"\"\"\n",
    "count = 0\n",
    "vowels = 'aeiouAEIOU '\n",
    "for char in wrong:\n",
    "    if char not in vowels:\n",
    "        count += 1\n",
    "print(count)"
   ]
  },
  {
   "cell_type": "code",
   "execution_count": null,
   "id": "fd6bc34f",
   "metadata": {},
   "outputs": [],
   "source": [
    "#Question-10\n",
    "# Remove duplicates from the given list num2 using loop.\n",
    "# num2=[1,2,3,41,3,5,4,56,4,4,36,6,66,645,3,3,5,6,4,3,48]"
   ]
  },
  {
   "cell_type": "code",
   "execution_count": 14,
   "id": "b3080198",
   "metadata": {},
   "outputs": [
    {
     "name": "stdout",
     "output_type": "stream",
     "text": [
      "[1, 2, 3, 41, 5, 4, 56, 36, 6, 66, 645, 48]\n"
     ]
    }
   ],
   "source": [
    "num2 = [1, 2, 3, 41, 3, 5, 4, 56, 4, 4, 36, 6, 66, 645, 3, 3, 5, 6, 4, 3, 48]\n",
    "unique = []\n",
    "for num in num2:\n",
    "    if num not in unique:\n",
    "        unique.append(num)\n",
    "print(unique)"
   ]
  },
  {
   "cell_type": "code",
   "execution_count": null,
   "id": "fe7461b7",
   "metadata": {},
   "outputs": [],
   "source": [
    "#Question-11\n",
    "# Write a program to check whether two numbers are amicable or not (take the input from the user)."
   ]
  },
  {
   "cell_type": "code",
   "execution_count": 18,
   "id": "cbab10f7",
   "metadata": {},
   "outputs": [
    {
     "name": "stdout",
     "output_type": "stream",
     "text": [
      "Enter first number:220\n",
      "Enter second number:284\n",
      "The numbers are not amicable.\n"
     ]
    }
   ],
   "source": [
    "x=int(input('Enter first number:'))\n",
    "y=int(input('Enter second number:'))\n",
    "sum1=0\n",
    "sum2=0\n",
    "for i in range(1,x):\n",
    "    if x%i==0:\n",
    "        sum1+-i\n",
    "for j in range(1,y):\n",
    "    if x%i==0:\n",
    "        sum2+=j\n",
    "if sum1 == num2 and sum2 == num1:               # check if the numbers are amicable\n",
    "    print(\"The numbers are amicable!\")\n",
    "else:\n",
    "    print(\"The numbers are not amicable.\")"
   ]
  },
  {
   "cell_type": "code",
   "execution_count": null,
   "id": "4f456f3e",
   "metadata": {},
   "outputs": [],
   "source": [
    "#Question-12\n",
    "# write a program to check whether a number is prime or not (take the input from user)"
   ]
  },
  {
   "cell_type": "code",
   "execution_count": 19,
   "id": "86e5e8c1",
   "metadata": {},
   "outputs": [
    {
     "name": "stdout",
     "output_type": "stream",
     "text": [
      "Enter a number: 43\n",
      "43 is a prime number.\n"
     ]
    }
   ],
   "source": [
    "num = int(input(\"Enter a number: \"))                # take input from the user\n",
    "if num > 1:                                         # check if the number is prime\n",
    "    for i in range(2, int(num/2)+1): \n",
    "        if num % i == 0:\n",
    "            print(num, \"is not a prime number.\")\n",
    "            break\n",
    "    else:\n",
    "        print(num, \"is a prime number.\")\n",
    "else:\n",
    "    print(num, \"is not a prime number.\")"
   ]
  },
  {
   "cell_type": "code",
   "execution_count": null,
   "id": "7351a900",
   "metadata": {},
   "outputs": [],
   "source": [
    "#Question-13\n",
    "# Reverse string using a for loop (take the input from user)."
   ]
  },
  {
   "cell_type": "code",
   "execution_count": 20,
   "id": "61de2fed",
   "metadata": {},
   "outputs": [
    {
     "name": "stdout",
     "output_type": "stream",
     "text": [
      "Enter a string: venky\n",
      "The reversed string is: yknev\n"
     ]
    }
   ],
   "source": [
    "string = input(\"Enter a string: \")                       # take input from the user\n",
    "reverse_string = \"\"                                      # take input from the user\n",
    "for i in range(len(string)-1, -1, -1):                   # iterate through the string backwards using a for loop\n",
    "    reverse_string += string[i]\n",
    "print(\"The reversed string is:\", reverse_string)         # print the reversed string"
   ]
  },
  {
   "cell_type": "code",
   "execution_count": null,
   "id": "53e3119b",
   "metadata": {},
   "outputs": [],
   "source": [
    "#Question-14\n",
    "# Write a program for generating a fibonacci series starting with 0 and 1 for the next 10 values using a while loop."
   ]
  },
  {
   "cell_type": "code",
   "execution_count": 21,
   "id": "0eefd37a",
   "metadata": {},
   "outputs": [
    {
     "name": "stdout",
     "output_type": "stream",
     "text": [
      "0\n",
      "1\n",
      "1\n",
      "2\n",
      "3\n",
      "5\n",
      "8\n",
      "13\n",
      "21\n",
      "34\n",
      "55\n",
      "89\n"
     ]
    }
   ],
   "source": [
    "num1 = 0                     # initialize the first two numbers in the series\n",
    "num2 = 1\n",
    "print(num1)                  # print the first two numbers\n",
    "print(num2)\n",
    "count = 2                    # generate the next 10 numbers using a while loop\n",
    "while count < 12:\n",
    "    next_num = num1 + num2   # calculate the next number in the series\n",
    "    print(next_num)          # print the next number\n",
    "    num1 = num2              # update the values of num1 and num2 for the next iteration\n",
    "    num2 = next_num\n",
    "    count += 1               # increment the count variable\n"
   ]
  },
  {
   "cell_type": "code",
   "execution_count": null,
   "id": "2fc7dfdb",
   "metadata": {},
   "outputs": [],
   "source": [
    "#Question-15\n",
    "# Write a code to print table of 5 using assignment operend+=.(using while)"
   ]
  },
  {
   "cell_type": "code",
   "execution_count": 23,
   "id": "3e6965ce",
   "metadata": {},
   "outputs": [
    {
     "name": "stdout",
     "output_type": "stream",
     "text": [
      "5 * 1 = 5\n",
      "5 * 2 = 10\n",
      "5 * 3 = 15\n",
      "5 * 4 = 20\n",
      "5 * 5 = 25\n",
      "5 * 6 = 30\n",
      "5 * 7 = 35\n",
      "5 * 8 = 40\n",
      "5 * 9 = 45\n",
      "5 * 10 = 50\n"
     ]
    }
   ],
   "source": [
    "num = 5                                                      # initialize the number and the multiplier\n",
    "multiplier = 1\n",
    "while multiplier <= 10:                                     # print the table using a while loop\n",
    "    print(num, \"*\", multiplier, \"=\", num*multiplier)\n",
    "    multiplier += 1"
   ]
  },
  {
   "cell_type": "code",
   "execution_count": null,
   "id": "795f1eb1",
   "metadata": {},
   "outputs": [],
   "source": []
  },
  {
   "cell_type": "code",
   "execution_count": null,
   "id": "c05d191e",
   "metadata": {},
   "outputs": [],
   "source": []
  },
  {
   "cell_type": "code",
   "execution_count": null,
   "id": "8ccb9fd0",
   "metadata": {},
   "outputs": [],
   "source": []
  }
 ],
 "metadata": {
  "kernelspec": {
   "display_name": "Python 3 (ipykernel)",
   "language": "python",
   "name": "python3"
  },
  "language_info": {
   "codemirror_mode": {
    "name": "ipython",
    "version": 3
   },
   "file_extension": ".py",
   "mimetype": "text/x-python",
   "name": "python",
   "nbconvert_exporter": "python",
   "pygments_lexer": "ipython3",
   "version": "3.9.12"
  }
 },
 "nbformat": 4,
 "nbformat_minor": 5
}
