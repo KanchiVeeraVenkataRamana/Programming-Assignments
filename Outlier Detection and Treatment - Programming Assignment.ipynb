{
 "cells": [
  {
   "cell_type": "code",
   "execution_count": null,
   "id": "2c12d08e",
   "metadata": {},
   "outputs": [],
   "source": [
    "#Question-1\n",
    "#  Write a python code to perform outlier detection using box plot, missing value analysis using python\n",
    "#  functions and treat them using descriptive measures."
   ]
  },
  {
   "cell_type": "code",
   "execution_count": 5,
   "id": "581057fb",
   "metadata": {},
   "outputs": [
    {
     "data": {
      "image/png": "[encoded data removed]",
      "text/plain": [
       "<Figure size 432x288 with 1 Axes>"
      ]
     },
     "metadata": {
      "needs_background": "light"
     },
     "output_type": "display_data"
    },
    {
     "name": "stdout",
     "output_type": "stream",
     "text": [
      "Number of missing values:\n",
      "PassengerId      0\n",
      "Survived         0\n",
      "Pclass           0\n",
      "Name             0\n",
      "Sex              0\n",
      "Age            177\n",
      "SibSp            0\n",
      "Parch            0\n",
      "Ticket           0\n",
      "Fare             0\n",
      "Cabin          687\n",
      "Embarked         2\n",
      "dtype: int64\n",
      "Summary statistics:\n",
      "       PassengerId    Survived      Pclass         Age       SibSp  \\\n",
      "count   891.000000  891.000000  891.000000  891.000000  891.000000   \n",
      "mean    446.000000    0.383838    2.308642   29.699118    0.523008   \n",
      "std     257.353842    0.486592    0.836071   13.002015    1.102743   \n",
      "min       1.000000    0.000000    1.000000    0.420000    0.000000   \n",
      "25%     223.500000    0.000000    2.000000   22.000000    0.000000   \n",
      "50%     446.000000    0.000000    3.000000   29.699118    0.000000   \n",
      "75%     668.500000    1.000000    3.000000   35.000000    1.000000   \n",
      "max     891.000000    1.000000    3.000000   80.000000    8.000000   \n",
      "\n",
      "            Parch        Fare  \n",
      "count  891.000000  891.000000  \n",
      "mean     0.381594   32.204208  \n",
      "std      0.806057   49.693429  \n",
      "min      0.000000    0.000000  \n",
      "25%      0.000000    7.910400  \n",
      "50%      0.000000   14.454200  \n",
      "75%      0.000000   31.000000  \n",
      "max      6.000000  512.329200  \n"
     ]
    },
    {
     "name": "stderr",
     "output_type": "stream",
     "text": [
      "C:\\Users\\91630\\AppData\\Local\\Temp\\ipykernel_1880\\2118138624.py:14: FutureWarning: Dropping of nuisance columns in DataFrame reductions (with 'numeric_only=None') is deprecated; in a future version this will raise TypeError.  Select only valid columns before calling the reduction.\n",
      "  data.fillna(data.mean(), inplace=True)\n"
     ]
    }
   ],
   "source": [
    "import pandas as pd\n",
    "import numpy as np\n",
    "import seaborn as sns\n",
    "import matplotlib.pyplot as plt\n",
    "# Load data\n",
    "data = pd.read_csv('train.csv')\n",
    "# Outlier detection using box plot\n",
    "sns.boxplot(x=data['Pclass'])\n",
    "plt.show()\n",
    "# Missing value analysis\n",
    "print(\"Number of missing values:\")\n",
    "print(data.isnull().sum())\n",
    "# Replace missing values with mean\n",
    "data.fillna(data.mean(), inplace=True)\n",
    "# Summary statistics\n",
    "print(\"Summary statistics:\")\n",
    "print(data.describe())"
   ]
  },
  {
   "cell_type": "code",
   "execution_count": 1,
   "id": "30cb6557",
   "metadata": {},
   "outputs": [],
   "source": [
    "#Question-2\n",
    "# Write a program to generate univariate distribution and find its mean and standard deviation."
   ]
  },
  {
   "cell_type": "code",
   "execution_count": 7,
   "id": "6bdb03fb",
   "metadata": {},
   "outputs": [
    {
     "data": {
      "image/png": "[encoded data removed]",
      "text/plain": [
       "<Figure size 432x288 with 1 Axes>"
      ]
     },
     "metadata": {
      "needs_background": "light"
     },
     "output_type": "display_data"
    },
    {
     "name": "stdout",
     "output_type": "stream",
     "text": [
      "Mean:  4.864218442917738\n",
      "Standard deviation:  2.0450336689100834\n"
     ]
    }
   ],
   "source": [
    "import numpy as np\n",
    "import matplotlib.pyplot as plt\n",
    "# Generate normal distribution\n",
    "mean = 5\n",
    "std_dev = 2\n",
    "samples = 1000\n",
    "dist = np.random.normal(mean, std_dev, samples)\n",
    "# Plot histogram of the distribution\n",
    "plt.hist(dist, bins=30)\n",
    "plt.xlabel('Values')\n",
    "plt.ylabel('Frequency')\n",
    "plt.show()\n",
    "# Calculate mean and standard deviation\n",
    "dist_mean = np.mean(dist)\n",
    "dist_std_dev = np.std(dist)\n",
    "print(\"Mean: \", dist_mean)\n",
    "print(\"Standard deviation: \", dist_std_dev)"
   ]
  },
  {
   "cell_type": "code",
   "execution_count": null,
   "id": "f48514cc",
   "metadata": {},
   "outputs": [],
   "source": [
    "#Question-3\n",
    "# Write a program to identify outliers in the data using standard deviations."
   ]
  },
  {
   "cell_type": "code",
   "execution_count": 6,
   "id": "78473a8f",
   "metadata": {},
   "outputs": [
    {
     "name": "stdout",
     "output_type": "stream",
     "text": [
      "Outliers: []\n"
     ]
    }
   ],
   "source": [
    "import numpy as np\n",
    "# Generate data\n",
    "data = np.array([1, 2, 3, 4, 5, 6, 7, 8, 9, 10, 50, 55, 60])\n",
    "# Calculate mean and standard deviation\n",
    "mean = np.mean(data)\n",
    "std_dev = np.std(data)\n",
    "# Set threshold for identifying outliers\n",
    "threshold = 2.5\n",
    "# Identify outliers\n",
    "outliers = []\n",
    "for i in range(len(data)):\n",
    "    z_score = (data[i] - mean) / std_dev\n",
    "    if np.abs(z_score) > threshold:\n",
    "        outliers.append(data[i])\n",
    "# Print outliers\n",
    "print(\"Outliers:\", outliers)"
   ]
  },
  {
   "cell_type": "code",
   "execution_count": null,
   "id": "a176c15d",
   "metadata": {},
   "outputs": [],
   "source": [
    "#Question-4\n",
    "# Write a program to remove the outliers using standard deviation"
   ]
  },
  {
   "cell_type": "code",
   "execution_count": 8,
   "id": "fc25d0b6",
   "metadata": {},
   "outputs": [
    {
     "name": "stdout",
     "output_type": "stream",
     "text": [
      "Original values: [  4   6   8  10  12  14  16  18  20 100]\n",
      "Values without outliers: [  4   6   8  10  12  14  16  18  20 100]\n"
     ]
    }
   ],
   "source": [
    "import numpy as np\n",
    "# Define an array of values\n",
    "values = np.array([4, 6, 8, 10, 12, 14, 16, 18, 20, 100])\n",
    "# Calculate the mean and standard deviation\n",
    "mean = np.mean(values)\n",
    "std_dev = np.std(values)\n",
    "# Define a threshold for identifying outliers (e.g. anything more than 3 standard deviations from the mean)\n",
    "threshold = 3\n",
    "# Calculate the lower and upper bounds for identifying outliers\n",
    "lower_bound = mean - threshold * std_dev\n",
    "upper_bound = mean + threshold * std_dev\n",
    "# Identify the outliers\n",
    "outliers = []\n",
    "for value in values:\n",
    "    if value < lower_bound or value > upper_bound:\n",
    "        outliers.append(value)\n",
    "# Remove the outliers from the array\n",
    "values = np.delete(values, np.where(values < lower_bound))\n",
    "values = np.delete(values, np.where(values > upper_bound))\n",
    "# Print the original array and the array without outliers\n",
    "print(\"Original values:\", values)\n",
    "print(\"Values without outliers:\", values)"
   ]
  },
  {
   "cell_type": "code",
   "execution_count": null,
   "id": "90d111ec",
   "metadata": {},
   "outputs": [],
   "source": [
    "#Question-5\n",
    "# Write a program to find the interquartile range of the data."
   ]
  },
  {
   "cell_type": "code",
   "execution_count": 9,
   "id": "6b620155",
   "metadata": {},
   "outputs": [
    {
     "name": "stdout",
     "output_type": "stream",
     "text": [
      "Data: [10 12 15 17 20 23 25 28 30 32 35 38 40]\n",
      "First quartile: 17.0\n",
      "Third quartile: 32.0\n",
      "Interquartile range: 15.0\n"
     ]
    }
   ],
   "source": [
    "import numpy as np\n",
    "# Define an array of data\n",
    "data = np.array([10, 12, 15, 17, 20, 23, 25, 28, 30, 32, 35, 38, 40])\n",
    "# Calculate the 25th and 75th percentiles (i.e. the first and third quartiles)\n",
    "first_quartile = np.percentile(data, 25)\n",
    "third_quartile = np.percentile(data, 75)\n",
    "# Calculate the interquartile range (i.e. the difference between the third and first quartiles)\n",
    "interquartile_range = third_quartile - first_quartile\n",
    "# Print the results\n",
    "print(\"Data:\", data)\n",
    "print(\"First quartile:\", first_quartile)\n",
    "print(\"Third quartile:\", third_quartile)\n",
    "print(\"Interquartile range:\", interquartile_range)"
   ]
  },
  {
   "cell_type": "code",
   "execution_count": null,
   "id": "5da8afce",
   "metadata": {},
   "outputs": [],
   "source": [
    "#Question-6\n",
    "# Write a program to calculate outlier cutoff "
   ]
  },
  {
   "cell_type": "code",
   "execution_count": 10,
   "id": "bd855e17",
   "metadata": {},
   "outputs": [
    {
     "name": "stdout",
     "output_type": "stream",
     "text": [
      "Data: [10 12 15 17 20 23 25 28 30 32 35 38 40]\n",
      "Interquartile range: 15.0\n",
      "Lower outlier cutoff: -5.5\n",
      "Upper outlier cutoff: 54.5\n"
     ]
    }
   ],
   "source": [
    "import numpy as np\n",
    "# Define an array of data\n",
    "data = np.array([10, 12, 15, 17, 20, 23, 25, 28, 30, 32, 35, 38, 40])\n",
    "# Calculate the interquartile range (i.e. the difference between the third and first quartiles)\n",
    "q1 = np.percentile(data, 25)\n",
    "q3 = np.percentile(data, 75)\n",
    "iqr = q3 - q1\n",
    "# Calculate the lower and upper bounds for identifying outliers\n",
    "lower_bound = q1 - (1.5 * iqr)\n",
    "upper_bound = q3 + (1.5 * iqr)\n",
    "# Print the results\n",
    "print(\"Data:\", data)\n",
    "print(\"Interquartile range:\", iqr)\n",
    "print(\"Lower outlier cutoff:\", lower_bound)\n",
    "print(\"Upper outlier cutoff:\", upper_bound)"
   ]
  },
  {
   "cell_type": "code",
   "execution_count": null,
   "id": "893ab0eb",
   "metadata": {},
   "outputs": [],
   "source": [
    "#Question-7\n",
    "# Load scores_data into pandas dataFrame and calculate mean and standard deviation"
   ]
  },
  {
   "cell_type": "code",
   "execution_count": 13,
   "id": "a56ac044",
   "metadata": {},
   "outputs": [
    {
     "name": "stdout",
     "output_type": "stream",
     "text": [
      "Mean score: 2.308641975308642\n",
      "Standard deviation of score: 0.8360712409770513\n"
     ]
    }
   ],
   "source": [
    "import pandas as pd\n",
    "# Load the data into a pandas DataFrame\n",
    "scores_data = pd.read_csv(\"train.csv\")\n",
    "# Calculate the mean and standard deviation of the scores column\n",
    "mean_score = scores_data[\"Pclass\"].mean()\n",
    "std_dev_score = scores_data[\"Pclass\"].std()\n",
    "# Print the results\n",
    "print(\"Mean score:\", mean_score)\n",
    "print(\"Standard deviation of score:\", std_dev_score)"
   ]
  },
  {
   "cell_type": "code",
   "execution_count": null,
   "id": "a8df8dc6",
   "metadata": {},
   "outputs": [],
   "source": [
    "#Question-8\n",
    "#  Write a program to set the lower limit (lower_limit) to be three standard deviations below the mean,and the \n",
    "#  upper limit (upper_limit) to be three standard deviations above the mean."
   ]
  },
  {
   "cell_type": "code",
   "execution_count": 14,
   "id": "5585a2c4",
   "metadata": {},
   "outputs": [
    {
     "name": "stdout",
     "output_type": "stream",
     "text": [
      "Lower limit: -0.19957174762251206\n",
      "Upper limit: 4.816855698239796\n"
     ]
    }
   ],
   "source": [
    "import pandas as pd\n",
    "# Load the data into a pandas DataFrame\n",
    "scores_data = pd.read_csv(\"train.csv\")\n",
    "# Calculate the mean and standard deviation of the scores column\n",
    "mean_score = scores_data[\"Pclass\"].mean()\n",
    "std_dev_score = scores_data['Pclass'].std()\n",
    "# Set the lower and upper limits\n",
    "lower_limit = mean_score - (3 * std_dev_score)\n",
    "upper_limit = mean_score + (3 * std_dev_score)\n",
    "# Print the results\n",
    "print(\"Lower limit:\", lower_limit)\n",
    "print(\"Upper limit:\", upper_limit)"
   ]
  },
  {
   "cell_type": "code",
   "execution_count": null,
   "id": "d72a1370",
   "metadata": {},
   "outputs": [],
   "source": [
    "#Question-9\n",
    "#  Write a program to filter the dataframe df_scores to only retain the data points in the interval \n",
    "#  [lower_limit, upper_limit]"
   ]
  },
  {
   "cell_type": "code",
   "execution_count": 17,
   "id": "9bf3cf1c",
   "metadata": {},
   "outputs": [
    {
     "name": "stdout",
     "output_type": "stream",
     "text": [
      "     PassengerId  Survived  Pclass  \\\n",
      "0              1         0       3   \n",
      "1              2         1       1   \n",
      "2              3         1       3   \n",
      "3              4         1       1   \n",
      "4              5         0       3   \n",
      "..           ...       ...     ...   \n",
      "886          887         0       2   \n",
      "887          888         1       1   \n",
      "888          889         0       3   \n",
      "889          890         1       1   \n",
      "890          891         0       3   \n",
      "\n",
      "                                                  Name     Sex   Age  SibSp  \\\n",
      "0                              Braund, Mr. Owen Harris    male  22.0      1   \n",
      "1    Cumings, Mrs. John Bradley (Florence Briggs Th...  female  38.0      1   \n",
      "2                               Heikkinen, Miss. Laina  female  26.0      0   \n",
      "3         Futrelle, Mrs. Jacques Heath (Lily May Peel)  female  35.0      1   \n",
      "4                             Allen, Mr. William Henry    male  35.0      0   \n",
      "..                                                 ...     ...   ...    ...   \n",
      "886                              Montvila, Rev. Juozas    male  27.0      0   \n",
      "887                       Graham, Miss. Margaret Edith  female  19.0      0   \n",
      "888           Johnston, Miss. Catherine Helen \"Carrie\"  female   NaN      1   \n",
      "889                              Behr, Mr. Karl Howell    male  26.0      0   \n",
      "890                                Dooley, Mr. Patrick    male  32.0      0   \n",
      "\n",
      "     Parch            Ticket     Fare Cabin Embarked  \n",
      "0        0         A/5 21171   7.2500   NaN        S  \n",
      "1        0          PC 17599  71.2833   C85        C  \n",
      "2        0  STON/O2. 3101282   7.9250   NaN        S  \n",
      "3        0            113803  53.1000  C123        S  \n",
      "4        0            373450   8.0500   NaN        S  \n",
      "..     ...               ...      ...   ...      ...  \n",
      "886      0            211536  13.0000   NaN        S  \n",
      "887      0            112053  30.0000   B42        S  \n",
      "888      2        W./C. 6607  23.4500   NaN        S  \n",
      "889      0            111369  30.0000  C148        C  \n",
      "890      0            370376   7.7500   NaN        Q  \n",
      "\n",
      "[891 rows x 12 columns]\n"
     ]
    }
   ],
   "source": [
    "import pandas as pd\n",
    "# Load the data into a pandas DataFrame\n",
    "scores_data = pd.read_csv(\"train.csv\")\n",
    "# Calculate the mean and standard deviation of the scores column\n",
    "mean_score = scores_data[\"Pclass\"].mean()\n",
    "std_dev_score = scores_data[\"Pclass\"].std()\n",
    "# Set the lower and upper limits\n",
    "lower_limit = mean_score - (3 * std_dev_score)\n",
    "upper_limit = mean_score + (3 * std_dev_score)\n",
    "# Filter the DataFrame to retain only data points in the interval [lower_limit, upper_limit]\n",
    "filtered_data = scores_data[(scores_data[\"Pclass\"] >= lower_limit) & (scores_data[\"Pclass\"] <= upper_limit)]\n",
    "# Print the filtered data\n",
    "print(filtered_data)"
   ]
  },
  {
   "cell_type": "code",
   "execution_count": null,
   "id": "cbfb4230",
   "metadata": {},
   "outputs": [],
   "source": [
    "#Question-10\n",
    "#  Write a program to identify outliers and remove them using IQR"
   ]
  },
  {
   "cell_type": "code",
   "execution_count": 19,
   "id": "2d31fb5f",
   "metadata": {},
   "outputs": [
    {
     "name": "stdout",
     "output_type": "stream",
     "text": [
      "     PassengerId  Survived  Pclass  \\\n",
      "0              1         0       3   \n",
      "1              2         1       1   \n",
      "2              3         1       3   \n",
      "3              4         1       1   \n",
      "4              5         0       3   \n",
      "..           ...       ...     ...   \n",
      "886          887         0       2   \n",
      "887          888         1       1   \n",
      "888          889         0       3   \n",
      "889          890         1       1   \n",
      "890          891         0       3   \n",
      "\n",
      "                                                  Name     Sex   Age  SibSp  \\\n",
      "0                              Braund, Mr. Owen Harris    male  22.0      1   \n",
      "1    Cumings, Mrs. John Bradley (Florence Briggs Th...  female  38.0      1   \n",
      "2                               Heikkinen, Miss. Laina  female  26.0      0   \n",
      "3         Futrelle, Mrs. Jacques Heath (Lily May Peel)  female  35.0      1   \n",
      "4                             Allen, Mr. William Henry    male  35.0      0   \n",
      "..                                                 ...     ...   ...    ...   \n",
      "886                              Montvila, Rev. Juozas    male  27.0      0   \n",
      "887                       Graham, Miss. Margaret Edith  female  19.0      0   \n",
      "888           Johnston, Miss. Catherine Helen \"Carrie\"  female   NaN      1   \n",
      "889                              Behr, Mr. Karl Howell    male  26.0      0   \n",
      "890                                Dooley, Mr. Patrick    male  32.0      0   \n",
      "\n",
      "     Parch            Ticket     Fare Cabin Embarked  \n",
      "0        0         A/5 21171   7.2500   NaN        S  \n",
      "1        0          PC 17599  71.2833   C85        C  \n",
      "2        0  STON/O2. 3101282   7.9250   NaN        S  \n",
      "3        0            113803  53.1000  C123        S  \n",
      "4        0            373450   8.0500   NaN        S  \n",
      "..     ...               ...      ...   ...      ...  \n",
      "886      0            211536  13.0000   NaN        S  \n",
      "887      0            112053  30.0000   B42        S  \n",
      "888      2        W./C. 6607  23.4500   NaN        S  \n",
      "889      0            111369  30.0000  C148        C  \n",
      "890      0            370376   7.7500   NaN        Q  \n",
      "\n",
      "[891 rows x 12 columns]\n"
     ]
    }
   ],
   "source": [
    "import pandas as pd\n",
    "# Load the data into a pandas DataFrame\n",
    "scores_data = pd.read_csv(\"train.csv\")\n",
    "# Calculate the interquartile range (IQR)\n",
    "Q1 = scores_data[\"Pclass\"].quantile(0.25)\n",
    "Q3 = scores_data[\"Pclass\"].quantile(0.75)\n",
    "IQR = Q3 - Q1\n",
    "# Set the lower and upper bounds for outlier detection\n",
    "lower_bound = Q1 - (1.5 * IQR)\n",
    "upper_bound = Q3 + (1.5 * IQR)\n",
    "# Identify and remove outliers\n",
    "filtered_data = scores_data[(scores_data[\"Pclass\"] >= lower_bound) & (scores_data[\"Pclass\"] <= upper_bound)]\n",
    "# Print the filtered data\n",
    "print(filtered_data)"
   ]
  },
  {
   "cell_type": "code",
   "execution_count": null,
   "id": "bc1a941d",
   "metadata": {},
   "outputs": [],
   "source": [
    "#Question-11\n",
    "#  write a program to generate a sample array and calculate the mean,median,mode,std deviation"
   ]
  },
  {
   "cell_type": "code",
   "execution_count": 20,
   "id": "277c1564",
   "metadata": {},
   "outputs": [
    {
     "name": "stdout",
     "output_type": "stream",
     "text": [
      "Sample array: [ 3  5  7 10 12 15 18 20 22 25 28 30]\n",
      "Mean: 16.25\n",
      "Median: 16.5\n",
      "Mode: 3\n",
      "Standard deviation: 8.661456767388112\n"
     ]
    }
   ],
   "source": [
    "import numpy as np\n",
    "from scipy import stats\n",
    "# Generate a sample array\n",
    "sample_array = np.array([3, 5, 7, 10, 12, 15, 18, 20, 22, 25, 28, 30])\n",
    "# Calculate the mean of the sample array\n",
    "mean = np.mean(sample_array)\n",
    "# Calculate the median of the sample array\n",
    "median = np.median(sample_array)\n",
    "# Calculate the mode of the sample array\n",
    "mode = stats.mode(sample_array)[0][0]\n",
    "# Calculate the standard deviation of the sample array\n",
    "std_dev = np.std(sample_array)\n",
    "# Print the results\n",
    "print(\"Sample array:\", sample_array)\n",
    "print(\"Mean:\", mean)\n",
    "print(\"Median:\", median)\n",
    "print(\"Mode:\", mode)\n",
    "print(\"Standard deviation:\", std_dev)"
   ]
  },
  {
   "cell_type": "code",
   "execution_count": null,
   "id": "46933ed3",
   "metadata": {},
   "outputs": [],
   "source": [
    "#Question-12\n",
    "# Write a program to print skewness of the sample"
   ]
  },
  {
   "cell_type": "code",
   "execution_count": 21,
   "id": "0afe4045",
   "metadata": {},
   "outputs": [
    {
     "name": "stdout",
     "output_type": "stream",
     "text": [
      "Sample array: [ 3  5  7 10 12 15 18 20 22 25 28 30]\n",
      "Skewness: 0.03534797464234409\n"
     ]
    }
   ],
   "source": [
    "import numpy as np\n",
    "from scipy.stats import skew\n",
    "# Generate a sample array\n",
    "sample_array = np.array([3, 5, 7, 10, 12, 15, 18, 20, 22, 25, 28, 30])\n",
    "# Calculate the skewness of the sample array\n",
    "skewness = skew(sample_array)\n",
    "# Print the skewness of the sample array\n",
    "print(\"Sample array:\", sample_array)\n",
    "print(\"Skewness:\", skewness)"
   ]
  },
  {
   "cell_type": "code",
   "execution_count": null,
   "id": "35e0efba",
   "metadata": {},
   "outputs": [],
   "source": [
    "#Question-13\n",
    "# Write a Program to print Histogram and distribution plot of the sample."
   ]
  },
  {
   "cell_type": "code",
   "execution_count": 22,
   "id": "188750e2",
   "metadata": {},
   "outputs": [
    {
     "data": {
      "image/png": "[encoded data removed]",
      "text/plain": [
       "<Figure size 432x288 with 1 Axes>"
      ]
     },
     "metadata": {
      "needs_background": "light"
     },
     "output_type": "display_data"
    },
    {
     "data": {
      "image/png": "[encoded data removed]",
      "text/plain": [
       "<Figure size 432x288 with 1 Axes>"
      ]
     },
     "metadata": {
      "needs_background": "light"
     },
     "output_type": "display_data"
    }
   ],
   "source": [
    "import numpy as np\n",
    "import seaborn as sns\n",
    "import matplotlib.pyplot as plt\n",
    "# Generate a sample array\n",
    "sample_array = np.array([3, 5, 7, 10, 12, 15, 18, 20, 22, 25, 28, 30])\n",
    "# Create a histogram of the sample array\n",
    "sns.histplot(sample_array, kde=False, bins=5)\n",
    "plt.title(\"Histogram of Sample\")\n",
    "plt.xlabel(\"Value\")\n",
    "plt.ylabel(\"Frequency\")\n",
    "plt.show()\n",
    "# Create a distribution plot of the sample array\n",
    "sns.kdeplot(sample_array, shade=True)\n",
    "plt.title(\"Distribution Plot of Sample\")\n",
    "plt.xlabel(\"Value\")\n",
    "plt.ylabel(\"Density\")\n",
    "plt.show()"
   ]
  },
  {
   "cell_type": "code",
   "execution_count": null,
   "id": "bb5455f0",
   "metadata": {},
   "outputs": [],
   "source": [
    "#Question-14\n",
    "# Define the function generate_scores() that returns a normally-distributed dataset of student scores containing \n",
    "# 200 records. We’ll make a call to the function, and store the returned array in the variable scores_data."
   ]
  },
  {
   "cell_type": "code",
   "execution_count": 24,
   "id": "2bbe8dc3",
   "metadata": {},
   "outputs": [
    {
     "data": {
      "text/plain": [
       "array([74.96714153, 68.61735699, 76.47688538, 85.23029856, 67.65846625,\n",
       "       67.65863043, 85.79212816, 77.67434729, 65.30525614, 75.42560044,\n",
       "       65.36582307, 65.34270246, 72.41962272, 50.86719755, 52.75082167,\n",
       "       64.37712471, 59.8716888 , 73.14247333, 60.91975924, 55.87696299,\n",
       "       84.65648769, 67.742237  , 70.67528205, 55.75251814, 64.55617275,\n",
       "       71.1092259 , 58.49006423, 73.75698018, 63.9936131 , 67.0830625 ,\n",
       "       63.98293388, 88.52278185, 69.86502775, 59.42289071, 78.22544912,\n",
       "       57.7915635 , 72.08863595, 50.40329876, 56.71813951, 71.96861236,\n",
       "       77.3846658 , 71.71368281, 68.84351718, 66.98896304, 55.2147801 ,\n",
       "       62.80155792, 65.39361229, 80.57122226, 73.4361829 , 52.36959845,\n",
       "       73.24083969, 66.1491772 , 63.23078   , 76.11676289, 80.30999522,\n",
       "       79.31280119, 61.60782477, 66.90787624, 73.31263431, 79.75545127,\n",
       "       65.20825762, 68.14341023, 58.93665026, 58.03793376, 78.12525822,\n",
       "       83.56240029, 69.27989878, 80.03532898, 73.61636025, 63.54880245,\n",
       "       73.61395606, 85.38036566, 69.64173961, 85.64643656, 43.80254896,\n",
       "       78.21902504, 70.87047068, 67.0099265 , 70.91760777, 50.12431085,\n",
       "       67.80328112, 73.57112572, 84.77894045, 64.81729782, 61.91506397,\n",
       "       64.98242956, 79.15402118, 73.2875111 , 64.70239796, 75.13267433,\n",
       "       70.97077549, 79.68644991, 62.97946906, 66.72337853, 66.07891847,\n",
       "       55.36485052, 72.96120277, 72.61055272, 70.05113457, 67.65412867,\n",
       "       55.84629258, 65.79354677, 66.57285483, 61.97722731, 68.38714288,\n",
       "       74.04050857, 88.86185901, 71.74577813, 72.57550391, 69.25554084,\n",
       "       50.81228785, 69.73486125, 70.6023021 , 94.63242112, 68.07639035,\n",
       "       73.01547342, 69.6528823 , 58.31321962, 81.42822815, 77.51933033,\n",
       "       77.91031947, 60.90612545, 84.02794311, 55.98148937, 75.86857094,\n",
       "       91.90455626, 60.09463675, 64.3370227 , 70.99651365, 64.96524346,\n",
       "       54.49336569, 70.68562975, 59.37696286, 74.73592431, 60.80575766,\n",
       "       85.49934405, 62.16746708, 66.77938484, 78.13517217, 57.69135684,\n",
       "       72.27459935, 83.07142754, 53.92516765, 71.84633859, 72.59882794,\n",
       "       77.81822872, 57.63049289, 56.79543387, 75.21941566, 72.96984673,\n",
       "       72.5049285 , 73.46448209, 63.19975278, 72.32253697, 72.93072473,\n",
       "       62.85648582, 88.65774511, 74.73832921, 58.08696503, 76.56553609,\n",
       "       60.2531833 , 77.87084604, 81.58595579, 61.79317682, 79.63376129,\n",
       "       74.12780927, 78.2206016 , 88.96792983, 67.54611884, 62.46263836,\n",
       "       61.1048557 , 61.84189715, 69.22898291, 73.41151975, 72.76690799,\n",
       "       78.27183249, 70.13001892, 84.53534077, 67.35343167, 97.20169167,\n",
       "       76.25667348, 61.42842444, 59.29107502, 74.82472415, 67.76537215,\n",
       "       77.14000494, 74.73237625, 69.27171087, 61.53206282, 54.85152775,\n",
       "       65.53485048, 78.56398794, 72.14093744, 57.54261221, 71.73180926,\n",
       "       73.8531738 , 61.16142564, 71.53725106, 70.58208718, 58.57029702])"
      ]
     },
     "execution_count": 24,
     "metadata": {},
     "output_type": "execute_result"
    }
   ],
   "source": [
    "import numpy as np\n",
    "def generate_scores():\n",
    "    # Set the random seed for reproducibility\n",
    "    np.random.seed(42)    \n",
    "    # Generate 200 normally-distributed student scores\n",
    "    mu, sigma = 70, 10  # Mean and standard deviation\n",
    "    scores_data = np.random.normal(mu, sigma, 200)\n",
    "    return scores_data\n",
    "\n",
    "scores_data = generate_scores()\n",
    "generate_scores()"
   ]
  },
  {
   "cell_type": "code",
   "execution_count": null,
   "id": "2475416a",
   "metadata": {},
   "outputs": [],
   "source": [
    "#Question-15\n",
    "# Write a program to visualize the scores_data distribution also generate boxplot"
   ]
  },
  {
   "cell_type": "code",
   "execution_count": 25,
   "id": "51275962",
   "metadata": {},
   "outputs": [
    {
     "data": {
      "image/png": "[encoded data removed]",
      "text/plain": [
       "<Figure size 432x288 with 1 Axes>"
      ]
     },
     "metadata": {
      "needs_background": "light"
     },
     "output_type": "display_data"
    },
    {
     "data": {
      "image/png": "[encoded data removed]",
      "text/plain": [
       "<Figure size 432x288 with 1 Axes>"
      ]
     },
     "metadata": {
      "needs_background": "light"
     },
     "output_type": "display_data"
    }
   ],
   "source": [
    "import numpy as np\n",
    "import seaborn as sns\n",
    "import matplotlib.pyplot as plt\n",
    "# Define the generate_scores() function to generate normally-distributed data\n",
    "def generate_scores():\n",
    "    np.random.seed(42)\n",
    "    mu, sigma = 70, 10\n",
    "    scores_data = np.random.normal(mu, sigma, 200)\n",
    "    return scores_data\n",
    "# Generate a dataset of student scores\n",
    "scores_data = generate_scores()\n",
    "# Create a histogram of the scores_data dataset\n",
    "sns.histplot(scores_data, kde=True, bins=10)\n",
    "plt.title(\"Distribution of Student Scores\")\n",
    "plt.xlabel(\"Score\")\n",
    "plt.ylabel(\"Frequency\")\n",
    "plt.show()\n",
    "# Create a boxplot of the scores_data dataset\n",
    "sns.boxplot(x=scores_data)\n",
    "plt.title(\"Boxplot of Student Scores\")\n",
    "plt.xlabel(\"Score\")\n",
    "plt.show()"
   ]
  },
  {
   "cell_type": "code",
   "execution_count": null,
   "id": "b0c0ae28",
   "metadata": {},
   "outputs": [],
   "source": []
  },
  {
   "cell_type": "code",
   "execution_count": null,
   "id": "8b5c38fb",
   "metadata": {},
   "outputs": [],
   "source": []
  },
  {
   "cell_type": "code",
   "execution_count": null,
   "id": "a82cc34a",
   "metadata": {},
   "outputs": [],
   "source": []
  },
  {
   "cell_type": "code",
   "execution_count": null,
   "id": "7ae860b7",
   "metadata": {},
   "outputs": [],
   "source": []
  }
 ],
 "metadata": {
  "kernelspec": {
   "display_name": "Python 3 (ipykernel)",
   "language": "python",
   "name": "python3"
  },
  "language_info": {
   "codemirror_mode": {
    "name": "ipython",
    "version": 3
   },
   "file_extension": ".py",
   "mimetype": "text/x-python",
   "name": "python",
   "nbconvert_exporter": "python",
   "pygments_lexer": "ipython3",
   "version": "3.9.12"
  }
 },
 "nbformat": 4,
 "nbformat_minor": 5
}
