{
 "cells": [
  {
   "cell_type": "code",
   "execution_count": 2,
   "id": "2b05436a",
   "metadata": {},
   "outputs": [],
   "source": [
    "#Question-1\n",
    "# write a program to print the product of two numbers 'x' and 'y'"
   ]
  },
  {
   "cell_type": "code",
   "execution_count": 6,
   "id": "0fbb86f2",
   "metadata": {},
   "outputs": [
    {
     "name": "stdout",
     "output_type": "stream",
     "text": [
      "280\n"
     ]
    }
   ],
   "source": [
    "x=28\n",
    "y=10\n",
    "z=x*y\n",
    "print(z)"
   ]
  },
  {
   "cell_type": "code",
   "execution_count": 3,
   "id": "e9a0449b",
   "metadata": {},
   "outputs": [],
   "source": [
    "#Question-2\n",
    "# Display the following pattern using single print()\n",
    "# *\n",
    "# **\n",
    "# ***\n",
    "# ****"
   ]
  },
  {
   "cell_type": "code",
   "execution_count": 4,
   "id": "366033a8",
   "metadata": {},
   "outputs": [
    {
     "name": "stdout",
     "output_type": "stream",
     "text": [
      "*\n",
      "**\n",
      "***\n",
      "****\n",
      "\n",
      "* \n",
      "* \n",
      "* \n",
      "* \n",
      "* \n",
      "* \n",
      "* \n",
      "* \n",
      "* \n",
      "* \n"
     ]
    }
   ],
   "source": [
    "print(\"*\\n**\\n***\\n****\")\n",
    "print()\n",
    "n=4\n",
    "for i in range(0,n):\n",
    "    for j in range(0,i+1):\n",
    "        print(\"*\",end=\" \")\n",
    "        print()"
   ]
  },
  {
   "cell_type": "code",
   "execution_count": 4,
   "id": "bf09b9f2",
   "metadata": {},
   "outputs": [],
   "source": [
    "#Question-3\n",
    "# Write a python program to print the calender of a given month and year.\n",
    "# Note: Use the 'calender' module"
   ]
  },
  {
   "cell_type": "code",
   "execution_count": 7,
   "id": "201b11e2",
   "metadata": {},
   "outputs": [
    {
     "name": "stdout",
     "output_type": "stream",
     "text": [
      "     March 2023\n",
      "Mo Tu We Th Fr Sa Su\n",
      "       1  2  3  4  5\n",
      " 6  7  8  9 10 11 12\n",
      "13 14 15 16 17 18 19\n",
      "20 21 22 23 24 25 26\n",
      "27 28 29 30 31\n",
      "\n"
     ]
    }
   ],
   "source": [
    "import calendar\n",
    "y=2023\n",
    "m=3\n",
    "print(calendar.month(y,m))"
   ]
  },
  {
   "cell_type": "code",
   "execution_count": 5,
   "id": "97421022",
   "metadata": {},
   "outputs": [],
   "source": [
    "#Question-4\n",
    "# Display the usm of 5+10, using two variables:x and y"
   ]
  },
  {
   "cell_type": "code",
   "execution_count": 8,
   "id": "a81af2cd",
   "metadata": {},
   "outputs": [
    {
     "name": "stdout",
     "output_type": "stream",
     "text": [
      "15\n"
     ]
    }
   ],
   "source": [
    "x=5\n",
    "y=10\n",
    "z=x+y\n",
    "print(z)"
   ]
  },
  {
   "cell_type": "code",
   "execution_count": 6,
   "id": "67eaa100",
   "metadata": {},
   "outputs": [],
   "source": [
    "#Question-5\n",
    "# Create a variable called z, assign x+y to it, and display the result.(you can take any values of x&y)"
   ]
  },
  {
   "cell_type": "code",
   "execution_count": 9,
   "id": "8af9faea",
   "metadata": {},
   "outputs": [
    {
     "name": "stdout",
     "output_type": "stream",
     "text": [
      "14\n"
     ]
    }
   ],
   "source": [
    "x=4\n",
    "y=10\n",
    "z=x+y\n",
    "print(z)"
   ]
  },
  {
   "cell_type": "code",
   "execution_count": 7,
   "id": "42bc765a",
   "metadata": {},
   "outputs": [],
   "source": [
    "#Question-6\n",
    "# Write a python program which accepts teh user's first and last name and print them in reverse order with a space between\n",
    "# them."
   ]
  },
  {
   "cell_type": "code",
   "execution_count": 10,
   "id": "6e9b6270",
   "metadata": {},
   "outputs": [
    {
     "name": "stdout",
     "output_type": "stream",
     "text": [
      "enter your name: Kanchi Veera Venkata Ramana\n",
      "Kanchi Veera Venkata Ramana\n",
      "anamaR atakneV areeV ihcnaK\n"
     ]
    }
   ],
   "source": [
    "n=input('enter your name: ')\n",
    "print(n)\n",
    "print(n[::-1])"
   ]
  },
  {
   "cell_type": "code",
   "execution_count": 8,
   "id": "4c0ae6f1",
   "metadata": {},
   "outputs": [],
   "source": [
    "#Question-7\n",
    "# Write a program to covert the value of 'pi' to integer"
   ]
  },
  {
   "cell_type": "code",
   "execution_count": 11,
   "id": "49c23722",
   "metadata": {},
   "outputs": [
    {
     "name": "stdout",
     "output_type": "stream",
     "text": [
      "3.14\n",
      "<class 'float'>\n",
      "\n",
      "3\n",
      "<class 'int'>\n"
     ]
    }
   ],
   "source": [
    "pi=3.14\n",
    "print(pi)\n",
    "print(type(pi))\n",
    "print()\n",
    "y=int(pi)\n",
    "print(y)\n",
    "print(type(y))"
   ]
  },
  {
   "cell_type": "code",
   "execution_count": 9,
   "id": "96c8df5f",
   "metadata": {},
   "outputs": [],
   "source": [
    "#Question-8\n",
    "# Write a program to swap the two integers passed as runtime variables."
   ]
  },
  {
   "cell_type": "code",
   "execution_count": 12,
   "id": "38caab96",
   "metadata": {},
   "outputs": [
    {
     "name": "stdout",
     "output_type": "stream",
     "text": [
      "Before the swap the values\n",
      "3 6\n",
      "\n",
      "After the swap the values\n",
      "6 3\n"
     ]
    }
   ],
   "source": [
    "x,y=3,6\n",
    "print('Before the swap the values')\n",
    "print(x,y)\n",
    "print()\n",
    "x,y=y,x\n",
    "print('After the swap the values')\n",
    "print(x,y)"
   ]
  },
  {
   "cell_type": "code",
   "execution_count": 10,
   "id": "9fbd0c13",
   "metadata": {},
   "outputs": [],
   "source": [
    "#Question-9\n",
    "# find the remainder after dividing 542 by 16"
   ]
  },
  {
   "cell_type": "code",
   "execution_count": 13,
   "id": "49919961",
   "metadata": {},
   "outputs": [
    {
     "name": "stdout",
     "output_type": "stream",
     "text": [
      "33.875\n"
     ]
    }
   ],
   "source": [
    "print(542/16)"
   ]
  },
  {
   "cell_type": "code",
   "execution_count": 11,
   "id": "1ec15f67",
   "metadata": {},
   "outputs": [],
   "source": [
    "#Question-10\n",
    "# Assign the value 299792458 to the variable speed_of_light"
   ]
  },
  {
   "cell_type": "code",
   "execution_count": 14,
   "id": "75c06cd0",
   "metadata": {},
   "outputs": [
    {
     "name": "stdout",
     "output_type": "stream",
     "text": [
      "299792458\n"
     ]
    }
   ],
   "source": [
    "speed_of_light=299792458\n",
    "print(speed_of_light)"
   ]
  },
  {
   "cell_type": "code",
   "execution_count": 12,
   "id": "52d43236",
   "metadata": {},
   "outputs": [],
   "source": [
    "#Question-11\n",
    "# Create variables to hold the values 20&3 print the result of 20/3 as a whole number and a remainder.\n",
    "# eg:the ans is 6 with a remainder of 2"
   ]
  },
  {
   "cell_type": "code",
   "execution_count": 15,
   "id": "0696a069",
   "metadata": {},
   "outputs": [
    {
     "name": "stdout",
     "output_type": "stream",
     "text": [
      "6.666666666666667\n",
      "2\n"
     ]
    }
   ],
   "source": [
    "x=20\n",
    "y=3\n",
    "print(x/y)\n",
    "print(x%y)"
   ]
  },
  {
   "cell_type": "code",
   "execution_count": 13,
   "id": "b2a8ac31",
   "metadata": {},
   "outputs": [],
   "source": [
    "#Question-12\n",
    "# Print the result of 3 raise to the 5th power. eg: 3 raised to the 5 power is 243"
   ]
  },
  {
   "cell_type": "code",
   "execution_count": 16,
   "id": "ff02a947",
   "metadata": {},
   "outputs": [
    {
     "name": "stdout",
     "output_type": "stream",
     "text": [
      "243\n"
     ]
    }
   ],
   "source": [
    "x=3\n",
    "y=5\n",
    "print(x**y)"
   ]
  },
  {
   "cell_type": "code",
   "execution_count": 14,
   "id": "f99ed700",
   "metadata": {},
   "outputs": [],
   "source": [
    "#Question-13\n",
    "# Create three variables to hold strings- title,first and last names.\n",
    "# print 'hello<title><first><last>' using four different print statements\n",
    "# eg: hello mr orville wright"
   ]
  },
  {
   "cell_type": "code",
   "execution_count": 17,
   "id": "f6923ebb",
   "metadata": {},
   "outputs": [
    {
     "name": "stdout",
     "output_type": "stream",
     "text": [
      "Hello Mr. Venky Kanchi\n"
     ]
    }
   ],
   "source": [
    "x='Mr.'\n",
    "y='Venky'\n",
    "z=\"Kanchi\"\n",
    "print('Hello',x,y,z)"
   ]
  },
  {
   "cell_type": "code",
   "execution_count": 15,
   "id": "7363b25b",
   "metadata": {},
   "outputs": [],
   "source": [
    "#Question-14\n",
    "# Create a variable named var1 that contains the result of 10/3\n",
    "# print the result limiting the display of the variable to 2 decimal places.\n",
    "# eg: the result is 3.33"
   ]
  },
  {
   "cell_type": "code",
   "execution_count": 18,
   "id": "ace63ddd",
   "metadata": {},
   "outputs": [
    {
     "name": "stdout",
     "output_type": "stream",
     "text": [
      "3.33\n",
      "3.33\n"
     ]
    }
   ],
   "source": [
    "x=10\n",
    "y=3\n",
    "var1=x/y\n",
    "print('%.2f'%var1)\n",
    "print(round(var1,2))"
   ]
  },
  {
   "cell_type": "code",
   "execution_count": 16,
   "id": "84e17ecc",
   "metadata": {},
   "outputs": [],
   "source": [
    "#Question-15\n",
    "# Create a variable named a that contains the no.4\n",
    "# Create a variable nemed b that contains the no.5\n",
    "# Create a variable named c that contains the sum of a&b\n",
    "# print the result"
   ]
  },
  {
   "cell_type": "code",
   "execution_count": 1,
   "id": "05e66d5e",
   "metadata": {},
   "outputs": [
    {
     "name": "stdout",
     "output_type": "stream",
     "text": [
      "9\n"
     ]
    }
   ],
   "source": [
    "a = 4\n",
    "b = 5\n",
    "c = a + b\n",
    "print(c)"
   ]
  },
  {
   "cell_type": "code",
   "execution_count": null,
   "id": "3aefb628",
   "metadata": {},
   "outputs": [],
   "source": []
  },
  {
   "cell_type": "code",
   "execution_count": null,
   "id": "4c25b203",
   "metadata": {},
   "outputs": [],
   "source": []
  },
  {
   "cell_type": "code",
   "execution_count": null,
   "id": "b03ee531",
   "metadata": {},
   "outputs": [],
   "source": []
  },
  {
   "cell_type": "code",
   "execution_count": null,
   "id": "fdcd55c9",
   "metadata": {},
   "outputs": [],
   "source": []
  },
  {
   "cell_type": "code",
   "execution_count": null,
   "id": "d907f11b",
   "metadata": {},
   "outputs": [],
   "source": []
  },
  {
   "cell_type": "code",
   "execution_count": null,
   "id": "1fd81ca8",
   "metadata": {},
   "outputs": [],
   "source": []
  },
  {
   "cell_type": "code",
   "execution_count": null,
   "id": "7637e1b2",
   "metadata": {},
   "outputs": [],
   "source": []
  }
 ],
 "metadata": {
  "kernelspec": {
   "display_name": "Python 3 (ipykernel)",
   "language": "python",
   "name": "python3"
  },
  "language_info": {
   "codemirror_mode": {
    "name": "ipython",
    "version": 3
   },
   "file_extension": ".py",
   "mimetype": "text/x-python",
   "name": "python",
   "nbconvert_exporter": "python",
   "pygments_lexer": "ipython3",
   "version": "3.9.12"
  }
 },
 "nbformat": 4,
 "nbformat_minor": 5
}
