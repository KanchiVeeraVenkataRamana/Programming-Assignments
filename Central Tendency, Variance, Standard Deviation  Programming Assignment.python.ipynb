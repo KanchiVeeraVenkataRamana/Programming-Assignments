{
 "cells": [
  {
   "cell_type": "markdown",
   "id": "46872884",
   "metadata": {},
   "source": [
    "# Descriptive Statistics: Central Tendency"
   ]
  },
  {
   "cell_type": "code",
   "execution_count": 19,
   "id": "1567021a",
   "metadata": {},
   "outputs": [],
   "source": [
    "#Question-1\n",
    "#  Find the mean,and median of the data frame below?\n",
    "# Create a Dictionary of series\n",
    "# df={'Name':pd.Series(['Tom','James','Ricky','Vin','Steve','Smith','Jack','Lee','Chanchal','Gasper','Naviya','Andres']),\n",
    "#     ' Age':pd.Series([25,26,25,23,30,29,23,34,40,30,51,46]),\n",
    "#     'Rating':pd.Series([4.23,3.24,3.98,2.56,3.20,4.6,3.8,3.78,2.98,4.80,4.10,3.65])}"
   ]
  },
  {
   "cell_type": "code",
   "execution_count": 21,
   "id": "6ddef81a",
   "metadata": {},
   "outputs": [
    {
     "name": "stdout",
     "output_type": "stream",
     "text": [
      "DataFrame\n",
      "---\n",
      "        Name   Age  Rating\n",
      "0        Tom    25    4.23\n",
      "1      James    26    3.24\n",
      "2      Ricky    25    3.98\n",
      "3        Vin    23    2.56\n",
      "4      Steve    30    3.20\n",
      "5      Smith    29    4.60\n",
      "6       Jack    23    3.80\n",
      "7        Lee    34    3.78\n",
      "8   Chanchal    40    2.98\n",
      "9     Gasper    30    4.80\n",
      "10    Naviya    51    4.10\n",
      "11    Andres    46    3.65\n",
      "\n",
      "mean data is:\n",
      "  Age      31.833333\n",
      "Rating     3.743333\n",
      "dtype: float64\n",
      "\n",
      "median data is: \n",
      "  Age      29.50\n",
      "Rating     3.79\n",
      "dtype: float64\n"
     ]
    },
    {
     "name": "stderr",
     "output_type": "stream",
     "text": [
      "C:\\Windows\\Temp\\ipykernel_23352\\1552751903.py:10: FutureWarning: Dropping of nuisance columns in DataFrame reductions (with 'numeric_only=None') is deprecated; in a future version this will raise TypeError.  Select only valid columns before calling the reduction.\n",
      "  print('mean data is:\\n',data.mean())\n",
      "C:\\Windows\\Temp\\ipykernel_23352\\1552751903.py:12: FutureWarning: Dropping of nuisance columns in DataFrame reductions (with 'numeric_only=None') is deprecated; in a future version this will raise TypeError.  Select only valid columns before calling the reduction.\n",
      "  print('median data is: \\n',data.median())\n"
     ]
    }
   ],
   "source": [
    "import pandas as pd\n",
    "df={'Name':pd.Series(['Tom','James','Ricky','Vin','Steve','Smith','Jack','Lee','Chanchal','Gasper','Naviya','Andres']),\n",
    "    ' Age':pd.Series([25,26,25,23,30,29,23,34,40,30,51,46]),\n",
    "    'Rating':pd.Series([4.23,3.24,3.98,2.56,3.20,4.6,3.8,3.78,2.98,4.80,4.10,3.65])}\n",
    "\n",
    "data=pd.DataFrame(df)\n",
    "print('DataFrame\\n---')\n",
    "print(data)\n",
    "print()\n",
    "print('mean data is:\\n',data.mean())\n",
    "print()\n",
    "print('median data is: \\n',data.median())"
   ]
  },
  {
   "cell_type": "code",
   "execution_count": 17,
   "id": "fde4e4a7",
   "metadata": {},
   "outputs": [],
   "source": [
    "#Question-2\n",
    "# find the mode of the data frame\n",
    "# df={'Name':pd.Series(['Tom','James','Ricky','Vin','Steve','Smith','Jack','Lee','Chanchal','Gasper','Naviya','Andres']),\n",
    "#     ' Age':pd.Series([25,26,25,23,30,29,23,34,40,30,51,46]),\n",
    "#     'Rating':pd.Series([4.23,3.24,3.98,2.56,3.20,4.6,3.8,3.78,2.98,4.80,4.10,3.65])}"
   ]
  },
  {
   "cell_type": "code",
   "execution_count": 18,
   "id": "c6615f7b",
   "metadata": {},
   "outputs": [
    {
     "name": "stdout",
     "output_type": "stream",
     "text": [
      "DataFrame\n",
      "---\n",
      "        Name   Age  Rating\n",
      "0        Tom    25    4.23\n",
      "1      James    26    3.24\n",
      "2      Ricky    25    3.98\n",
      "3        Vin    23    2.56\n",
      "4      Steve    30    3.20\n",
      "5      Smith    29    4.60\n",
      "6       Jack    23    3.80\n",
      "7        Lee    34    3.78\n",
      "8   Chanchal    40    2.98\n",
      "9     Gasper    30    4.80\n",
      "10    Naviya    51    4.10\n",
      "11    Andres    46    3.65\n",
      "\n",
      "\n",
      "Mode data is:\n",
      "         Name   Age  Rating\n",
      "0     Andres  23.0    2.56\n",
      "1   Chanchal  25.0    2.98\n",
      "2     Gasper  30.0    3.20\n",
      "3       Jack   NaN    3.24\n",
      "4      James   NaN    3.65\n",
      "5        Lee   NaN    3.78\n",
      "6     Naviya   NaN    3.80\n",
      "7      Ricky   NaN    3.98\n",
      "8      Smith   NaN    4.10\n",
      "9      Steve   NaN    4.23\n",
      "10       Tom   NaN    4.60\n",
      "11       Vin   NaN    4.80\n"
     ]
    }
   ],
   "source": [
    "import pandas as pd\n",
    "df={'Name':pd.Series(['Tom','James','Ricky','Vin','Steve','Smith','Jack','Lee','Chanchal','Gasper','Naviya','Andres']),\n",
    "     ' Age':pd.Series([25,26,25,23,30,29,23,34,40,30,51,46]),\n",
    "      'Rating':pd.Series([4.23,3.24,3.98,2.56,3.20,4.6,3.8,3.78,2.98,4.80,4.10,3.65])}\n",
    "\n",
    "data=pd.DataFrame(df)\n",
    "print('DataFrame\\n---')\n",
    "print(data)\n",
    "print()\n",
    "print()\n",
    "print('Mode data is:\\n',data.mode())"
   ]
  },
  {
   "cell_type": "code",
   "execution_count": 23,
   "id": "0b3a531d",
   "metadata": {},
   "outputs": [],
   "source": [
    "#Question-3\n",
    "# harmonic_mean()This function returns the harmonic mean of the data.for three values [2,4,9,7] find out the harmonic mean"
   ]
  },
  {
   "cell_type": "code",
   "execution_count": 1,
   "id": "14396d28",
   "metadata": {},
   "outputs": [
    {
     "name": "stdout",
     "output_type": "stream",
     "text": [
      "Harmonic Mean is:  3.516616314199396\n"
     ]
    }
   ],
   "source": [
    "import statistics\n",
    "data=[2,4,9.7]\n",
    "print('Harmonic Mean is: ',statistics.harmonic_mean(data))"
   ]
  },
  {
   "cell_type": "code",
   "execution_count": 25,
   "id": "764288fe",
   "metadata": {},
   "outputs": [],
   "source": [
    "#Question-4\n",
    "# Consider the ages of five employees as 30,30,32,38,60 years. Calculate the measures of central tendency"
   ]
  },
  {
   "cell_type": "code",
   "execution_count": 4,
   "id": "83bd6eef",
   "metadata": {},
   "outputs": [
    {
     "name": "stdout",
     "output_type": "stream",
     "text": [
      "Central Tendency(Mean,Median,Mode)\n",
      "Mean of the data is: 38\n",
      "Median of the data is: 32\n",
      "Mode of the data is: 30\n"
     ]
    }
   ],
   "source": [
    "import statistics\n",
    "x=[30,30,32,38,60]\n",
    "print('Central Tendency(Mean,Median,Mode)')\n",
    "print('Mean of the data is:',statistics.mean(x))\n",
    "print('Median of the data is:',statistics.median(x))\n",
    "print('Mode of the data is:',statistics.mode(x))"
   ]
  },
  {
   "cell_type": "code",
   "execution_count": null,
   "id": "9712d227",
   "metadata": {},
   "outputs": [],
   "source": [
    "#Question-5\n",
    "# A batsman scores an average of 48 runs in six matches. if his score in five matches is 51, 45,46,44,and 49.Find his score\n",
    "#  in the sixth match?"
   ]
  },
  {
   "cell_type": "code",
   "execution_count": 47,
   "id": "7bc3515a",
   "metadata": {},
   "outputs": [
    {
     "name": "stdout",
     "output_type": "stream",
     "text": [
      "Average of the sixth match is: 47\n"
     ]
    }
   ],
   "source": [
    "import statistics\n",
    "data=[51,45,46,44,49]\n",
    "print('Average of the sixth match is:',statistics.mean(data))"
   ]
  },
  {
   "cell_type": "code",
   "execution_count": null,
   "id": "a1e4ed7f",
   "metadata": {},
   "outputs": [],
   "source": []
  },
  {
   "cell_type": "code",
   "execution_count": null,
   "id": "336544aa",
   "metadata": {},
   "outputs": [],
   "source": []
  },
  {
   "cell_type": "markdown",
   "id": "199deac6",
   "metadata": {},
   "source": [
    "# Varience, Standard Deviation"
   ]
  },
  {
   "cell_type": "code",
   "execution_count": 40,
   "id": "fb0600ce",
   "metadata": {},
   "outputs": [],
   "source": [
    "#Question-1\n",
    "# Find standard deviation for the given list of items\n",
    "# items=[12,86,87,88,88,87,85,86]"
   ]
  },
  {
   "cell_type": "code",
   "execution_count": 44,
   "id": "4e397cb4",
   "metadata": {},
   "outputs": [
    {
     "name": "stdout",
     "output_type": "stream",
     "text": [
      "The Standard Deviation is: 26.435568571798974\n"
     ]
    }
   ],
   "source": [
    "import statistics\n",
    "data=[12,86,87,88,88,87,85,86]\n",
    "print('The Standard Deviation is:',statistics.stdev(data))"
   ]
  },
  {
   "cell_type": "code",
   "execution_count": 48,
   "id": "a13a5ceb",
   "metadata": {},
   "outputs": [],
   "source": [
    "#Question-2\n",
    "# Below three columns, calculate standard deviation using pandas library first convert below d into a dataframe\n",
    "# d={'Name':['Alisa','Bobby','Cathrine','Madonna','Rocky','Sebastian','Jaqluine','Rahul','David','Andrew','Ajay','Teresa'],\n",
    "#    'Score1':[65,47,55,74,31,77,85,63,42,32,71,57],'Srore2':[89,87,67,55,47,72,76,79,44,92,99,69]\n",
    "#     'Score3':[56,86,77,45,73,62,74,89,71,67,97,68]}"
   ]
  },
  {
   "cell_type": "code",
   "execution_count": 55,
   "id": "68e837f8",
   "metadata": {},
   "outputs": [
    {
     "name": "stdout",
     "output_type": "stream",
     "text": [
      "         Name  Score1  Srore2  Score3\n",
      "0       Alisa      65      89      56\n",
      "1       Bobby      47      87      86\n",
      "2    Cathrine      55      67      77\n",
      "3     Madonna      74      55      45\n",
      "4       Rocky      31      47      73\n",
      "5   Sebastian      77      72      62\n",
      "6    Jaqluine      85      76      74\n",
      "7       Rahul      63      79      89\n",
      "8       David      42      44      71\n",
      "9      Andrew      32      92      67\n",
      "10       Ajay      71      99      97\n",
      "11     Teresa      57      69      68\n",
      "\n",
      "Standard Deviation of the data is:\n",
      "  Score1    17.529845\n",
      "Srore2    17.653225\n",
      "Score3    14.355603\n",
      "dtype: float64\n"
     ]
    },
    {
     "name": "stderr",
     "output_type": "stream",
     "text": [
      "C:\\Windows\\Temp\\ipykernel_23352\\2454108236.py:9: FutureWarning: Dropping of nuisance columns in DataFrame reductions (with 'numeric_only=None') is deprecated; in a future version this will raise TypeError.  Select only valid columns before calling the reduction.\n",
      "  print('Standard Deviation of the data is:\\n ',data.std())\n"
     ]
    }
   ],
   "source": [
    "import pandas as pd\n",
    "import statistics\n",
    "d={'Name':['Alisa','Bobby','Cathrine','Madonna','Rocky','Sebastian','Jaqluine','Rahul','David','Andrew','Ajay','Teresa'],\n",
    "   'Score1':[65,47,55,74,31,77,85,63,42,32,71,57],'Srore2':[89,87,67,55,47,72,76,79,44,92,99,69],\n",
    "   'Score3':[56,86,77,45,73,62,74,89,71,67,97,68]}\n",
    "data=pd.DataFrame(d)\n",
    "print(data)\n",
    "print()\n",
    "print('Standard Deviation of the data is:\\n ',data.std())"
   ]
  },
  {
   "cell_type": "code",
   "execution_count": 56,
   "id": "467d11a0",
   "metadata": {},
   "outputs": [],
   "source": [
    "#Question-3\n",
    "# Below is the data for six students studying average hours in a day.Find the standard deviation for the data \n",
    "# x=[3,7,6,4,3,4]"
   ]
  },
  {
   "cell_type": "code",
   "execution_count": 60,
   "id": "b031883e",
   "metadata": {},
   "outputs": [
    {
     "name": "stdout",
     "output_type": "stream",
     "text": [
      "Average of the six studying hours: 4.5\n",
      "Standard Deviation of the data: 1.6431676725154984\n"
     ]
    }
   ],
   "source": [
    "import statistics\n",
    "x=[3,7,6,4,3,4]\n",
    "print('Average of the six studying hours:',statistics.mean(x))\n",
    "print('Standard Deviation of the data:',statistics.stdev(x))"
   ]
  },
  {
   "cell_type": "code",
   "execution_count": 61,
   "id": "34fc4357",
   "metadata": {},
   "outputs": [],
   "source": [
    "#Question-4\n",
    "# Calculate varience() for the given list using the statistics module\n",
    "# x=[4,8,6,5,3,2,8,9,2,5]"
   ]
  },
  {
   "cell_type": "code",
   "execution_count": 63,
   "id": "bb39f535",
   "metadata": {},
   "outputs": [
    {
     "name": "stdout",
     "output_type": "stream",
     "text": [
      "Varience of the x is: 6.4\n"
     ]
    }
   ],
   "source": [
    "import statistics\n",
    "x=[4,8,6,5,3,2,8,9,2,5]\n",
    "print('Varience of the x is:',statistics.variance(x))"
   ]
  },
  {
   "cell_type": "code",
   "execution_count": 64,
   "id": "fbee3563",
   "metadata": {},
   "outputs": [],
   "source": [
    "#Question-5\n",
    "# Write a code to that takes data from a sample and returns an estimation of the population standard deviation,\n",
    "# x=[4,8,6,5,3,2,8,9,2,5]\n",
    "# Hint:stdev()"
   ]
  },
  {
   "cell_type": "code",
   "execution_count": 65,
   "id": "f72ef71b",
   "metadata": {},
   "outputs": [
    {
     "name": "stdout",
     "output_type": "stream",
     "text": [
      "Standard Deviation of the data: 2.5298221281347035\n"
     ]
    }
   ],
   "source": [
    "import statistics \n",
    "x=[4,8,6,5,3,2,8,9,2,5]\n",
    "print('Standard Deviation of the data:',statistics.stdev(x))"
   ]
  },
  {
   "cell_type": "code",
   "execution_count": null,
   "id": "7917cec4",
   "metadata": {},
   "outputs": [],
   "source": []
  },
  {
   "cell_type": "code",
   "execution_count": null,
   "id": "ac592e29",
   "metadata": {},
   "outputs": [],
   "source": []
  },
  {
   "cell_type": "code",
   "execution_count": null,
   "id": "152789ad",
   "metadata": {},
   "outputs": [],
   "source": []
  },
  {
   "cell_type": "code",
   "execution_count": null,
   "id": "a05637d7",
   "metadata": {},
   "outputs": [],
   "source": []
  },
  {
   "cell_type": "code",
   "execution_count": null,
   "id": "13f02306",
   "metadata": {},
   "outputs": [],
   "source": []
  },
  {
   "cell_type": "code",
   "execution_count": null,
   "id": "38792bd5",
   "metadata": {},
   "outputs": [],
   "source": []
  },
  {
   "cell_type": "code",
   "execution_count": null,
   "id": "b25fe2e3",
   "metadata": {},
   "outputs": [],
   "source": []
  },
  {
   "cell_type": "code",
   "execution_count": null,
   "id": "fa93ef3d",
   "metadata": {},
   "outputs": [],
   "source": []
  }
 ],
 "metadata": {
  "kernelspec": {
   "display_name": "Python 3 (ipykernel)",
   "language": "python",
   "name": "python3"
  },
  "language_info": {
   "codemirror_mode": {
    "name": "ipython",
    "version": 3
   },
   "file_extension": ".py",
   "mimetype": "text/x-python",
   "name": "python",
   "nbconvert_exporter": "python",
   "pygments_lexer": "ipython3",
   "version": "3.9.12"
  }
 },
 "nbformat": 4,
 "nbformat_minor": 5
}
