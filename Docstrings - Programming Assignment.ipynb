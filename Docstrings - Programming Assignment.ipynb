{
 "cells": [
  {
   "cell_type": "code",
   "execution_count": 1,
   "id": "68141378",
   "metadata": {},
   "outputs": [],
   "source": [
    "#Question-1\n",
    "# Write a code to get the match.sqrt function documentation:"
   ]
  },
  {
   "cell_type": "code",
   "execution_count": 3,
   "id": "ae4ad967",
   "metadata": {},
   "outputs": [
    {
     "name": "stdout",
     "output_type": "stream",
     "text": [
      "5929\n"
     ]
    }
   ],
   "source": [
    "def sqrt(x):\n",
    "    print(x*x)\n",
    "sqrt(77)"
   ]
  },
  {
   "cell_type": "code",
   "execution_count": 4,
   "id": "dd007ed8",
   "metadata": {},
   "outputs": [],
   "source": [
    "#Question-2\n",
    "# Write a code to create your own function for adding two number and add customdocstring inside the function.\n",
    "# And then print your function documentation."
   ]
  },
  {
   "cell_type": "code",
   "execution_count": 7,
   "id": "7d73d1fc",
   "metadata": {},
   "outputs": [
    {
     "name": "stdout",
     "output_type": "stream",
     "text": [
      "24\n",
      "takes two parameters\n",
      " returns sum\n"
     ]
    }
   ],
   "source": [
    "def add(a,b):\n",
    " '''takes two parameters\n",
    " returns sum'''\n",
    " return a+b\n",
    "print(add(4,20))\n",
    "print(add.__doc__)"
   ]
  },
  {
   "cell_type": "code",
   "execution_count": null,
   "id": "d1844956",
   "metadata": {},
   "outputs": [],
   "source": [
    "#Question-3\n",
    "# Write a code to create your own function for adding two number and add custom docstring inside the function. \n",
    "# And then print your function documentation without __doc__."
   ]
  },
  {
   "cell_type": "code",
   "execution_count": 8,
   "id": "17d34cea",
   "metadata": {},
   "outputs": [
    {
     "name": "stdout",
     "output_type": "stream",
     "text": [
      "58\n",
      "takes two parameters\n",
      " returns sum\n"
     ]
    }
   ],
   "source": [
    "def add(x,y):\n",
    " '''takes two parameters\n",
    " returns sum'''\n",
    " return x+y\n",
    "print(add(3,55))\n",
    "print(add.__doc__)"
   ]
  },
  {
   "cell_type": "code",
   "execution_count": 9,
   "id": "b06f1d96",
   "metadata": {},
   "outputs": [],
   "source": [
    "#Question-4\n",
    "# Write a code for one liner documentionf or a custom function"
   ]
  },
  {
   "cell_type": "code",
   "execution_count": 10,
   "id": "1447b21e",
   "metadata": {},
   "outputs": [
    {
     "name": "stdout",
     "output_type": "stream",
     "text": [
      "This module provides access to the mathematical functions\n",
      "defined by the C standard.\n",
      "Return the square root of x.\n"
     ]
    }
   ],
   "source": [
    "import math\n",
    "print(math.__doc__)\n",
    "print(math.sqrt.__doc__)"
   ]
  },
  {
   "cell_type": "code",
   "execution_count": 11,
   "id": "be1d64a6",
   "metadata": {},
   "outputs": [],
   "source": [
    "#Question-5\n",
    "# Write a multi-line Docstrings code?"
   ]
  },
  {
   "cell_type": "code",
   "execution_count": 13,
   "id": "a9590a30",
   "metadata": {},
   "outputs": [],
   "source": [
    "def calculate_average(numbers):\n",
    "    \"\"\"\n",
    "    This function takes in a list of numbers and calculates their average.\n",
    "    Args:\n",
    "        numbers (list): A list of integers or floats.\n",
    "    Returns:\n",
    "        float: The average of the numbers in the list.\n",
    "    \"\"\"\n",
    "    if len(numbers) == 0:\n",
    "        return 0.0\n",
    "    \n",
    "    return sum(numbers) / len(numbers)"
   ]
  },
  {
   "cell_type": "code",
   "execution_count": null,
   "id": "ef745519",
   "metadata": {},
   "outputs": [],
   "source": []
  },
  {
   "cell_type": "code",
   "execution_count": null,
   "id": "c0b3a8a8",
   "metadata": {},
   "outputs": [],
   "source": []
  }
 ],
 "metadata": {
  "kernelspec": {
   "display_name": "Python 3 (ipykernel)",
   "language": "python",
   "name": "python3"
  },
  "language_info": {
   "codemirror_mode": {
    "name": "ipython",
    "version": 3
   },
   "file_extension": ".py",
   "mimetype": "text/x-python",
   "name": "python",
   "nbconvert_exporter": "python",
   "pygments_lexer": "ipython3",
   "version": "3.9.12"
  }
 },
 "nbformat": 4,
 "nbformat_minor": 5
}
