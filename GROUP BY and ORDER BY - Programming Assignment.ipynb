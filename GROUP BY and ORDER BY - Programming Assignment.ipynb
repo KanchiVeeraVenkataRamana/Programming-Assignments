{
 "cells": [
  {
   "cell_type": "code",
   "execution_count": null,
   "id": "4e829faa",
   "metadata": {},
   "outputs": [],
   "source": [
    "#Question-1\n",
    "#  REFER THE FOLLOWING DATABASES:\n",
    "#  Drive link for the “products” table: SQL where statement database(products).xlsx\n",
    "#  Drive link for the “customer” table: SQL where statement database(customer).xlsx\n",
    "#  Write SQL statement  to lists the number of customers in each country. Only include countries with more than 3 customers"
   ]
  },
  {
   "cell_type": "code",
   "execution_count": null,
   "id": "ed01bf2c",
   "metadata": {},
   "outputs": [],
   "source": [
    "SELECT customer.country, COUNT(DISTINCT customer.customer_id) AS num_customers\n",
    "FROM customer\n",
    "INNER JOIN products\n",
    "ON customer.customer_id = products.customer_id\n",
    "GROUP BY customer.country\n",
    "HAVING COUNT(DISTINCT customer.customer_id) > 3"
   ]
  },
  {
   "cell_type": "code",
   "execution_count": null,
   "id": "8e48878c",
   "metadata": {},
   "outputs": [],
   "source": [
    "#Question-2\n",
    "# Write SQL statement to lists the number of orders sent by each shipper, the information is in two table so joinis also \n",
    "# with Group by statement: As you can see in below example the ShipperID is common in both tables Orders and Shippers."
   ]
  },
  {
   "cell_type": "code",
   "execution_count": null,
   "id": "c43c0277",
   "metadata": {},
   "outputs": [],
   "source": [
    "SELECT shippers.shipper_name, COUNT(orders.shipper_id) AS num_orders\n",
    "FROM orders\n",
    "INNER JOIN shippers\n",
    "ON orders.shipper_id = shippers.shipper_id\n",
    "GROUP BY shippers.shipper_name"
   ]
  },
  {
   "cell_type": "code",
   "execution_count": null,
   "id": "4e4d43c2",
   "metadata": {},
   "outputs": [],
   "source": [
    "#Question-3\n",
    "# Find the number of customers in each country using group by statement"
   ]
  },
  {
   "cell_type": "code",
   "execution_count": null,
   "id": "c3ab9a6c",
   "metadata": {},
   "outputs": [],
   "source": [
    "SELECT country, COUNT(customer_id) AS num_customers\n",
    "FROM customer\n",
    "GROUP BY country"
   ]
  },
  {
   "cell_type": "code",
   "execution_count": null,
   "id": "294c66c7",
   "metadata": {},
   "outputs": [],
   "source": [
    "#Question-4\n",
    "# Write a multiple order by a statement where the county is in ascending order and the customer name is in descending order\n",
    "# from the customer's table"
   ]
  },
  {
   "cell_type": "code",
   "execution_count": null,
   "id": "16b0af64",
   "metadata": {},
   "outputs": [],
   "source": [
    "SELECT customer_id, customer_name, country\n",
    "FROM customer\n",
    "ORDER BY country ASC, customer_name DESC"
   ]
  },
  {
   "cell_type": "code",
   "execution_count": null,
   "id": "c4f6b32e",
   "metadata": {},
   "outputs": [],
   "source": [
    "#Question-5\n",
    "# Write a SQL statement to selects all customers from the \"Customers\" table, sorted by the \"Country\" column\n",
    "# in descending order:"
   ]
  },
  {
   "cell_type": "code",
   "execution_count": null,
   "id": "fe326f70",
   "metadata": {},
   "outputs": [],
   "source": [
    "SELECT CustomerID, CustomerName, Country\n",
    "FROM Customers\n",
    "ORDER BY Country DESC;"
   ]
  },
  {
   "cell_type": "code",
   "execution_count": null,
   "id": "c6c4e708",
   "metadata": {},
   "outputs": [],
   "source": [
    "#Question-6\n",
    "# Write a SQL statement to selects all customers from the \"Customers\" table, sorted by the \"Country\" column:"
   ]
  },
  {
   "cell_type": "code",
   "execution_count": null,
   "id": "74b8e829",
   "metadata": {},
   "outputs": [],
   "source": [
    "SELECT CustomerID, CustomerName, Country\n",
    "FROM Customers\n",
    "ORDER BY Country;"
   ]
  },
  {
   "cell_type": "code",
   "execution_count": null,
   "id": "1e20308b",
   "metadata": {},
   "outputs": [],
   "source": [
    "#Question-7\n",
    "# Write a SQL statement, to select all fields from \"Customers\" where the country is NOT \"Germany\" and NOT \"USA\":"
   ]
  },
  {
   "cell_type": "code",
   "execution_count": null,
   "id": "4add862b",
   "metadata": {},
   "outputs": [],
   "source": [
    "SELECT *\n",
    "FROM Customers\n",
    "WHERE Country NOT IN ('Germany', 'USA');"
   ]
  },
  {
   "cell_type": "code",
   "execution_count": null,
   "id": "b2526b72",
   "metadata": {},
   "outputs": [],
   "source": [
    "#Question-8\n",
    "# REFER THE FOLLOWING DATABASES:\n",
    "# Drive link for the “products” table: SQL where statement database(products).xlsx\n",
    "# Drive link for the “customer” table: SQL where statement database(customer).xlsx\n",
    "# Write a SQL statement, selects all fields from \"Customers\" where the country is \"Germany\" AND city must be \n",
    "# \"Berlin\" OR \"München\" (use parenthesis to form complex expressions):"
   ]
  },
  {
   "cell_type": "code",
   "execution_count": null,
   "id": "649f5217",
   "metadata": {},
   "outputs": [],
   "source": [
    "SELECT *\n",
    "FROM Customers\n",
    "WHERE Country = 'Germany' AND (City = 'Berlin' OR City = 'München')"
   ]
  },
  {
   "cell_type": "code",
   "execution_count": null,
   "id": "d92443fc",
   "metadata": {},
   "outputs": [],
   "source": []
  },
  {
   "cell_type": "code",
   "execution_count": null,
   "id": "834b8653",
   "metadata": {},
   "outputs": [],
   "source": []
  },
  {
   "cell_type": "code",
   "execution_count": null,
   "id": "f504208b",
   "metadata": {},
   "outputs": [],
   "source": []
  },
  {
   "cell_type": "code",
   "execution_count": null,
   "id": "c61333a0",
   "metadata": {},
   "outputs": [],
   "source": []
  },
  {
   "cell_type": "code",
   "execution_count": null,
   "id": "34b8fbfa",
   "metadata": {},
   "outputs": [],
   "source": []
  },
  {
   "cell_type": "code",
   "execution_count": null,
   "id": "ea9c9efe",
   "metadata": {},
   "outputs": [],
   "source": []
  },
  {
   "cell_type": "code",
   "execution_count": null,
   "id": "4635c47a",
   "metadata": {},
   "outputs": [],
   "source": []
  },
  {
   "cell_type": "code",
   "execution_count": null,
   "id": "e0d4f6ea",
   "metadata": {},
   "outputs": [],
   "source": []
  },
  {
   "cell_type": "code",
   "execution_count": null,
   "id": "de7b5819",
   "metadata": {},
   "outputs": [],
   "source": []
  },
  {
   "cell_type": "code",
   "execution_count": null,
   "id": "19f077a6",
   "metadata": {},
   "outputs": [],
   "source": []
  },
  {
   "cell_type": "code",
   "execution_count": null,
   "id": "f3000e14",
   "metadata": {},
   "outputs": [],
   "source": []
  },
  {
   "cell_type": "code",
   "execution_count": null,
   "id": "da59544b",
   "metadata": {},
   "outputs": [],
   "source": []
  },
  {
   "cell_type": "code",
   "execution_count": null,
   "id": "0b35302e",
   "metadata": {},
   "outputs": [],
   "source": []
  },
  {
   "cell_type": "code",
   "execution_count": null,
   "id": "d68c1ee1",
   "metadata": {},
   "outputs": [],
   "source": []
  },
  {
   "cell_type": "code",
   "execution_count": null,
   "id": "c0fb3a11",
   "metadata": {},
   "outputs": [],
   "source": []
  },
  {
   "cell_type": "code",
   "execution_count": null,
   "id": "50437b01",
   "metadata": {},
   "outputs": [],
   "source": []
  },
  {
   "cell_type": "code",
   "execution_count": null,
   "id": "cd89434e",
   "metadata": {},
   "outputs": [],
   "source": []
  },
  {
   "cell_type": "code",
   "execution_count": null,
   "id": "e481e805",
   "metadata": {},
   "outputs": [],
   "source": []
  },
  {
   "cell_type": "code",
   "execution_count": null,
   "id": "bbaaca97",
   "metadata": {},
   "outputs": [],
   "source": []
  },
  {
   "cell_type": "code",
   "execution_count": null,
   "id": "689cf47b",
   "metadata": {},
   "outputs": [],
   "source": []
  },
  {
   "cell_type": "code",
   "execution_count": null,
   "id": "4586777c",
   "metadata": {},
   "outputs": [],
   "source": []
  },
  {
   "cell_type": "code",
   "execution_count": null,
   "id": "30525370",
   "metadata": {},
   "outputs": [],
   "source": []
  },
  {
   "cell_type": "code",
   "execution_count": null,
   "id": "61dd0273",
   "metadata": {},
   "outputs": [],
   "source": []
  },
  {
   "cell_type": "code",
   "execution_count": null,
   "id": "f07ea550",
   "metadata": {},
   "outputs": [],
   "source": []
  },
  {
   "cell_type": "code",
   "execution_count": null,
   "id": "e730e14f",
   "metadata": {},
   "outputs": [],
   "source": []
  },
  {
   "cell_type": "code",
   "execution_count": null,
   "id": "e3d90f7f",
   "metadata": {},
   "outputs": [],
   "source": []
  },
  {
   "cell_type": "code",
   "execution_count": null,
   "id": "a11e2ec5",
   "metadata": {},
   "outputs": [],
   "source": []
  },
  {
   "cell_type": "code",
   "execution_count": null,
   "id": "ab4780b4",
   "metadata": {},
   "outputs": [],
   "source": []
  },
  {
   "cell_type": "code",
   "execution_count": null,
   "id": "bd65555b",
   "metadata": {},
   "outputs": [],
   "source": []
  },
  {
   "cell_type": "code",
   "execution_count": null,
   "id": "c43bba0e",
   "metadata": {},
   "outputs": [],
   "source": []
  },
  {
   "cell_type": "code",
   "execution_count": null,
   "id": "f7f2ed01",
   "metadata": {},
   "outputs": [],
   "source": []
  },
  {
   "cell_type": "code",
   "execution_count": null,
   "id": "b141839d",
   "metadata": {},
   "outputs": [],
   "source": []
  },
  {
   "cell_type": "code",
   "execution_count": null,
   "id": "208a45c2",
   "metadata": {},
   "outputs": [],
   "source": []
  }
 ],
 "metadata": {
  "kernelspec": {
   "display_name": "Python 3 (ipykernel)",
   "language": "python",
   "name": "python3"
  },
  "language_info": {
   "codemirror_mode": {
    "name": "ipython",
    "version": 3
   },
   "file_extension": ".py",
   "mimetype": "text/x-python",
   "name": "python",
   "nbconvert_exporter": "python",
   "pygments_lexer": "ipython3",
   "version": "3.9.12"
  }
 },
 "nbformat": 4,
 "nbformat_minor": 5
}
