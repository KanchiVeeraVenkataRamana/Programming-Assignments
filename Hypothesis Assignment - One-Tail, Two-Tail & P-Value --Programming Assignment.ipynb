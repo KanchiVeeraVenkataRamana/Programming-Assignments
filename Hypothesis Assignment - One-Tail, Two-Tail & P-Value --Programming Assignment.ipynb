{
 "cells": [
  {
   "cell_type": "code",
   "execution_count": 15,
   "id": "955fba81",
   "metadata": {},
   "outputs": [],
   "source": [
    "#Question-1\n",
    "# write a python program to find the test statistic for given values\n",
    "# x-bar=62.1\n",
    "# s=13.46\n",
    "# mu_null=60\n",
    "# n=30"
   ]
  },
  {
   "cell_type": "code",
   "execution_count": 1,
   "id": "5d92a723",
   "metadata": {},
   "outputs": [
    {
     "name": "stdout",
     "output_type": "stream",
     "text": [
      "test_statistic: 0.854544851976857\n"
     ]
    }
   ],
   "source": [
    "import scipy.stats as stats\n",
    "import math\n",
    "x_bar=62.1\n",
    "s=13.46\n",
    "mu_null=60\n",
    "n=30\n",
    "print('test_statistic:',(x_bar-mu_null)/(s/math.sqrt(n)))"
   ]
  },
  {
   "cell_type": "code",
   "execution_count": 9,
   "id": "ba5d943f",
   "metadata": {},
   "outputs": [],
   "source": [
    "#Question-2\n",
    "# write a python program to find the T_value for an /2=0.025 at 29 degrees of freedom(df)"
   ]
  },
  {
   "cell_type": "code",
   "execution_count": 2,
   "id": "d3b565f8",
   "metadata": {},
   "outputs": [
    {
     "name": "stdout",
     "output_type": "stream",
     "text": [
      "T_value is: -2.0452296421327034\n"
     ]
    }
   ],
   "source": [
    "import scipy.stats as stats\n",
    "print('T_value is:',stats.t.ppf(0.025,29))"
   ]
  },
  {
   "cell_type": "code",
   "execution_count": 21,
   "id": "51409575",
   "metadata": {},
   "outputs": [],
   "source": [
    "#Question-3\n",
    "# write a python program to find the p-value of a t-value bigger than 0.855 for a two tailes test at 29 degrees of \n",
    "# freedom(df)"
   ]
  },
  {
   "cell_type": "code",
   "execution_count": 3,
   "id": "31221dd8",
   "metadata": {},
   "outputs": [
    {
     "name": "stdout",
     "output_type": "stream",
     "text": [
      "Two_Tailed test: 0.3995598619573093\n"
     ]
    }
   ],
   "source": [
    "import scipy.stats as stats\n",
    "print('Two_Tailed test:',2*(1-stats.t.cdf(0.855,29)))"
   ]
  },
  {
   "cell_type": "code",
   "execution_count": 23,
   "id": "44725ef8",
   "metadata": {},
   "outputs": [],
   "source": [
    "#Question-4\n",
    "# write a program to calculate the p-value for a two tailed hypothesis test for a mean.\n",
    "# Here, the sample size is 30, the sample mean is 62.1, the sample standard deviation is 13.46, and the test is for a \n",
    "# mean different from 60."
   ]
  },
  {
   "cell_type": "code",
   "execution_count": 4,
   "id": "cb76d6f8",
   "metadata": {},
   "outputs": [
    {
     "name": "stdout",
     "output_type": "stream",
     "text": [
      "Two_tailed hypothesis test: 0.3998077505479367\n"
     ]
    }
   ],
   "source": [
    "import scipy.stats as stats\n",
    "import math\n",
    "x_bar=62.1\n",
    "s=13.46\n",
    "mu_null=60\n",
    "n=30\n",
    "t_sta=((x_bar-mu_null)/(s/math.sqrt(n)))\n",
    "print('Two_tailed hypothesis test:',2*(1-stats.t.cdf(t_sta,n-1)))"
   ]
  },
  {
   "cell_type": "code",
   "execution_count": null,
   "id": "f2f2c5cb",
   "metadata": {},
   "outputs": [],
   "source": [
    "#Question-5\n",
    "# write a program to calculate the p-value for a two tailed hypothesis test for a mean."
   ]
  },
  {
   "cell_type": "code",
   "execution_count": 5,
   "id": "9eb0f9a7",
   "metadata": {},
   "outputs": [
    {
     "name": "stdout",
     "output_type": "stream",
     "text": [
      "Two-tailed hypothesis test: 0.3998077505479367\n"
     ]
    }
   ],
   "source": [
    "import scipy.stats as stats\n",
    "import math\n",
    "x_bar=62.1\n",
    "s=13.46\n",
    "mu_null=60\n",
    "n=30\n",
    "t_sta=((x_bar-mu_null)/(s/math.sqrt(n)))\n",
    "print('Two-tailed hypothesis test:',2*(1-stats.t.cdf(t_sta,n-1)))"
   ]
  },
  {
   "cell_type": "code",
   "execution_count": 25,
   "id": "c6083e4c",
   "metadata": {},
   "outputs": [],
   "source": [
    "#Question-6\n",
    "# write a program to calculate the p_value for a 1-tail test mu_null=0.3\n",
    "# array=pd.Series([0.543,0.142,0.329,0.691,0.231,0.793,0.519,0.392,0.418])"
   ]
  },
  {
   "cell_type": "code",
   "execution_count": 34,
   "id": "441d093c",
   "metadata": {},
   "outputs": [
    {
     "name": "stdout",
     "output_type": "stream",
     "text": [
      "Mean is: 0.4508888888888889\n",
      "T_test value is: 0.0\n",
      "P_value is: 1.0\n"
     ]
    }
   ],
   "source": [
    "import scipy.stats as stats\n",
    "import pandas as pd\n",
    "array=pd.Series([0.543,0.142,0.329,0.691,0.231,0.793,0.519,0.392,0.418])\n",
    "x=array.mean()\n",
    "print('Mean is:',x)\n",
    "t_sta,p_val=stats.ttest_1samp(a=array,popmean=x)\n",
    "print('T_test value is:',t_sta)\n",
    "print(\"P_value is:\",p_val)"
   ]
  },
  {
   "cell_type": "code",
   "execution_count": 36,
   "id": "a08e29ed",
   "metadata": {},
   "outputs": [],
   "source": [
    "#Question-7\n",
    "# write a python program to find the z-value for an alpha=0.005 in the left tail"
   ]
  },
  {
   "cell_type": "code",
   "execution_count": 6,
   "id": "37d3571f",
   "metadata": {},
   "outputs": [
    {
     "name": "stdout",
     "output_type": "stream",
     "text": [
      "z-value is: -2.575829303548901\n"
     ]
    }
   ],
   "source": [
    "import scipy.stats as stats\n",
    "x=stats.norm.ppf(0.005)\n",
    "print('z-value is:',x)"
   ]
  },
  {
   "cell_type": "code",
   "execution_count": 38,
   "id": "49e47b43",
   "metadata": {},
   "outputs": [],
   "source": [
    "# Question-8\n",
    "# write a python program to find the p_value of a z_value smaller than -8 for a two tailed test"
   ]
  },
  {
   "cell_type": "code",
   "execution_count": 8,
   "id": "b54c9c48",
   "metadata": {},
   "outputs": [
    {
     "name": "stdout",
     "output_type": "stream",
     "text": [
      "p_value is: 1.244192114854348e-15\n"
     ]
    }
   ],
   "source": [
    "import scipy.stats as stats\n",
    "x=2*stats.norm.cdf(-8)\n",
    "print('p_value is:',x)"
   ]
  },
  {
   "cell_type": "code",
   "execution_count": 42,
   "id": "de840206",
   "metadata": {},
   "outputs": [],
   "source": [
    "#Question-9\n",
    "# write a python program to calculate the p_value for a two-tailes hypothesis test for a proposition\n",
    "# Here, the sample size is 100, the occurences are 10, and the test is for a proportion different from than 0.50"
   ]
  },
  {
   "cell_type": "code",
   "execution_count": 10,
   "id": "5f750c7a",
   "metadata": {},
   "outputs": [
    {
     "name": "stdout",
     "output_type": "stream",
     "text": [
      "Two-tailes hypothesis test: 1.244192114854348e-15\n"
     ]
    }
   ],
   "source": [
    "import scipy.stats as stats\n",
    "import math\n",
    "x=10\n",
    "n=100\n",
    "p=0.5\n",
    "P_hat=x/n\n",
    "test_stat=(P_hat-p)/(math.sqrt((p*(1-p))/(n)))\n",
    "print('Two-tailes hypothesis test:',2*stats.norm.cdf(test_stat))"
   ]
  },
  {
   "cell_type": "code",
   "execution_count": 48,
   "id": "808cabf5",
   "metadata": {},
   "outputs": [],
   "source": [
    "#Question-10\n",
    "# write a python program to calculate the test statistic for a proposition\n",
    "# x=10\n",
    "# n=40\n",
    "# p=0.45"
   ]
  },
  {
   "cell_type": "code",
   "execution_count": 11,
   "id": "0ed6aab2",
   "metadata": {},
   "outputs": [
    {
     "name": "stdout",
     "output_type": "stream",
     "text": [
      "Test_Statistics: -2.542566904654913\n"
     ]
    }
   ],
   "source": [
    "import scipy.stats as stats\n",
    "import math\n",
    "x=10\n",
    "n=40\n",
    "p=0.45\n",
    "P_hat=x/n\n",
    "test_stat=(P_hat-p)/(math.sqrt((p*(1-p))/(n)))\n",
    "print('Test_Statistics:',test_stat)"
   ]
  },
  {
   "cell_type": "code",
   "execution_count": 51,
   "id": "2b17e694",
   "metadata": {},
   "outputs": [],
   "source": [
    "#Question-11\n",
    "# write a python program to the z-value for an alpha=0.01 in the left tail"
   ]
  },
  {
   "cell_type": "code",
   "execution_count": 12,
   "id": "22a338cf",
   "metadata": {},
   "outputs": [
    {
     "name": "stdout",
     "output_type": "stream",
     "text": [
      "z-value: -2.3263478740408408\n"
     ]
    }
   ],
   "source": [
    "import scipy.stats as stats\n",
    "x=stats.norm.ppf(0.01)\n",
    "print('z-value:',x)"
   ]
  },
  {
   "cell_type": "code",
   "execution_count": 53,
   "id": "d09bda3c",
   "metadata": {},
   "outputs": [],
   "source": [
    "#Question-12\n",
    "# Write a python program to function find the p_value of a z_value smaller than -2.543:"
   ]
  },
  {
   "cell_type": "code",
   "execution_count": 13,
   "id": "be672ac1",
   "metadata": {},
   "outputs": [
    {
     "name": "stdout",
     "output_type": "stream",
     "text": [
      "z_value is: 0.00549526145552752\n"
     ]
    }
   ],
   "source": [
    "import scipy.stats as stats\n",
    "x=stats.norm.cdf(-2.543)\n",
    "print('z_value is:',x)"
   ]
  },
  {
   "cell_type": "code",
   "execution_count": 55,
   "id": "50dec126",
   "metadata": {},
   "outputs": [],
   "source": [
    "#Question-13\n",
    "# write a python program to fucnion find the p-value fora left-tailed hypothesis test for a proposition\n",
    "# Herem the sample size is 40, the occurences are 10, and the test is for a proposition smaller than 0.45"
   ]
  },
  {
   "cell_type": "code",
   "execution_count": 19,
   "id": "8f3c0584",
   "metadata": {},
   "outputs": [
    {
     "name": "stdout",
     "output_type": "stream",
     "text": [
      "Left-tailes hypothesis test: 0.005502076588434386\n"
     ]
    }
   ],
   "source": [
    "import scipy.stats as stats\n",
    "import math\n",
    "x=10\n",
    "n=40\n",
    "p=0.45\n",
    "P_hat=x/n\n",
    "test_stat=(P_hat-p)/(math.sqrt((p*(1-p))/(n)))\n",
    "print('Left-tailes hypothesis test:',stats.norm.cdf(test_stat))"
   ]
  },
  {
   "cell_type": "code",
   "execution_count": 57,
   "id": "d8058983",
   "metadata": {},
   "outputs": [],
   "source": [
    "#Question-14\n",
    "# write a python program to function and calculate the test statistic for a proposition\n",
    "# x=10\n",
    "# n=100\n",
    "# p=0.5"
   ]
  },
  {
   "cell_type": "code",
   "execution_count": 20,
   "id": "ece691c9",
   "metadata": {},
   "outputs": [
    {
     "name": "stdout",
     "output_type": "stream",
     "text": [
      "Test_statistics: -8.0\n"
     ]
    }
   ],
   "source": [
    "import scipy.stats as stats\n",
    "import math\n",
    "x=10\n",
    "n=100\n",
    "p=0.5\n",
    "P_hat=x/n\n",
    "test_stat=(P_hat-p)/(math.sqrt((p*(1-p))/(n)))\n",
    "print('Test_statistics:',test_stat)"
   ]
  },
  {
   "cell_type": "code",
   "execution_count": 59,
   "id": "3ed205b7",
   "metadata": {},
   "outputs": [],
   "source": [
    "#Question-15\n",
    "# Write a python program to find z_value for an alpha/2=0.05 in the left tail."
   ]
  },
  {
   "cell_type": "code",
   "execution_count": 21,
   "id": "022adeb9",
   "metadata": {},
   "outputs": [
    {
     "name": "stdout",
     "output_type": "stream",
     "text": [
      "Left_tail: -1.6448536269514729\n"
     ]
    }
   ],
   "source": [
    "import scipy.stats as stats\n",
    "x=stats.norm.ppf(0.05)\n",
    "print('Left_tail:',x)"
   ]
  },
  {
   "cell_type": "code",
   "execution_count": null,
   "id": "4d2bce74",
   "metadata": {},
   "outputs": [],
   "source": []
  },
  {
   "cell_type": "code",
   "execution_count": null,
   "id": "8df3f364",
   "metadata": {},
   "outputs": [],
   "source": []
  },
  {
   "cell_type": "code",
   "execution_count": null,
   "id": "680067af",
   "metadata": {},
   "outputs": [],
   "source": []
  },
  {
   "cell_type": "code",
   "execution_count": null,
   "id": "2bcea2a8",
   "metadata": {},
   "outputs": [],
   "source": []
  },
  {
   "cell_type": "code",
   "execution_count": null,
   "id": "494f4a0a",
   "metadata": {},
   "outputs": [],
   "source": []
  },
  {
   "cell_type": "code",
   "execution_count": null,
   "id": "1783c246",
   "metadata": {},
   "outputs": [],
   "source": []
  },
  {
   "cell_type": "code",
   "execution_count": null,
   "id": "23c88f07",
   "metadata": {},
   "outputs": [],
   "source": []
  },
  {
   "cell_type": "code",
   "execution_count": null,
   "id": "404e0bdd",
   "metadata": {},
   "outputs": [],
   "source": []
  },
  {
   "cell_type": "code",
   "execution_count": null,
   "id": "4050ea7f",
   "metadata": {},
   "outputs": [],
   "source": []
  }
 ],
 "metadata": {
  "kernelspec": {
   "display_name": "Python 3 (ipykernel)",
   "language": "python",
   "name": "python3"
  },
  "language_info": {
   "codemirror_mode": {
    "name": "ipython",
    "version": 3
   },
   "file_extension": ".py",
   "mimetype": "text/x-python",
   "name": "python",
   "nbconvert_exporter": "python",
   "pygments_lexer": "ipython3",
   "version": "3.9.12"
  }
 },
 "nbformat": 4,
 "nbformat_minor": 5
}
