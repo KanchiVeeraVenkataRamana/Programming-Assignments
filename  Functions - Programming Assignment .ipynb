{
 "cells": [
  {
   "cell_type": "code",
   "execution_count": null,
   "id": "aa2853d1",
   "metadata": {},
   "outputs": [],
   "source": [
    "#Question-1\n",
    "# Write a program to add and subtract two numbers using a function;\n",
    "#    Addition, subtraction = calculation(5,6)"
   ]
  },
  {
   "cell_type": "code",
   "execution_count": 1,
   "id": "7eee9c09",
   "metadata": {},
   "outputs": [
    {
     "name": "stdout",
     "output_type": "stream",
     "text": [
      "11 -1\n"
     ]
    }
   ],
   "source": [
    "def calculation(x,y):\n",
    "    addition=x+y\n",
    "    substraction=x-y\n",
    "    return addition,substraction\n",
    "c,d=calculation(5,6)\n",
    "print(c,d)"
   ]
  },
  {
   "cell_type": "code",
   "execution_count": 2,
   "id": "2c1d8692",
   "metadata": {},
   "outputs": [],
   "source": [
    "#Question-2\n",
    "# Create a function containing names of your friends; with default value of schools as DAV"
   ]
  },
  {
   "cell_type": "code",
   "execution_count": 3,
   "id": "cd65038a",
   "metadata": {},
   "outputs": [
    {
     "name": "stdout",
     "output_type": "stream",
     "text": [
      "venky lakshmi\n",
      "venky shyam sowmya\n"
     ]
    }
   ],
   "source": [
    "def DAV(name):\n",
    "    print('venky',name)\n",
    "DAV('lakshmi')\n",
    "\n",
    "def DAV1(name1,name2):\n",
    "    print('venky',name1,name2)\n",
    "DAV1('shyam','sowmya')"
   ]
  },
  {
   "cell_type": "code",
   "execution_count": null,
   "id": "6ec2eb70",
   "metadata": {},
   "outputs": [],
   "source": [
    "#Question-3\n",
    "# The given function is called using friends(“name”) now call it using different name like amigo"
   ]
  },
  {
   "cell_type": "code",
   "execution_count": 7,
   "id": "af3a830b",
   "metadata": {},
   "outputs": [],
   "source": [
    "def friends(name):\n",
    "    # function code here\n",
    "    pass  # placeholder statement since the function code is not provided\n",
    "\n",
    "amigo = friends  # assign the function to a new variable with a different name\n",
    "amigo(\"john\")   # call the function using the new name"
   ]
  },
  {
   "cell_type": "code",
   "execution_count": null,
   "id": "fe1f013b",
   "metadata": {},
   "outputs": [],
   "source": [
    "#Question-4\n",
    "# Write a function which prints all the even numbers between 1-50;"
   ]
  },
  {
   "cell_type": "code",
   "execution_count": 9,
   "id": "f4fc89e9",
   "metadata": {},
   "outputs": [
    {
     "name": "stdout",
     "output_type": "stream",
     "text": [
      "2\n",
      "4\n",
      "6\n",
      "8\n",
      "10\n",
      "12\n",
      "14\n",
      "16\n",
      "18\n",
      "20\n",
      "22\n",
      "24\n",
      "26\n",
      "28\n",
      "30\n",
      "32\n",
      "34\n",
      "36\n",
      "38\n",
      "40\n",
      "42\n",
      "44\n",
      "46\n",
      "48\n",
      "50\n"
     ]
    }
   ],
   "source": [
    "def even(start,end):\n",
    "    for i in range(start,end+1):\n",
    "        if i%2==0:\n",
    "            print(i)\n",
    "even(1,50)"
   ]
  },
  {
   "cell_type": "code",
   "execution_count": null,
   "id": "744a5a1c",
   "metadata": {},
   "outputs": [],
   "source": [
    "#Question-5\n",
    "# Return sum of all numbers from a list;\n",
    "#    Nums = (1,2,3,4,5,6,7,7,8,9,10)"
   ]
  },
  {
   "cell_type": "code",
   "execution_count": 10,
   "id": "a6e82ddf",
   "metadata": {},
   "outputs": [
    {
     "name": "stdout",
     "output_type": "stream",
     "text": [
      "sum is: 55\n"
     ]
    }
   ],
   "source": [
    "sum=0\n",
    "Nums=(1,2,3,4,5,6,7,8,9,10)\n",
    "for ele in range(0,len(Nums)):\n",
    "    sum=sum+Nums[ele]\n",
    "print(\"sum is:\",sum)"
   ]
  },
  {
   "cell_type": "code",
   "execution_count": null,
   "id": "02ae8157",
   "metadata": {},
   "outputs": [],
   "source": [
    "#Question-6\n",
    "# WAP to print reverse of a string;\n",
    "#    String = “1234abcd”"
   ]
  },
  {
   "cell_type": "code",
   "execution_count": 11,
   "id": "1b888f07",
   "metadata": {},
   "outputs": [
    {
     "name": "stdout",
     "output_type": "stream",
     "text": [
      "1234abcd\n",
      "dcba4321 \n"
     ]
    }
   ],
   "source": [
    "def rever(str):\n",
    "    string=\" \"\n",
    "    for i in str:\n",
    "        string=i+string\n",
    "    return string\n",
    "str='1234abcd'\n",
    "print(str)\n",
    "print(rever(str))"
   ]
  },
  {
   "cell_type": "code",
   "execution_count": null,
   "id": "0582535f",
   "metadata": {},
   "outputs": [],
   "source": [
    "#Question-7\n",
    "# WAP to print even numbers from a list;\n",
    "#    Lii = [1,2,3,4,5,6,7,8,9,10,11,12]"
   ]
  },
  {
   "cell_type": "code",
   "execution_count": 14,
   "id": "897024cf",
   "metadata": {},
   "outputs": [
    {
     "name": "stdout",
     "output_type": "stream",
     "text": [
      "2\n",
      "4\n",
      "6\n",
      "8\n",
      "10\n",
      "12\n"
     ]
    }
   ],
   "source": [
    "def print_even_numbers(lst):\n",
    "    # iterate over each element of the list\n",
    "    for num in lst:\n",
    "        # check if the number is even\n",
    "        if num % 2 == 0:\n",
    "            # print the even number\n",
    "            print(num)\n",
    "# define the list\n",
    "Lii = [1,2,3,4,5,6,7,8,9,10,11,12]\n",
    "# call the function with the list as an argument\n",
    "print_even_numbers(Lii)"
   ]
  },
  {
   "cell_type": "code",
   "execution_count": null,
   "id": "a07a16a5",
   "metadata": {},
   "outputs": [],
   "source": [
    "#Question-8\n",
    "# WAP to print maximum of a three numbers given;\n",
    "#   Nums = [4,2,9]"
   ]
  },
  {
   "cell_type": "code",
   "execution_count": 15,
   "id": "d0f97a64",
   "metadata": {},
   "outputs": [
    {
     "name": "stdout",
     "output_type": "stream",
     "text": [
      "The maximum number is: 9\n"
     ]
    }
   ],
   "source": [
    "def find_max(lst):\n",
    "    # use the max() function to find the maximum number in the list\n",
    "    max_num = max(lst)\n",
    "    # return the maximum number\n",
    "    return max_num\n",
    "# define the list\n",
    "Nums = [4,2,9]\n",
    "# call the function with the list as an argument and print the result\n",
    "print(\"The maximum number is:\", find_max(Nums))"
   ]
  },
  {
   "cell_type": "code",
   "execution_count": null,
   "id": "d62e1467",
   "metadata": {},
   "outputs": [],
   "source": [
    "#Question-9\n",
    "# WAP to eliminate duplicate numbers from a list;\n",
    "#   Lii = [1,2,2,2,3,4,4,5,6,7,8,8]"
   ]
  },
  {
   "cell_type": "code",
   "execution_count": 16,
   "id": "d3ee75ef",
   "metadata": {},
   "outputs": [
    {
     "name": "stdout",
     "output_type": "stream",
     "text": [
      "{1, 2, 3, 4, 5, 6, 7, 8}\n"
     ]
    }
   ],
   "source": [
    "Lii=[1,2,2,2,3,4,4,5,6,7,8,8]\n",
    "dup_items=set()\n",
    "uniq_items=[]\n",
    "for x in Lii:\n",
    "    if x not in dup_items:\n",
    "        uniq_items.append(x)\n",
    "    dup_items.add(x)\n",
    "print(dup_items)"
   ]
  },
  {
   "cell_type": "code",
   "execution_count": null,
   "id": "1fab3e08",
   "metadata": {},
   "outputs": [],
   "source": [
    "#Question-10\n",
    "# WAP to print factorial of a number ;\n",
    "#    Numm = 10"
   ]
  },
  {
   "cell_type": "code",
   "execution_count": 21,
   "id": "5fe3dfcd",
   "metadata": {},
   "outputs": [
    {
     "name": "stdout",
     "output_type": "stream",
     "text": [
      "The factorial of 10 is: 3628800\n"
     ]
    }
   ],
   "source": [
    "def factorial(num):\n",
    "    # base case: factorial of 0 and 1 is 1\n",
    "    if num == 0 or num == 1:\n",
    "        return 1\n",
    "    # recursive case: factorial of n is n times factorial of (n-1)\n",
    "    else:\n",
    "        return num * factorial(num-1)\n",
    "# define the number\n",
    "Numm = 10\n",
    "# call the function with the number as an argument and print the result\n",
    "print(\"The factorial of\", Numm, \"is:\", factorial(Numm))"
   ]
  },
  {
   "cell_type": "code",
   "execution_count": null,
   "id": "546bd894",
   "metadata": {},
   "outputs": [],
   "source": [
    "#Question-11\n",
    "# WAP to calculate number of uppercase and lowercase characters in a string\n",
    "#    Strinng = “Ekeeda Is The Best Destination for DS”"
   ]
  },
  {
   "cell_type": "code",
   "execution_count": 22,
   "id": "26bf435b",
   "metadata": {},
   "outputs": [
    {
     "name": "stdout",
     "output_type": "stream",
     "text": [
      "Number of uppercase characters: 7\n",
      "Number of lowercase characters: 24\n"
     ]
    }
   ],
   "source": [
    "def count_upper_lower(string):\n",
    "    # initialize variables to count uppercase and lowercase characters\n",
    "    upper_count = 0\n",
    "    lower_count = 0\n",
    "    # iterate over each character in the string\n",
    "    for char in string:\n",
    "        # check if the character is uppercase\n",
    "        if char.isupper():\n",
    "            upper_count += 1\n",
    "        # check if the character is lowercase\n",
    "        elif char.islower():\n",
    "            lower_count += 1\n",
    "    # return the counts as a tuple\n",
    "    return (upper_count, lower_count)\n",
    "# define the string\n",
    "Strinng = \"Ekeeda Is The Best Destination for DS\"\n",
    "# call the function with the string as an argument and print the result\n",
    "upper, lower = count_upper_lower(Strinng)\n",
    "print(\"Number of uppercase characters:\", upper)\n",
    "print(\"Number of lowercase characters:\", lower)"
   ]
  },
  {
   "cell_type": "code",
   "execution_count": null,
   "id": "49bac780",
   "metadata": {},
   "outputs": [],
   "source": [
    "#Question-12\n",
    "# WAP to check if number is prime or not;"
   ]
  },
  {
   "cell_type": "code",
   "execution_count": 26,
   "id": "76934358",
   "metadata": {},
   "outputs": [
    {
     "name": "stdout",
     "output_type": "stream",
     "text": [
      "17 is a prime number\n"
     ]
    }
   ],
   "source": [
    "def is_prime(num):\n",
    "    # check if the number is less than 2 (not a prime number)\n",
    "    if num < 2:\n",
    "        return False\n",
    "    # check if the number is 2 (a prime number)\n",
    "    elif num == 2:\n",
    "        return True\n",
    "    # check if the number is even (not a prime number)\n",
    "    elif num % 2 == 0:\n",
    "        return False\n",
    "    else:\n",
    "        # check if the number is divisible by any odd number between 3 and the square root of the number\n",
    "        for i in range(3, int(num**0.5)+1, 2):\n",
    "            if num % i == 0:\n",
    "                return False\n",
    "        # if the number is not divisible by any odd number between 3 and the square root of the number, it is a prime number\n",
    "        return True\n",
    "# define the number\n",
    "num = 17\n",
    "\n",
    "# call the function with the number as an argument and print the result\n",
    "if is_prime(num):\n",
    "    print(num, \"is a prime number\")\n",
    "else:\n",
    "    print(num, \"is not a prime number\")"
   ]
  },
  {
   "cell_type": "code",
   "execution_count": null,
   "id": "a087c90d",
   "metadata": {},
   "outputs": [],
   "source": [
    "#Question-13\n",
    "# WAP to check a string is palindrome or not\n",
    "# Hint: palindrome is a string that is same forwards and backwards \n",
    "# Eg: MOM/Mam/MAdam ; it is same if you read it backwards"
   ]
  },
  {
   "cell_type": "code",
   "execution_count": 27,
   "id": "cca2e8a5",
   "metadata": {},
   "outputs": [
    {
     "name": "stdout",
     "output_type": "stream",
     "text": [
      "enter the value:mom\n",
      "palindrome\n"
     ]
    }
   ],
   "source": [
    "s=input('enter the value:')\n",
    "reverse=s[::-1]\n",
    "if(s==reverse):\n",
    "    print('palindrome')\n",
    "else:\n",
    "    print('not a palindrome')"
   ]
  },
  {
   "cell_type": "code",
   "execution_count": null,
   "id": "1610148c",
   "metadata": {},
   "outputs": [],
   "source": [
    "#Question-14\n",
    "# WAP to print the square of numbers between range 1-10 both included"
   ]
  },
  {
   "cell_type": "code",
   "execution_count": 29,
   "id": "77a8a478",
   "metadata": {},
   "outputs": [
    {
     "name": "stdout",
     "output_type": "stream",
     "text": [
      "1\n",
      "4\n",
      "9\n",
      "16\n",
      "25\n",
      "36\n",
      "49\n",
      "64\n",
      "81\n",
      "100\n"
     ]
    }
   ],
   "source": [
    "def print_squares(start, end):\n",
    "    # iterate over the range of numbers between start and end (both included)\n",
    "    for i in range(start, end+1):\n",
    "        # print the square of the current number\n",
    "        print(i**2)\n",
    "# call the function with start=1 and end=10\n",
    "print_squares(1, 10)"
   ]
  },
  {
   "cell_type": "code",
   "execution_count": null,
   "id": "4d8849cb",
   "metadata": {},
   "outputs": [],
   "source": [
    "#Question-15\n",
    "# WAP that takes squarerrot of a number and runs after a specified delay ;\n",
    "# Hint: you have to import time module with sleep ;"
   ]
  },
  {
   "cell_type": "code",
   "execution_count": 31,
   "id": "06bfb35c",
   "metadata": {},
   "outputs": [],
   "source": [
    "import math\n",
    "import time\n",
    "def delayed_sqrt(num, delay):\n",
    "    # introduce a delay of 'delay' seconds\n",
    "    time.sleep(delay)\n",
    "        # calculate the square root of the number\n",
    "    sqrt_num = math.sqrt(num)\n",
    "        # print the result\n",
    "    print(f\"The square root of {num} is {sqrt_num}\")"
   ]
  },
  {
   "cell_type": "code",
   "execution_count": null,
   "id": "daa9d23a",
   "metadata": {},
   "outputs": [],
   "source": []
  },
  {
   "cell_type": "code",
   "execution_count": null,
   "id": "2e5316d8",
   "metadata": {},
   "outputs": [],
   "source": []
  }
 ],
 "metadata": {
  "kernelspec": {
   "display_name": "Python 3 (ipykernel)",
   "language": "python",
   "name": "python3"
  },
  "language_info": {
   "codemirror_mode": {
    "name": "ipython",
    "version": 3
   },
   "file_extension": ".py",
   "mimetype": "text/x-python",
   "name": "python",
   "nbconvert_exporter": "python",
   "pygments_lexer": "ipython3",
   "version": "3.9.12"
  }
 },
 "nbformat": 4,
 "nbformat_minor": 5
}
