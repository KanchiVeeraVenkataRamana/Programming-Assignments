{
 "cells": [
  {
   "cell_type": "code",
   "execution_count": null,
   "id": "350ac60e",
   "metadata": {},
   "outputs": [],
   "source": [
    "#Question-1\n",
    "# Write a Pandas program to create and display a one-dimensional array-like object containing an array of \n",
    "# [1,2,3,4,5,6] of data."
   ]
  },
  {
   "cell_type": "code",
   "execution_count": 1,
   "id": "b63a50c8",
   "metadata": {},
   "outputs": [
    {
     "name": "stdout",
     "output_type": "stream",
     "text": [
      "0    1\n",
      "1    2\n",
      "2    3\n",
      "3    4\n",
      "4    5\n",
      "5    6\n",
      "dtype: int64\n"
     ]
    }
   ],
   "source": [
    "import pandas as pd\n",
    "# Create a one-dimensional array-like object\n",
    "arr = pd.Series([1, 2, 3, 4, 5, 6])\n",
    "# Display the array-like object\n",
    "print(arr)"
   ]
  },
  {
   "cell_type": "code",
   "execution_count": null,
   "id": "9832c7d8",
   "metadata": {},
   "outputs": [],
   "source": [
    "#Question-2\n",
    "# Write a Pandas program to convert a Panda module Series of [9,8,7,6,5,4,3,2,1] to Python list and it’s type."
   ]
  },
  {
   "cell_type": "code",
   "execution_count": 2,
   "id": "9cf3765c",
   "metadata": {},
   "outputs": [
    {
     "name": "stdout",
     "output_type": "stream",
     "text": [
      "[9, 8, 7, 6, 5, 4, 3, 2, 1]\n",
      "<class 'list'>\n"
     ]
    }
   ],
   "source": [
    "import pandas as pd\n",
    "# Create a Pandas Series object\n",
    "series = pd.Series([9, 8, 7, 6, 5, 4, 3, 2, 1])\n",
    "# Convert Pandas Series to Python List\n",
    "my_list = series.tolist()\n",
    "# Print the Python List and its type\n",
    "print(my_list)\n",
    "print(type(my_list))"
   ]
  },
  {
   "cell_type": "code",
   "execution_count": null,
   "id": "23f38eed",
   "metadata": {},
   "outputs": [],
   "source": [
    "#Question-4\n",
    "# Write a Pandas program to add, subtract, multiple and divide two Pandas Series.\n",
    "# Sample Series: [1,2,3,4,5,6], [6,5,4,3,2,1]"
   ]
  },
  {
   "cell_type": "code",
   "execution_count": 3,
   "id": "4ab65c51",
   "metadata": {},
   "outputs": [
    {
     "name": "stdout",
     "output_type": "stream",
     "text": [
      "Addition:\n",
      " 0    7\n",
      "1    7\n",
      "2    7\n",
      "3    7\n",
      "4    7\n",
      "5    7\n",
      "dtype: int64\n",
      "Subtraction:\n",
      " 0   -5\n",
      "1   -3\n",
      "2   -1\n",
      "3    1\n",
      "4    3\n",
      "5    5\n",
      "dtype: int64\n",
      "Multiplication:\n",
      " 0     6\n",
      "1    10\n",
      "2    12\n",
      "3    12\n",
      "4    10\n",
      "5     6\n",
      "dtype: int64\n",
      "Division:\n",
      " 0    0.166667\n",
      "1    0.400000\n",
      "2    0.750000\n",
      "3    1.333333\n",
      "4    2.500000\n",
      "5    6.000000\n",
      "dtype: float64\n"
     ]
    }
   ],
   "source": [
    "import pandas as pd\n",
    "# Create two Pandas Series\n",
    "series1 = pd.Series([1, 2, 3, 4, 5, 6])\n",
    "series2 = pd.Series([6, 5, 4, 3, 2, 1])\n",
    "# Addition of two Series\n",
    "addition = series1 + series2\n",
    "# Subtraction of two Series\n",
    "subtraction = series1 - series2\n",
    "# Multiplication of two Series\n",
    "multiplication = series1 * series2\n",
    "# Division of two Series\n",
    "division = series1 / series2\n",
    "# Print the results\n",
    "print(\"Addition:\\n\", addition)\n",
    "print(\"Subtraction:\\n\", subtraction)\n",
    "print(\"Multiplication:\\n\", multiplication)\n",
    "print(\"Division:\\n\", division)"
   ]
  },
  {
   "cell_type": "code",
   "execution_count": null,
   "id": "e514edb0",
   "metadata": {},
   "outputs": [],
   "source": [
    "#Question-4\n",
    "# Write a Pandas program to compare the elements of the two Pandas Series.\n",
    "# Sample Series: [9,8,7,6,5,4,3,2,1][1,2, 3,4, 5,6, 7,8,9]"
   ]
  },
  {
   "cell_type": "code",
   "execution_count": 4,
   "id": "f9eb3977",
   "metadata": {},
   "outputs": [
    {
     "name": "stdout",
     "output_type": "stream",
     "text": [
      "0    False\n",
      "1    False\n",
      "2    False\n",
      "3    False\n",
      "4     True\n",
      "5    False\n",
      "6    False\n",
      "7    False\n",
      "8    False\n",
      "dtype: bool\n"
     ]
    }
   ],
   "source": [
    "import pandas as pd\n",
    "# create the two series\n",
    "series1 = pd.Series([9,8,7,6,5,4,3,2,1])\n",
    "series2 = pd.Series([1,2,3,4,5,6,7,8,9])\n",
    "# compare the two series\n",
    "comparison = series1 == series2\n",
    "# print the comparison\n",
    "print(comparison)"
   ]
  },
  {
   "cell_type": "code",
   "execution_count": null,
   "id": "eaf6f2cb",
   "metadata": {},
   "outputs": [],
   "source": [
    "#Question-5\n",
    "# Write a Pandas program to convert a dictionary to a Pandas series.\n",
    "# Sample dictionary: d1 = {'a’': 10, 'b': 20, 'c':30, 'd':40, 'e':50}"
   ]
  },
  {
   "cell_type": "code",
   "execution_count": 5,
   "id": "56e2bd37",
   "metadata": {},
   "outputs": [
    {
     "name": "stdout",
     "output_type": "stream",
     "text": [
      "a    10\n",
      "b    20\n",
      "c    30\n",
      "d    40\n",
      "e    50\n",
      "dtype: int64\n"
     ]
    }
   ],
   "source": [
    "import pandas as pd\n",
    "# create the dictionary\n",
    "d1 = {'a': 10, 'b': 20, 'c': 30, 'd': 40, 'e': 50}\n",
    "# convert the dictionary to a Pandas series\n",
    "series = pd.Series(d1)\n",
    "# print the series\n",
    "print(series)"
   ]
  },
  {
   "cell_type": "code",
   "execution_count": null,
   "id": "d3927d68",
   "metadata": {},
   "outputs": [],
   "source": [
    "#Question-6\n",
    "# Write a Pandas program to convert a NumPy array to a Pandas series.\n",
    "# Sample NumPy array: d1 = [1, 2, 3, 4, 5,6,7,8,9,10]"
   ]
  },
  {
   "cell_type": "code",
   "execution_count": 6,
   "id": "8fd49fd2",
   "metadata": {},
   "outputs": [
    {
     "name": "stdout",
     "output_type": "stream",
     "text": [
      "0     1\n",
      "1     2\n",
      "2     3\n",
      "3     4\n",
      "4     5\n",
      "5     6\n",
      "6     7\n",
      "7     8\n",
      "8     9\n",
      "9    10\n",
      "dtype: int32\n"
     ]
    }
   ],
   "source": [
    "import pandas as pd\n",
    "import numpy as np\n",
    "# create the NumPy array\n",
    "d1 = np.array([1, 2, 3, 4, 5, 6, 7, 8, 9, 10])\n",
    "# convert the NumPy array to a Pandas series\n",
    "series = pd.Series(d1)\n",
    "# print the series\n",
    "print(series)"
   ]
  },
  {
   "cell_type": "code",
   "execution_count": null,
   "id": "7b47e9b3",
   "metadata": {},
   "outputs": [],
   "source": [
    "#Question-7\n",
    "# Write a Pandas program to sort a Series [100, 20, 300, 250, 50, 360, 70, 180, 960, 100, 110, 320, 830, 640, 590, 260]"
   ]
  },
  {
   "cell_type": "code",
   "execution_count": 7,
   "id": "a60a11fd",
   "metadata": {},
   "outputs": [
    {
     "name": "stdout",
     "output_type": "stream",
     "text": [
      "Sorted Series:\n",
      " 1      20\n",
      "4      50\n",
      "6      70\n",
      "0     100\n",
      "9     100\n",
      "10    110\n",
      "7     180\n",
      "3     250\n",
      "15    260\n",
      "2     300\n",
      "11    320\n",
      "5     360\n",
      "14    590\n",
      "13    640\n",
      "12    830\n",
      "8     960\n",
      "dtype: int64\n"
     ]
    }
   ],
   "source": [
    "import pandas as pd\n",
    "data = [100, 20, 300, 250, 50, 360, 70, 180, 960, 100, 110, 320, 830, 640, 590, 260]\n",
    "# create a Pandas series from the data\n",
    "s = pd.Series(data)\n",
    "# sort the series in ascending order\n",
    "s_sorted = s.sort_values()\n",
    "print(\"Sorted Series:\\n\", s_sorted)"
   ]
  },
  {
   "cell_type": "code",
   "execution_count": null,
   "id": "c8522b8f",
   "metadata": {},
   "outputs": [],
   "source": [
    "#Question-8\n",
    "# Write a Pandas program to get the items of a given series not present in another given series."
   ]
  },
  {
   "cell_type": "code",
   "execution_count": 8,
   "id": "9bab7d5d",
   "metadata": {},
   "outputs": [
    {
     "name": "stdout",
     "output_type": "stream",
     "text": [
      "0    1\n",
      "2    3\n",
      "4    5\n",
      "dtype: int64\n"
     ]
    }
   ],
   "source": [
    "import pandas as pd\n",
    "s1 = pd.Series([1, 2, 3, 4, 5])\n",
    "s2 = pd.Series([2, 4, 6, 8, 10])\n",
    "not_in_s2 = s1[~s1.isin(s2)]\n",
    "print(not_in_s2)"
   ]
  },
  {
   "cell_type": "code",
   "execution_count": null,
   "id": "d76ba628",
   "metadata": {},
   "outputs": [],
   "source": [
    "#Question-9\n",
    "# Write a Pandas program to change the order of index of a given series."
   ]
  },
  {
   "cell_type": "code",
   "execution_count": 9,
   "id": "6caf8f6a",
   "metadata": {},
   "outputs": [
    {
     "name": "stdout",
     "output_type": "stream",
     "text": [
      "Original Series:\n",
      "a    1\n",
      "b    2\n",
      "c    3\n",
      "d    4\n",
      "dtype: int64\n",
      "\n",
      "Series with changed index order:\n",
      "d    4\n",
      "c    3\n",
      "b    2\n",
      "a    1\n",
      "dtype: int64\n"
     ]
    }
   ],
   "source": [
    "import pandas as pd\n",
    "# create a sample series\n",
    "s = pd.Series([1, 2, 3, 4], index=['a', 'b', 'c', 'd'])\n",
    "# display the original series\n",
    "print(\"Original Series:\")\n",
    "print(s)\n",
    "# change the order of index\n",
    "s = s.reindex(index=['d', 'c', 'b', 'a'])\n",
    "# display the updated series\n",
    "print(\"\\nSeries with changed index order:\")\n",
    "print(s)"
   ]
  },
  {
   "cell_type": "code",
   "execution_count": null,
   "id": "2ed9f4d5",
   "metadata": {},
   "outputs": [],
   "source": [
    "#Question-10\n",
    "# Write a Pandas program to change the data types.\n",
    "# Sample Series:\n",
    "# Actual Data Series: [ Ajay, 10, python, 15.03, 25]    dtype: object\n",
    "# Modified Data Series : [Nan, 10.00, Nan, 15.03, 25.00]dtype: float64"
   ]
  },
  {
   "cell_type": "code",
   "execution_count": 10,
   "id": "0279eeaa",
   "metadata": {},
   "outputs": [
    {
     "name": "stdout",
     "output_type": "stream",
     "text": [
      "Actual Data Series:\n",
      "0      Ajay\n",
      "1        10\n",
      "2    python\n",
      "3     15.03\n",
      "4        25\n",
      "dtype: object\n",
      "Modified Data Series:\n",
      "0      NaN\n",
      "1    10.00\n",
      "2      NaN\n",
      "3    15.03\n",
      "4    25.00\n",
      "dtype: float64\n"
     ]
    }
   ],
   "source": [
    "import pandas as pd\n",
    "import numpy as np\n",
    "# create the actual data series\n",
    "s1 = pd.Series(['Ajay', 10, 'python', 15.03, 25])\n",
    "print(\"Actual Data Series:\")\n",
    "print(s1)\n",
    "# change the data types to float and NaN where applicable\n",
    "s2 = pd.to_numeric(s1, errors='coerce')\n",
    "# display the modified data series\n",
    "print(\"Modified Data Series:\")\n",
    "print(s2)"
   ]
  },
  {
   "cell_type": "code",
   "execution_count": null,
   "id": "6da8b6d8",
   "metadata": {},
   "outputs": [],
   "source": [
    "#Question-11\n",
    "# Pandas program to convert the second column of a DataFrame as a Series\n",
    "# d = {'col1': [1, 2, 3, 4, 7, 11], 'col2': [4, 5, 6, 9, 5, 0], 'col3': [7, 5, 8, 12, 1,11]}"
   ]
  },
  {
   "cell_type": "code",
   "execution_count": 11,
   "id": "93b549d5",
   "metadata": {},
   "outputs": [
    {
     "name": "stdout",
     "output_type": "stream",
     "text": [
      "0    4\n",
      "1    5\n",
      "2    6\n",
      "3    9\n",
      "4    5\n",
      "5    0\n",
      "Name: col2, dtype: int64\n"
     ]
    }
   ],
   "source": [
    "import pandas as pd\n",
    "d = {'col1': [1, 2, 3, 4, 7, 11], 'col2': [4, 5, 6, 9, 5, 0], 'col3': [7, 5, 8, 12, 1, 11]}\n",
    "df = pd.DataFrame(d)\n",
    "series_col2 = df['col2']\n",
    "print(series_col2)"
   ]
  },
  {
   "cell_type": "code",
   "execution_count": null,
   "id": "82417e7b",
   "metadata": {},
   "outputs": [],
   "source": [
    "#Question-12\n",
    "# Write a Pandas program to get the items which are not common of two given series.\n",
    "# [1, 2, 3, 4, 5], [7,  6, 5, 4, 3]"
   ]
  },
  {
   "cell_type": "code",
   "execution_count": 12,
   "id": "c9a3170e",
   "metadata": {},
   "outputs": [
    {
     "name": "stdout",
     "output_type": "stream",
     "text": [
      "Series 1: \n",
      "0    1\n",
      "1    2\n",
      "2    3\n",
      "3    4\n",
      "4    5\n",
      "dtype: int64\n",
      "\n",
      "Series 2: \n",
      "0    7\n",
      "1    6\n",
      "2    5\n",
      "3    4\n",
      "4    3\n",
      "dtype: int64\n",
      "\n",
      "Items which are not common of the two series:\n",
      "0    1\n",
      "1    2\n",
      "5    7\n",
      "6    6\n",
      "dtype: int64\n"
     ]
    }
   ],
   "source": [
    "import pandas as pd\n",
    "series1 = pd.Series([1, 2, 3, 4, 5])\n",
    "series2 = pd.Series([7, 6, 5, 4, 3])\n",
    "# Get the unique elements in both series\n",
    "union = pd.Series(pd.concat([series1, series2]).unique())\n",
    "# Get the elements which are not common\n",
    "not_common = union[~union.isin(series1) | ~union.isin(series2)]\n",
    "print(\"Series 1: \")\n",
    "print(series1)\n",
    "print(\"\\nSeries 2: \")\n",
    "print(series2)\n",
    "print(\"\\nItems which are not common of the two series:\")\n",
    "print(not_common)"
   ]
  },
  {
   "cell_type": "code",
   "execution_count": null,
   "id": "a58e5b78",
   "metadata": {},
   "outputs": [],
   "source": [
    "#Question-13\n",
    "# Pandas program to find the minimum, 20th percentile, 50th percentile, 80th, and maximum of a given series of \n",
    "# [100, 20, 300, 250, 50, 360, 70, 180, 960, 100, 110, 320, 830, 640, 590, 260]"
   ]
  },
  {
   "cell_type": "code",
   "execution_count": 13,
   "id": "3c6aa79e",
   "metadata": {},
   "outputs": [
    {
     "name": "stdout",
     "output_type": "stream",
     "text": [
      "Minimum value: 20\n",
      "20th percentile: 100.0\n",
      "Median: 255.0\n",
      "80th percentile: 590.0\n",
      "Maximum value: 960\n"
     ]
    }
   ],
   "source": [
    "import pandas as pd\n",
    "# create a series\n",
    "s = pd.Series([100, 20, 300, 250, 50, 360, 70, 180, 960, 100, 110, 320, 830, 640, 590, 260])\n",
    "# find the minimum\n",
    "min_val = s.min()\n",
    "print(\"Minimum value:\", min_val)\n",
    "# find the 20th percentile\n",
    "perc20 = s.quantile(0.2)\n",
    "print(\"20th percentile:\", perc20)\n",
    "# find the 50th percentile\n",
    "med = s.median()\n",
    "print(\"Median:\", med)\n",
    "# find the 80th percentile\n",
    "perc80 = s.quantile(0.8)\n",
    "print(\"80th percentile:\", perc80)\n",
    "# find the maximum\n",
    "max_val = s.max()\n",
    "print(\"Maximum value:\", max_val)"
   ]
  },
  {
   "cell_type": "code",
   "execution_count": null,
   "id": "dfc45a7e",
   "metadata": {},
   "outputs": [],
   "source": [
    "#Question-14\n",
    "# Write a Pandas program to create 6 subset of a given series of [0, 1,2,3,4,5,6,7,8,9,10] based on value"
   ]
  },
  {
   "cell_type": "code",
   "execution_count": 14,
   "id": "40d54704",
   "metadata": {},
   "outputs": [
    {
     "name": "stdout",
     "output_type": "stream",
     "text": [
      "Subset 1:  [0, 1, 2]\n",
      "Subset 2:  [3, 4, 5]\n",
      "Subset 3:  [6, 7]\n",
      "Subset 4:  [8, 9]\n",
      "Subset 5:  [10]\n",
      "Subset 6:  []\n"
     ]
    }
   ],
   "source": [
    "import pandas as pd\n",
    "# Create the original series\n",
    "original_series = pd.Series(range(11))\n",
    "# Create subsets based on value\n",
    "subset1 = original_series[original_series < 3]\n",
    "subset2 = original_series[(original_series >= 3) & (original_series < 6)]\n",
    "subset3 = original_series[(original_series >= 6) & (original_series < 8)]\n",
    "subset4 = original_series[(original_series >= 8) & (original_series < 10)]\n",
    "subset5 = original_series[original_series == 10]\n",
    "subset6 = original_series[(original_series > 10)]\n",
    "# Print the subsets\n",
    "print(\"Subset 1: \", subset1.tolist())\n",
    "print(\"Subset 2: \", subset2.tolist())\n",
    "print(\"Subset 3: \", subset3.tolist())\n",
    "print(\"Subset 4: \", subset4.tolist())\n",
    "print(\"Subset 5: \", subset5.tolist())\n",
    "print(\"Subset 6: \", subset6.tolist())"
   ]
  },
  {
   "cell_type": "code",
   "execution_count": null,
   "id": "6cb93568",
   "metadata": {},
   "outputs": [],
   "source": [
    "#Question-15\n",
    "# Write a Pandas program to add 400 to data to an existing Series\n",
    "# [100, 20, 300, 250, 50, 360, 70, 180, 960, 100, 110, 320, 830, 640, 590, 260]"
   ]
  },
  {
   "cell_type": "code",
   "execution_count": 15,
   "id": "d481652c",
   "metadata": {},
   "outputs": [
    {
     "name": "stdout",
     "output_type": "stream",
     "text": [
      "0      500\n",
      "1      420\n",
      "2      700\n",
      "3      650\n",
      "4      450\n",
      "5      760\n",
      "6      470\n",
      "7      580\n",
      "8     1360\n",
      "9      500\n",
      "10     510\n",
      "11     720\n",
      "12    1230\n",
      "13    1040\n",
      "14     990\n",
      "15     660\n",
      "dtype: int64\n"
     ]
    }
   ],
   "source": [
    "import pandas as pd\n",
    "# create the series\n",
    "data = pd.Series([100, 20, 300, 250, 50, 360, 70, 180, 960, 100, 110, 320, 830, 640, 590, 260])\n",
    "# add 400 to the series\n",
    "data = data + 400\n",
    "# display the updated series\n",
    "print(data)"
   ]
  },
  {
   "cell_type": "code",
   "execution_count": null,
   "id": "83ef2bb1",
   "metadata": {},
   "outputs": [],
   "source": []
  },
  {
   "cell_type": "code",
   "execution_count": null,
   "id": "5e5a461f",
   "metadata": {},
   "outputs": [],
   "source": []
  },
  {
   "cell_type": "code",
   "execution_count": null,
   "id": "892873b0",
   "metadata": {},
   "outputs": [],
   "source": []
  }
 ],
 "metadata": {
  "kernelspec": {
   "display_name": "Python 3 (ipykernel)",
   "language": "python",
   "name": "python3"
  },
  "language_info": {
   "codemirror_mode": {
    "name": "ipython",
    "version": 3
   },
   "file_extension": ".py",
   "mimetype": "text/x-python",
   "name": "python",
   "nbconvert_exporter": "python",
   "pygments_lexer": "ipython3",
   "version": "3.9.12"
  }
 },
 "nbformat": 4,
 "nbformat_minor": 5
}
