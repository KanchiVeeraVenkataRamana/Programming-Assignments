{
 "cells": [
  {
   "cell_type": "code",
   "execution_count": null,
   "id": "4eaf6954",
   "metadata": {},
   "outputs": [],
   "source": [
    "#Question-1\n",
    "# Write a statement in Python to perform the following operations\n",
    "# To open a text file “MYPT.TXT” in write mode\n",
    "# To open a text file“MYPT.TXT” in read mode"
   ]
  },
  {
   "cell_type": "code",
   "execution_count": 1,
   "id": "eb9d8d2a",
   "metadata": {},
   "outputs": [],
   "source": [
    "file = open(\"MYPT.TXT\", \"w\")\n",
    "file = open(\"MYPT.TXT\", \"r\")"
   ]
  },
  {
   "cell_type": "code",
   "execution_count": null,
   "id": "e464527b",
   "metadata": {},
   "outputs": [],
   "source": [
    "#Question-2\n",
    "# What is file mode? Name the default file mode."
   ]
  },
  {
   "cell_type": "code",
   "execution_count": 2,
   "id": "0e5f9789",
   "metadata": {},
   "outputs": [
    {
     "name": "stdout",
     "output_type": "stream",
     "text": [
      "Hello, world!\n"
     ]
    }
   ],
   "source": [
    "# create a new file in write mode\n",
    "file = open(\"my_file.txt\", \"w\")\n",
    "# write some data to the file\n",
    "file.write(\"Hello, world!\")\n",
    "# close the file\n",
    "file.close()\n",
    "# open the file in read mode and read its contents\n",
    "file = open(\"my_file.txt\", \"r\")\n",
    "data = file.read()\n",
    "# print the contents of the file\n",
    "print(data)\n",
    "# close the file\n",
    "file.close()"
   ]
  },
  {
   "cell_type": "code",
   "execution_count": null,
   "id": "aa6f41c5",
   "metadata": {},
   "outputs": [],
   "source": [
    "#Question-3\n",
    "# Write a statement to write the string”Welcome! Please have a seat” in the file wel.txt, that has not yet been created."
   ]
  },
  {
   "cell_type": "code",
   "execution_count": 3,
   "id": "39f60b96",
   "metadata": {},
   "outputs": [],
   "source": [
    "# open the file in write mode and write the string to it\n",
    "with open(\"wel.txt\", \"w\") as f:\n",
    "    f.write(\"Welcome! Please have a seat\")"
   ]
  },
  {
   "cell_type": "code",
   "execution_count": null,
   "id": "a8d31525",
   "metadata": {},
   "outputs": [],
   "source": [
    "#Question-4\n",
    "# How do you find no of characters, now of words or number of lines in Python text file?"
   ]
  },
  {
   "cell_type": "code",
   "execution_count": 4,
   "id": "db316931",
   "metadata": {},
   "outputs": [
    {
     "name": "stdout",
     "output_type": "stream",
     "text": [
      "Number of characters: 0\n",
      "Number of words: 0\n",
      "Number of lines: 1\n"
     ]
    }
   ],
   "source": [
    "# open the file in read mode\n",
    "with open(\"MYPT.TXT\", \"r\") as f:\n",
    "    # read the contents of the file\n",
    "    data = f.read()\n",
    "    # count the number of characters\n",
    "    num_chars = len(data)\n",
    "    # count the number of words\n",
    "    num_words = len(data.split())\n",
    "    # count the number of lines\n",
    "    num_lines = len(data.split('\\n'))\n",
    "# print the counts\n",
    "print(\"Number of characters:\", num_chars)\n",
    "print(\"Number of words:\", num_words)\n",
    "print(\"Number of lines:\", num_lines)"
   ]
  },
  {
   "cell_type": "code",
   "execution_count": null,
   "id": "073185be",
   "metadata": {},
   "outputs": [],
   "source": [
    "#Question-5\n",
    "# Write a statement in Python to perform the following operations\n",
    "# To open a binary file “LOG.DAT” in read mode\n",
    "# To open a binary file“LOG.DAT” in write mode"
   ]
  },
  {
   "cell_type": "code",
   "execution_count": 5,
   "id": "4a79d65b",
   "metadata": {},
   "outputs": [],
   "source": [
    "# open the binary file in read mode\n",
    "with open(\"LOG.DAT\", \"rb\") as f:\n",
    "    # read from the file\n",
    "    data = f.read()\n",
    "    \n",
    "# open the binary file in write mode\n",
    "with open(\"LOG.DAT\", \"wb\") as f:\n",
    "    # write to the file\n",
    "    f.write(b\"Some binary data\")"
   ]
  },
  {
   "cell_type": "code",
   "execution_count": null,
   "id": "b9d89c27",
   "metadata": {},
   "outputs": [],
   "source": [
    "#Question-6\n",
    "# Write a program to count the words “to” and “the” present in a text file “python.txt”."
   ]
  },
  {
   "cell_type": "code",
   "execution_count": 6,
   "id": "9ee906e8",
   "metadata": {},
   "outputs": [
    {
     "name": "stdout",
     "output_type": "stream",
     "text": [
      "Occurrences of 'to': 2\n",
      "Occurrences of 'the': 3\n"
     ]
    }
   ],
   "source": [
    "filename = \"python.txt\"\n",
    "word_counts = {\"to\": 0, \"the\": 0}\n",
    "with open(filename, \"r\") as f:\n",
    "    # read the contents of the file into a string\n",
    "    text = f.read()\n",
    "    # split the string into words\n",
    "    words = text.split()\n",
    "\n",
    "    # count the occurrences of each word\n",
    "    for word in words:\n",
    "        if word.lower() == \"to\":\n",
    "            word_counts[\"to\"] += 1\n",
    "        elif word.lower() == \"the\":\n",
    "            word_counts[\"the\"] += 1\n",
    "print(f\"Occurrences of 'to': {word_counts['to']}\")\n",
    "print(f\"Occurrences of 'the': {word_counts['the']}\")"
   ]
  },
  {
   "cell_type": "code",
   "execution_count": null,
   "id": "a59402ab",
   "metadata": {},
   "outputs": [],
   "source": [
    "#Question-7\n",
    "# Write a program to display all the lines in a file “python.txt” along with line/record number."
   ]
  },
  {
   "cell_type": "code",
   "execution_count": 7,
   "id": "56bbcdf0",
   "metadata": {},
   "outputs": [
    {
     "name": "stdout",
     "output_type": "stream",
     "text": [
      "Line 1: Hello Venky, Welcome To The Data Science Industry and To join The Best Company for the job..\n"
     ]
    }
   ],
   "source": [
    "filename = \"python.txt\"\n",
    "with open(filename, \"r\") as f:\n",
    "    # loop through the lines in the file\n",
    "    for i, line in enumerate(f, 1):\n",
    "        # print the line number and the line itself\n",
    "        print(f\"Line {i}: {line.rstrip()}\")"
   ]
  },
  {
   "cell_type": "code",
   "execution_count": null,
   "id": "9e981e23",
   "metadata": {},
   "outputs": [],
   "source": [
    "#Question-8\n",
    "# Write a program to display all the lines in a file “python.txt” which have the word “to” in it."
   ]
  },
  {
   "cell_type": "code",
   "execution_count": 8,
   "id": "d676157a",
   "metadata": {},
   "outputs": [],
   "source": [
    "filename = \"python.txt\"\n",
    "with open(filename, \"r\") as f:\n",
    "    # loop through the lines in the file\n",
    "    for line in f:\n",
    "        # check if the line contains the word \"to\"\n",
    "        if \"to\" in line:\n",
    "            # print the line\n",
    "            print(line.rstrip())"
   ]
  },
  {
   "cell_type": "code",
   "execution_count": null,
   "id": "f9bdeb31",
   "metadata": {},
   "outputs": [],
   "source": [
    "#Question-9\n",
    "# Observe the following code and answer the question that follow:\n",
    "# File=open(“Mydata”,”a”)\n",
    "# ____________# Blank 1\n",
    "# File.close()\n",
    "# What type (Text/Binary) of file is Mydata?\n",
    "# Fill the Blank 1 with statement to write ”ABC” in the file ”Mydata”."
   ]
  },
  {
   "cell_type": "code",
   "execution_count": 9,
   "id": "f8e9f90a",
   "metadata": {},
   "outputs": [],
   "source": [
    "File = open(\"Mydata\", \"a\")\n",
    "File.write(\"ABC\")\n",
    "File.close()"
   ]
  },
  {
   "cell_type": "code",
   "execution_count": null,
   "id": "5b6ac5ef",
   "metadata": {},
   "outputs": [],
   "source": [
    "#Question-10\n",
    "# What are the differentiate File Attributes in Python?"
   ]
  },
  {
   "cell_type": "code",
   "execution_count": 10,
   "id": "57491219",
   "metadata": {},
   "outputs": [
    {
     "name": "stdout",
     "output_type": "stream",
     "text": [
      "Name: test.txt\n",
      "Mode: r\n",
      "Closed: False\n",
      "Encoding: cp1252\n"
     ]
    },
    {
     "ename": "AttributeError",
     "evalue": "'_io.TextIOWrapper' object has no attribute 'buffering'",
     "output_type": "error",
     "traceback": [
      "\u001b[1;31m---------------------------------------------------------------------------\u001b[0m",
      "\u001b[1;31mAttributeError\u001b[0m                            Traceback (most recent call last)",
      "Input \u001b[1;32mIn [10]\u001b[0m, in \u001b[0;36m<cell line: 12>\u001b[1;34m()\u001b[0m\n\u001b[0;32m     10\u001b[0m \u001b[38;5;28mprint\u001b[39m(\u001b[38;5;124m\"\u001b[39m\u001b[38;5;124mEncoding:\u001b[39m\u001b[38;5;124m\"\u001b[39m, file\u001b[38;5;241m.\u001b[39mencoding)\n\u001b[0;32m     11\u001b[0m \u001b[38;5;66;03m# print the buffering policy for the file\u001b[39;00m\n\u001b[1;32m---> 12\u001b[0m \u001b[38;5;28mprint\u001b[39m(\u001b[38;5;124m\"\u001b[39m\u001b[38;5;124mBuffering:\u001b[39m\u001b[38;5;124m\"\u001b[39m, \u001b[43mfile\u001b[49m\u001b[38;5;241;43m.\u001b[39;49m\u001b[43mbuffering\u001b[49m)\n\u001b[0;32m     13\u001b[0m \u001b[38;5;66;03m# print the error handling scheme for the file\u001b[39;00m\n\u001b[0;32m     14\u001b[0m \u001b[38;5;28mprint\u001b[39m(\u001b[38;5;124m\"\u001b[39m\u001b[38;5;124mErrors:\u001b[39m\u001b[38;5;124m\"\u001b[39m, file\u001b[38;5;241m.\u001b[39merrors)\n",
      "\u001b[1;31mAttributeError\u001b[0m: '_io.TextIOWrapper' object has no attribute 'buffering'"
     ]
    }
   ],
   "source": [
    "# open a text file in read mode\n",
    "file = open(\"test.txt\", \"r\")\n",
    "# print the name of the file\n",
    "print(\"Name:\", file.name)\n",
    "# print the mode in which the file was opened\n",
    "print(\"Mode:\", file.mode)\n",
    "# print whether the file is closed or not\n",
    "print(\"Closed:\", file.closed)\n",
    "# print the encoding of the file\n",
    "print(\"Encoding:\", file.encoding)\n",
    "# print the buffering policy for the file\n",
    "print(\"Buffering:\", file.buffering)\n",
    "# print the error handling scheme for the file\n",
    "print(\"Errors:\", file.errors)\n",
    "# print the newline character(s) used in the file\n",
    "print(\"Newlines:\", repr(file.newlines))\n",
    "# close the file\n",
    "file.close()\n",
    "# print whether the file is closed or not\n",
    "print(\"Closed:\", file.closed)"
   ]
  },
  {
   "cell_type": "code",
   "execution_count": null,
   "id": "26e52d5b",
   "metadata": {},
   "outputs": [],
   "source": []
  },
  {
   "cell_type": "code",
   "execution_count": null,
   "id": "312afd44",
   "metadata": {},
   "outputs": [],
   "source": []
  }
 ],
 "metadata": {
  "kernelspec": {
   "display_name": "Python 3 (ipykernel)",
   "language": "python",
   "name": "python3"
  },
  "language_info": {
   "codemirror_mode": {
    "name": "ipython",
    "version": 3
   },
   "file_extension": ".py",
   "mimetype": "text/x-python",
   "name": "python",
   "nbconvert_exporter": "python",
   "pygments_lexer": "ipython3",
   "version": "3.9.12"
  }
 },
 "nbformat": 4,
 "nbformat_minor": 5
}
