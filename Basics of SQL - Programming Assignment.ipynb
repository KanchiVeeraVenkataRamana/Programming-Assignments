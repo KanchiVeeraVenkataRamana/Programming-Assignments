{
 "cells": [
  {
   "cell_type": "code",
   "execution_count": null,
   "id": "aac3d6d6",
   "metadata": {},
   "outputs": [],
   "source": [
    "#Question-1\n",
    "# Write an SQL query to print the FIRST_NAME from Worker table after removing white spaces from the right side."
   ]
  },
  {
   "cell_type": "code",
   "execution_count": null,
   "id": "163fecc7",
   "metadata": {},
   "outputs": [],
   "source": [
    "SELECT RTRIM(FIRST_NAME) FROM Worker;"
   ]
  },
  {
   "cell_type": "code",
   "execution_count": null,
   "id": "4b0e30fc",
   "metadata": {},
   "outputs": [],
   "source": [
    "#Question-2\n",
    "# Write an SQL query to find the position of the alphabet (‘a’) in the first name column ‘Amitabh’ from Worker table."
   ]
  },
  {
   "cell_type": "code",
   "execution_count": null,
   "id": "17d9e063",
   "metadata": {},
   "outputs": [],
   "source": [
    "SELECT POSITION('a' IN FIRST_NAME) AS Position_of_a FROM Worker WHERE FIRST_NAME = 'Amitabh';"
   ]
  },
  {
   "cell_type": "code",
   "execution_count": null,
   "id": "fc279229",
   "metadata": {},
   "outputs": [],
   "source": [
    "#Question-3\n",
    "# Write an SQL query to print the first three characters of  FIRST_NAME from Worker table."
   ]
  },
  {
   "cell_type": "code",
   "execution_count": null,
   "id": "9990240f",
   "metadata": {},
   "outputs": [],
   "source": [
    "SELECT SUBSTRING(FIRST_NAME, 1, 3) FROM Worker;"
   ]
  },
  {
   "cell_type": "code",
   "execution_count": null,
   "id": "f533e6ac",
   "metadata": {},
   "outputs": [],
   "source": [
    "#Question-4\n",
    "# Write an SQL query to fetch unique values of DEPARTMENT from Worker table."
   ]
  },
  {
   "cell_type": "code",
   "execution_count": null,
   "id": "1094802e",
   "metadata": {},
   "outputs": [],
   "source": [
    "SELECT DISTINCT DEPARTMENT FROM Worker;"
   ]
  },
  {
   "cell_type": "code",
   "execution_count": null,
   "id": "db03f301",
   "metadata": {},
   "outputs": [],
   "source": [
    "#Question-5\n",
    "# Write an SQL query to fetch “FIRST_NAME” from Worker table in upper case."
   ]
  },
  {
   "cell_type": "code",
   "execution_count": null,
   "id": "61a487fd",
   "metadata": {},
   "outputs": [],
   "source": [
    "SELECT UPPER(FIRST_NAME) FROM Worker;"
   ]
  },
  {
   "cell_type": "code",
   "execution_count": null,
   "id": "01697aa4",
   "metadata": {},
   "outputs": [],
   "source": [
    "#Question-6\n",
    "# Write an SQL query to fetch “FIRST_NAME” from Worker table using the alias name as <WORKER_NAME>."
   ]
  },
  {
   "cell_type": "code",
   "execution_count": null,
   "id": "00a77b58",
   "metadata": {},
   "outputs": [],
   "source": [
    "SELECT FIRST_NAME AS WORKER_NAME FROM Worker;"
   ]
  },
  {
   "cell_type": "code",
   "execution_count": null,
   "id": "b1c360b7",
   "metadata": {},
   "outputs": [],
   "source": [
    "#Question-7\n",
    "# Insert values in bonus table like the below:\n",
    "# Column name: WORKER_REF_ID, BONUS_AMOUNT, BONUS_DATE) VALUES\n",
    "# Values: (001, 5000, '16-02-20'),\n",
    "#       (002, 3000, '16-06-11'),\n",
    "#       (003, 4000, '16-02-20'),\n",
    "#       (001, 4500, '16-02-20'),\n",
    "#       (002, 3500, '16-06-11')"
   ]
  },
  {
   "cell_type": "code",
   "execution_count": null,
   "id": "a0f71926",
   "metadata": {},
   "outputs": [],
   "source": [
    "INSERT INTO bonus (WORKER_REF_ID, BONUS_AMOUNT, BONUS_DATE)\n",
    "VALUES\n",
    "(001, 5000, '16-02-20'),\n",
    "(002, 3000, '16-06-11'),\n",
    "(003, 4000, '16-02-20'),\n",
    "(001, 4500, '16-02-20'),\n",
    "(002, 3500, '16-06-11');"
   ]
  },
  {
   "cell_type": "code",
   "execution_count": null,
   "id": "b34b0fde",
   "metadata": {},
   "outputs": [],
   "source": [
    "#Question-8\n",
    "# Create a foreign key connection of bonus table with worker table:"
   ]
  },
  {
   "cell_type": "code",
   "execution_count": null,
   "id": "bab34082",
   "metadata": {},
   "outputs": [],
   "source": [
    "ALTER TABLE bonus\n",
    "ADD CONSTRAINT fk_bonus_worker\n",
    "FOREIGN KEY (WORKER_REF_ID) \n",
    "REFERENCES worker(WORKER_ID);"
   ]
  },
  {
   "cell_type": "code",
   "execution_count": null,
   "id": "133a22b0",
   "metadata": {},
   "outputs": [],
   "source": [
    "#Question-9\n",
    "# Insert data in each column of the worker table: \n",
    "# Where column name are WORKER_ID, FIRST_NAME, LAST_NAME, SALARY, JOINING_DATE, DEPARTMENT\n",
    "# And the values:\n",
    "# (001, 'Monika', 'Arora', 100000, '14-02-20 09.00.00', 'HR'),\n",
    "#        (002, 'Niharika', 'Verma', 80000, '14-06-11 09.00.00', 'Admin'),"
   ]
  },
  {
   "cell_type": "code",
   "execution_count": null,
   "id": "0965096b",
   "metadata": {},
   "outputs": [],
   "source": [
    "INSERT INTO worker (WORKER_ID, FIRST_NAME, LAST_NAME, SALARY, JOINING_DATE, DEPARTMENT)\n",
    "VALUES (001, 'Monika', 'Arora', 100000, '14-02-20 09.00.00', 'HR'),\n",
    "       (002, 'Niharika', 'Verma', 80000, '14-06-11 09.00.00', 'Admin');"
   ]
  },
  {
   "cell_type": "code",
   "execution_count": null,
   "id": "fbd1b32f",
   "metadata": {},
   "outputs": [],
   "source": [
    "#Question-10\n",
    "# Create a sample table Worker with column name id, first name, last name, salary, joining date, department."
   ]
  },
  {
   "cell_type": "code",
   "execution_count": null,
   "id": "a6ebc65d",
   "metadata": {},
   "outputs": [],
   "source": [
    "CREATE TABLE Worker (\n",
    "    id INT,\n",
    "    first_name VARCHAR(50),\n",
    "    last_name VARCHAR(50),\n",
    "    salary INT,\n",
    "    joining_date DATE,\n",
    "    department VARCHAR(50)\n",
    ");"
   ]
  },
  {
   "cell_type": "code",
   "execution_count": null,
   "id": "1cc241c8",
   "metadata": {},
   "outputs": [],
   "source": [
    "#Question-11\n",
    "# Create a sample table Worker with column name worker_id and worker_id will be not null and make it primary \n",
    "# key with auto-increment functionality."
   ]
  },
  {
   "cell_type": "code",
   "execution_count": null,
   "id": "7a0e5cec",
   "metadata": {},
   "outputs": [],
   "source": [
    "CREATE TABLE Worker (\n",
    "  worker_id INT NOT NULL AUTO_INCREMENT,\n",
    "  first_name VARCHAR(50),\n",
    "  last_name VARCHAR(50),\n",
    "  salary FLOAT,\n",
    "  joining_date DATE,\n",
    "  department VARCHAR(50),\n",
    "  PRIMARY KEY (worker_id)\n",
    ");"
   ]
  },
  {
   "cell_type": "code",
   "execution_count": null,
   "id": "3eac5616",
   "metadata": {},
   "outputs": [],
   "source": [
    "#Question-12\n",
    "# Create a sample table test_table with column name first name and last name with CHAR(25) column type"
   ]
  },
  {
   "cell_type": "code",
   "execution_count": null,
   "id": "64193f83",
   "metadata": {},
   "outputs": [],
   "source": [
    "CREATE TABLE test_table (\n",
    "  first_name CHAR(25),\n",
    "  last_name CHAR(25)\n",
    ");"
   ]
  },
  {
   "cell_type": "code",
   "execution_count": null,
   "id": "afa2d981",
   "metadata": {},
   "outputs": [],
   "source": [
    "#Question-13\n",
    "# Write a query to use the database name ekeeda_students"
   ]
  },
  {
   "cell_type": "code",
   "execution_count": null,
   "id": "e2b9adb7",
   "metadata": {},
   "outputs": [],
   "source": [
    "USE ekeeda_students;"
   ]
  },
  {
   "cell_type": "code",
   "execution_count": null,
   "id": "cc611e05",
   "metadata": {},
   "outputs": [],
   "source": [
    "#Question-14\n",
    "# Create a database in SQL:"
   ]
  },
  {
   "cell_type": "code",
   "execution_count": null,
   "id": "eb1099cd",
   "metadata": {},
   "outputs": [],
   "source": [
    "CREATE DATABASE mydatabase;"
   ]
  },
  {
   "cell_type": "code",
   "execution_count": null,
   "id": "5ca5b73c",
   "metadata": {},
   "outputs": [],
   "source": [
    "#Question-15\n",
    "# Write a query to show the available databases"
   ]
  },
  {
   "cell_type": "code",
   "execution_count": null,
   "id": "e0a25aa9",
   "metadata": {},
   "outputs": [],
   "source": [
    "SHOW DATABASES;"
   ]
  },
  {
   "cell_type": "code",
   "execution_count": null,
   "id": "375d63f8",
   "metadata": {},
   "outputs": [],
   "source": []
  },
  {
   "cell_type": "code",
   "execution_count": null,
   "id": "3a10c3ae",
   "metadata": {},
   "outputs": [],
   "source": []
  },
  {
   "cell_type": "code",
   "execution_count": null,
   "id": "8c9516fe",
   "metadata": {},
   "outputs": [],
   "source": []
  },
  {
   "cell_type": "code",
   "execution_count": null,
   "id": "d305b2b2",
   "metadata": {},
   "outputs": [],
   "source": []
  },
  {
   "cell_type": "code",
   "execution_count": null,
   "id": "5be93d81",
   "metadata": {},
   "outputs": [],
   "source": []
  }
 ],
 "metadata": {
  "kernelspec": {
   "display_name": "Python 3 (ipykernel)",
   "language": "python",
   "name": "python3"
  },
  "language_info": {
   "codemirror_mode": {
    "name": "ipython",
    "version": 3
   },
   "file_extension": ".py",
   "mimetype": "text/x-python",
   "name": "python",
   "nbconvert_exporter": "python",
   "pygments_lexer": "ipython3",
   "version": "3.9.12"
  }
 },
 "nbformat": 4,
 "nbformat_minor": 5
}
