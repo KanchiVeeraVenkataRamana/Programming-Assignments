{
 "cells": [
  {
   "cell_type": "code",
   "execution_count": 1,
   "id": "7015da43",
   "metadata": {},
   "outputs": [],
   "source": [
    "#Question-1\n",
    "# assume you have two lists a=[1,3,5,7] b=[2,4,6,8,10]\n",
    "# i.First task ts to create a list which has elements from both the list & name it 'ab'\n",
    "# ii.Write a function which can reverse the elements of ab"
   ]
  },
  {
   "cell_type": "code",
   "execution_count": 2,
   "id": "85040281",
   "metadata": {},
   "outputs": [
    {
     "name": "stdout",
     "output_type": "stream",
     "text": [
      "[1, 3, 5, 7]\n",
      "[2, 4, 6, 8, 10]\n",
      "\n",
      "[1, 3, 5, 7, 2, 4, 6, 8, 10]\n",
      "[10, 8, 6, 4, 2, 7, 5, 3, 1]\n"
     ]
    }
   ],
   "source": [
    "a=[1,3,5,7]\n",
    "b=[2,4,6,8,10]\n",
    "print(a)\n",
    "print(b)\n",
    "print()\n",
    "ab=a+b\n",
    "print(ab)\n",
    "ab.reverse()\n",
    "print(ab)"
   ]
  },
  {
   "cell_type": "code",
   "execution_count": 2,
   "id": "47c85da0",
   "metadata": {},
   "outputs": [],
   "source": [
    "#Question-2\n",
    "# Can a list be converted into a set? Explain with the help of an example."
   ]
  },
  {
   "cell_type": "code",
   "execution_count": 3,
   "id": "100e729b",
   "metadata": {},
   "outputs": [
    {
     "name": "stdout",
     "output_type": "stream",
     "text": [
      "[1, 2, 3, 4, 5, 6]\n",
      "\n",
      "{1, 2, 3, 4, 5, 6}\n"
     ]
    }
   ],
   "source": [
    "l=[1,2,3,4,5,6]\n",
    "print(l)\n",
    "print()\n",
    "print(set(l))"
   ]
  },
  {
   "cell_type": "code",
   "execution_count": 3,
   "id": "f177bb64",
   "metadata": {},
   "outputs": [],
   "source": [
    "#Question-3\n",
    "# Extract 3000 from the given list Y=[1,3,4,6,7,9,10,4+7j,'Hello world',[2000,3000,1000]]"
   ]
  },
  {
   "cell_type": "code",
   "execution_count": 4,
   "id": "65fe9a53",
   "metadata": {},
   "outputs": [
    {
     "name": "stdout",
     "output_type": "stream",
     "text": [
      "[1, 3, 4, 6, 7, 9, 10, (4+7j), 'Hello world', [2000, 3000, 1000]]\n",
      "3000\n"
     ]
    }
   ],
   "source": [
    "Y=[1,3,4,6,7,9,10,4+7j,'Hello world',[2000,3000,1000]]\n",
    "print(Y)\n",
    "print(Y[9][1])"
   ]
  },
  {
   "cell_type": "code",
   "execution_count": 4,
   "id": "71f3f3f1",
   "metadata": {},
   "outputs": [],
   "source": [
    "#Question-4\n",
    "# Extract '09' from this: G=['2022-09-03']"
   ]
  },
  {
   "cell_type": "code",
   "execution_count": 5,
   "id": "fc87d9cd",
   "metadata": {},
   "outputs": [
    {
     "name": "stdout",
     "output_type": "stream",
     "text": [
      "['2022-09-03']\n",
      "\n",
      "9\n"
     ]
    }
   ],
   "source": [
    "G=['2022-09-03']\n",
    "print(G)\n",
    "print()\n",
    "G=[2022,9,3]\n",
    "print(G[1])"
   ]
  },
  {
   "cell_type": "code",
   "execution_count": 5,
   "id": "4bc4775e",
   "metadata": {},
   "outputs": [],
   "source": [
    "#Question-5\n",
    "# Write a code to add a key to a dictionary Use the given dictionary and add a key (4:16)\n",
    "# square_dictionary={1:1,2:4,3:9}"
   ]
  },
  {
   "cell_type": "code",
   "execution_count": 6,
   "id": "079695c6",
   "metadata": {},
   "outputs": [
    {
     "name": "stdout",
     "output_type": "stream",
     "text": [
      "{1: 1, 2: 4, 3: 9}\n",
      "\n",
      "{1: 1, 2: 4, 3: 9, 4: 16}\n"
     ]
    }
   ],
   "source": [
    "square_dictionary={1:1,2:4,3:9}\n",
    "print(square_dictionary)\n",
    "print()\n",
    "square_dictionary[4]=16\n",
    "print(square_dictionary)"
   ]
  },
  {
   "cell_type": "code",
   "execution_count": 6,
   "id": "fafb629f",
   "metadata": {},
   "outputs": [],
   "source": [
    "#Question-6\n",
    "# i.Count the occurence of 'me' in the given string below\n",
    "# ii.Extract 'python@gmail' str='Hello,please meet me at 4pm @coffeehouseccd or email me python@gmail.com'"
   ]
  },
  {
   "cell_type": "code",
   "execution_count": 7,
   "id": "757e70d0",
   "metadata": {},
   "outputs": [
    {
     "name": "stdout",
     "output_type": "stream",
     "text": [
      "Hello,please meet me at 4pm @coffeehouseccd or email me python@gmail.com\n",
      "\n",
      "3\n",
      "\n",
      "python@gmail\n"
     ]
    }
   ],
   "source": [
    "str=\"Hello,please meet me at 4pm @coffeehouseccd or email me python@gmail.com\"\n",
    "print(str)\n",
    "print()\n",
    "x=str.count('me')\n",
    "print(x)\n",
    "print()\n",
    "print(str[56:68])"
   ]
  },
  {
   "cell_type": "code",
   "execution_count": 7,
   "id": "f326b31c",
   "metadata": {},
   "outputs": [],
   "source": [
    "#Question-7\n",
    "# Write the program to multiply the two lists to perform multiplication\n",
    "# num_list_1=[1,2,3,4], num_list_2=[0,5,2,1]"
   ]
  },
  {
   "cell_type": "code",
   "execution_count": 8,
   "id": "d844232c",
   "metadata": {},
   "outputs": [
    {
     "name": "stdout",
     "output_type": "stream",
     "text": [
      "[1, 2, 3, 4]\n",
      "[0, 5, 2, 1]\n",
      "\n",
      "[0, 10, 6, 4]\n"
     ]
    }
   ],
   "source": [
    "num_list_1=[1,2,3,4]\n",
    "num_list_2=[0,5,2,1]\n",
    "print(num_list_1)\n",
    "print(num_list_2)\n",
    "print()\n",
    "res_list=[num_list_1[i]*num_list_2[i] for i in range(len(num_list_1))]\n",
    "print(res_list)"
   ]
  },
  {
   "cell_type": "code",
   "execution_count": 8,
   "id": "02a9fc4b",
   "metadata": {},
   "outputs": [],
   "source": [
    "#Question-8\n",
    "# Write a program to perform following list operations on the list given below:\n",
    "# a.Check the length of mix_list_1\n",
    "# b.Concatenate the mix_list_1 and mix_list_2\n",
    "# c.Repeat the mix_list_2 three times\n",
    "\n",
    "# Lists to perform operations:\n",
    "# mix_list_1=['learn',24,'Blue',False,-8]\n",
    "# mix_list_2=[4,7,'Summer']"
   ]
  },
  {
   "cell_type": "code",
   "execution_count": 9,
   "id": "1ae19eda",
   "metadata": {},
   "outputs": [
    {
     "name": "stdout",
     "output_type": "stream",
     "text": [
      "['Learn', 24, 'Blue', False, -8]\n",
      "[4, 7, 'Summer']\n",
      "\n",
      "5\n",
      "['Learn', 24, 'Blue', False, -8, 4, 7, 'Summer']\n",
      "[4, 7, 'Summer', 4, 7, 'Summer']\n"
     ]
    }
   ],
   "source": [
    "mix_list_1=['Learn',24,'Blue',False,-8]\n",
    "mix_list_2=[4,7,'Summer']\n",
    "print(mix_list_1)\n",
    "print(mix_list_2)\n",
    "print()\n",
    "print(len(mix_list_1))\n",
    "print(mix_list_1+mix_list_2)\n",
    "print(mix_list_2*2)"
   ]
  },
  {
   "cell_type": "code",
   "execution_count": 9,
   "id": "d1ae361a",
   "metadata": {},
   "outputs": [],
   "source": [
    "#Question-9\n",
    "# Create a string with a name 'country' and 'india' as its elements. Perform the following:\n",
    "# a.Find its length\n",
    "# b.extract its first two letters"
   ]
  },
  {
   "cell_type": "code",
   "execution_count": 10,
   "id": "997ca87e",
   "metadata": {},
   "outputs": [
    {
     "name": "stdout",
     "output_type": "stream",
     "text": [
      "country\n",
      "India\n",
      "\n",
      "7\n",
      "5\n",
      "c o\n",
      "I n\n"
     ]
    }
   ],
   "source": [
    "v1,v2='country','India'\n",
    "print(v1)\n",
    "print(v2)\n",
    "print()\n",
    "print(len(v1))\n",
    "print(len(v2))\n",
    "print(v1[0],v1[1])\n",
    "print(v2[0],v2[1])"
   ]
  },
  {
   "cell_type": "code",
   "execution_count": 10,
   "id": "d6eedcb5",
   "metadata": {},
   "outputs": [],
   "source": [
    "#Question-10\n",
    "# Write a program to perform following set operations\n",
    "# a.union\n",
    "# b.Intersection\n",
    "# c.Set of all the elements of set A that are not in set B\n",
    "# d.Set of all the elements of set B that are not in set A\n",
    "# e.Symmetric difference\n",
    "# use the below set:\n",
    "# A={1,4,5,2,6,3,40,7,87,4,71}\n",
    "# B={3,42,51,6,7,8,54,5}"
   ]
  },
  {
   "cell_type": "code",
   "execution_count": 11,
   "id": "48c4f8ff",
   "metadata": {},
   "outputs": [
    {
     "name": "stdout",
     "output_type": "stream",
     "text": [
      "{1, 2, 3, 4, 5, 6, 7, 40, 71, 87}\n",
      "{3, 5, 6, 7, 8, 42, 51, 54}\n",
      "\n",
      "{1, 2, 3, 4, 5, 6, 7, 40, 71, 8, 42, 51, 54, 87}\n",
      "{3, 5, 6, 7}\n",
      "{1, 2, 4, 8, 40, 42, 71, 51, 54, 87}\n",
      "{1, 2, 4, 40, 71, 8, 42, 51, 54, 87}\n",
      "{1, 2, 4, 8, 40, 42, 71, 51, 54, 87}\n"
     ]
    }
   ],
   "source": [
    "A={1,4,5,2,6,3,40,7,87,4,71}\n",
    "B={3,42,51,6,7,8,54,5}\n",
    "print(A)\n",
    "print(B)\n",
    "print()\n",
    "print(A.union(B))\n",
    "print(A.intersection(B))\n",
    "print(A^B)\n",
    "print(B^A)\n",
    "print(A.symmetric_difference(B))"
   ]
  },
  {
   "cell_type": "code",
   "execution_count": 11,
   "id": "00b8a75c",
   "metadata": {},
   "outputs": [],
   "source": [
    "#Question-11\n",
    "# Write the program to perform following manipulations:\n",
    "# a.Add '7' to the given set\n",
    "# b.Remove '3' from a given set\n",
    "# c.Clear the set\n",
    "# use the below set for manipulations\n",
    "# num_set={1,2,3,4,5,6}"
   ]
  },
  {
   "cell_type": "code",
   "execution_count": 12,
   "id": "1d65e451",
   "metadata": {},
   "outputs": [
    {
     "name": "stdout",
     "output_type": "stream",
     "text": [
      "{1, 2, 3, 4, 5, 6}\n",
      "\n",
      "{1, 2, 3, 4, 5, 6, 7}\n",
      "{1, 2, 4, 5, 6, 7}\n",
      "set()\n"
     ]
    }
   ],
   "source": [
    "num_set={1,2,3,4,5,6}\n",
    "print(num_set)\n",
    "print()\n",
    "num_set.add(7)\n",
    "print(num_set)\n",
    "num_set.remove(3)\n",
    "print(num_set)\n",
    "num_set.clear()\n",
    "print(num_set)"
   ]
  },
  {
   "cell_type": "code",
   "execution_count": 12,
   "id": "799e031d",
   "metadata": {},
   "outputs": [],
   "source": [
    "#Question-12\n",
    "# Replace the elements in the given tuple:\n",
    "# a.Replace '2' with '3'\n",
    "# b.Replace 'True' in first element with 'False'\n",
    "# use the tuple below:\n",
    "# mix_tuple=(['a',1,True],2,'Science',-5)"
   ]
  },
  {
   "cell_type": "code",
   "execution_count": 13,
   "id": "30c01ab8",
   "metadata": {},
   "outputs": [
    {
     "name": "stdout",
     "output_type": "stream",
     "text": [
      "(['a', 1, True], 2, 'Science', -5)\n",
      "\n",
      "(['a', 1, True], 3, 'Science', -5)\n",
      "(['a', 1, False], 3, 'Science', -5)\n"
     ]
    }
   ],
   "source": [
    "mix_tuple=(['a',1,True],2,'Science',-5)\n",
    "print(mix_tuple)\n",
    "print()\n",
    "y=list(mix_tuple)\n",
    "y[1]=3\n",
    "mix_tuple=tuple(y)\n",
    "print(mix_tuple)\n",
    "y=list(mix_tuple)\n",
    "y[0][2]=False\n",
    "mix_tuple=tuple(y)\n",
    "print(mix_tuple)"
   ]
  },
  {
   "cell_type": "code",
   "execution_count": 13,
   "id": "33080850",
   "metadata": {},
   "outputs": [],
   "source": [
    "#Question-13\n",
    "# Write a code to perform operations on tuple:\n",
    "# a.Check the length of num_tuple\n",
    "# b.Concatenate the num_tuple and mix_tuple\n",
    "# c.Repeat the mix_tuple two times\n",
    "# tuples to perform operations:\n",
    "# num_tuple=(4,4,8)\n",
    "# mix_tuple='john',5,-2"
   ]
  },
  {
   "cell_type": "code",
   "execution_count": 14,
   "id": "b31f7107",
   "metadata": {},
   "outputs": [
    {
     "name": "stdout",
     "output_type": "stream",
     "text": [
      "3\n",
      "(4, 4, 8, 'john', 5, -2)\n",
      "('john', 5, -2, 'john', 5, -2)\n"
     ]
    }
   ],
   "source": [
    "num_tuple=(4,4,8)\n",
    "mix_tuple='john',5,-2\n",
    "print(len(num_tuple))\n",
    "print(num_tuple+mix_tuple)\n",
    "print(mix_tuple*2)"
   ]
  },
  {
   "cell_type": "code",
   "execution_count": 14,
   "id": "a2f4df73",
   "metadata": {},
   "outputs": [],
   "source": [
    "#Question-14\n",
    "# Write a program to perform following bulit-in list operations:\n",
    "# a.Min(list)\n",
    "# b.Max(list)\n",
    "# c.Sort the elements (use sort() and sorted() function)\n",
    "# d.Create a copy of a list\n",
    "# e.Remove element '5' from the list\n",
    "# Use the below list\n",
    "# num_list=[4,5,7,-2,0,1]"
   ]
  },
  {
   "cell_type": "code",
   "execution_count": 15,
   "id": "8e94e2e2",
   "metadata": {},
   "outputs": [
    {
     "name": "stdout",
     "output_type": "stream",
     "text": [
      "-2\n",
      "7\n",
      "[-2, 0, 1, 4, 5, 7]\n",
      "[-2, 0, 1, 4, 5, 7]\n",
      "[-2, 0, 1, 4, 7]\n"
     ]
    }
   ],
   "source": [
    "num_list=[4,5,7,-2,0,1]\n",
    "print(min(num_list))\n",
    "print(max(num_list))\n",
    "num_list.sort()\n",
    "print(num_list)\n",
    "num_list.copy()\n",
    "print(num_list)\n",
    "num_list.remove(5)\n",
    "print(num_list)"
   ]
  },
  {
   "cell_type": "code",
   "execution_count": 15,
   "id": "646e9883",
   "metadata": {},
   "outputs": [],
   "source": [
    "#Qusetion-15\n",
    "# Write a code to retrieve elements from a list \n",
    "# a.First element\n",
    "# b.Second last element\n",
    "# c.First three element\n",
    "# d.Slice the list from 1st index till the last index with an increment of an index by 2\n",
    "# Use the below list:\n",
    "# mix_list=['Python',1,2,3,'Data',True]"
   ]
  },
  {
   "cell_type": "code",
   "execution_count": 16,
   "id": "3f28e96e",
   "metadata": {},
   "outputs": [
    {
     "name": "stdout",
     "output_type": "stream",
     "text": [
      "Python\n",
      "Data\n",
      "['Python', 1, 2]\n",
      "[1, 3, True]\n"
     ]
    }
   ],
   "source": [
    "mix_list=['Python',1,2,3,'Data',True]\n",
    "print(mix_list[0])\n",
    "print(mix_list[-2])\n",
    "print(mix_list[:3])\n",
    "print(mix_list[1::2])"
   ]
  },
  {
   "cell_type": "code",
   "execution_count": null,
   "id": "bbb6f8d5",
   "metadata": {},
   "outputs": [],
   "source": []
  },
  {
   "cell_type": "code",
   "execution_count": null,
   "id": "f810a489",
   "metadata": {},
   "outputs": [],
   "source": []
  },
  {
   "cell_type": "code",
   "execution_count": null,
   "id": "e92178bf",
   "metadata": {},
   "outputs": [],
   "source": []
  },
  {
   "cell_type": "code",
   "execution_count": null,
   "id": "4ead30d6",
   "metadata": {},
   "outputs": [],
   "source": []
  },
  {
   "cell_type": "code",
   "execution_count": null,
   "id": "b5fb49cb",
   "metadata": {},
   "outputs": [],
   "source": []
  },
  {
   "cell_type": "code",
   "execution_count": null,
   "id": "701efe6b",
   "metadata": {},
   "outputs": [],
   "source": []
  }
 ],
 "metadata": {
  "kernelspec": {
   "display_name": "Python 3 (ipykernel)",
   "language": "python",
   "name": "python3"
  },
  "language_info": {
   "codemirror_mode": {
    "name": "ipython",
    "version": 3
   },
   "file_extension": ".py",
   "mimetype": "text/x-python",
   "name": "python",
   "nbconvert_exporter": "python",
   "pygments_lexer": "ipython3",
   "version": "3.9.12"
  }
 },
 "nbformat": 4,
 "nbformat_minor": 5
}
