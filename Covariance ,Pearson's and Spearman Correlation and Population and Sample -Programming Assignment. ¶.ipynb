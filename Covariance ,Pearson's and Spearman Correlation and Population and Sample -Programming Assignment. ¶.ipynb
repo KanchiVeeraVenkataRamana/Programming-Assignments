{
 "cells": [
  {
   "cell_type": "markdown",
   "id": "cd12e333",
   "metadata": {},
   "source": [
    "# Covariance - Programming Assignment."
   ]
  },
  {
   "cell_type": "code",
   "execution_count": 1,
   "id": "8b73b16d",
   "metadata": {},
   "outputs": [],
   "source": [
    "#Question-1\n",
    "# create a two numpy arrays and find the variance between two of them"
   ]
  },
  {
   "cell_type": "code",
   "execution_count": 8,
   "id": "2a429536",
   "metadata": {},
   "outputs": [
    {
     "name": "stdout",
     "output_type": "stream",
     "text": [
      "covariance matrix is \n",
      " [[ 1. -1.]\n",
      " [-1.  1.]]\n"
     ]
    }
   ],
   "source": [
    "import numpy as np\n",
    "x=np.array([0,1,2])\n",
    "y=np.array([2,1,0])\n",
    "print('covariance matrix is \\n',np.cov(x,y))"
   ]
  },
  {
   "cell_type": "code",
   "execution_count": 2,
   "id": "d80a1919",
   "metadata": {},
   "outputs": [],
   "source": [
    "#Question-2\n",
    "# find the covariance of a given array\n",
    "# x=np.array([[3,1,4],[7,3,8],[1,5,7]])"
   ]
  },
  {
   "cell_type": "code",
   "execution_count": 9,
   "id": "0c98029b",
   "metadata": {},
   "outputs": [
    {
     "name": "stdout",
     "output_type": "stream",
     "text": [
      "covariance matrix is \n",
      " [[2.33333333 4.         0.66666667]\n",
      " [4.         7.         0.        ]\n",
      " [0.66666667 0.         9.33333333]]\n"
     ]
    }
   ],
   "source": [
    "import numpy as np\n",
    "x=np.array([[3,1,4],[7,3,8],[1,5,7]])\n",
    "print('covariance matrix is \\n',np.cov(x))"
   ]
  },
  {
   "cell_type": "code",
   "execution_count": 3,
   "id": "976ac4f0",
   "metadata": {},
   "outputs": [],
   "source": [
    "#Question-3\n",
    "# Find the covariance of two series, define two list and covert to series then find the covariance"
   ]
  },
  {
   "cell_type": "code",
   "execution_count": 11,
   "id": "8b70e0e5",
   "metadata": {},
   "outputs": [
    {
     "name": "stdout",
     "output_type": "stream",
     "text": [
      "covariance of two series is: 2.849999999999999\n"
     ]
    }
   ],
   "source": [
    "import pandas as pd\n",
    "a=[2,3,2.7,3.2,4.1]\n",
    "b=[10,14,12,15,20]\n",
    "x=pd.Series(a)\n",
    "y=pd.Series(b)\n",
    "print('covariance of two series is:',x.cov(y))"
   ]
  },
  {
   "cell_type": "code",
   "execution_count": 13,
   "id": "8cbd6922",
   "metadata": {},
   "outputs": [],
   "source": [
    "#Question-4\n",
    "# Find the covariance from the given Dataframe:\n",
    "# data={'col1':[1,5,4],'col2':[3,7,1],'col3':[6,8,1],'col4':[10,7,2]}"
   ]
  },
  {
   "cell_type": "code",
   "execution_count": 15,
   "id": "cf5513fe",
   "metadata": {},
   "outputs": [
    {
     "name": "stdout",
     "output_type": "stream",
     "text": [
      "          col1       col2  col3       col4\n",
      "col1  4.333333   2.666667   0.0  -5.166667\n",
      "col2  2.666667   9.333333  10.0   5.666667\n",
      "col3  0.000000  10.000000  13.0  11.500000\n",
      "col4 -5.166667   5.666667  11.5  16.333333\n"
     ]
    }
   ],
   "source": [
    "import pandas as pd\n",
    "data={'col1':[1,5,4],'col2':[3,7,1],'col3':[6,8,1],'col4':[10,7,2]}\n",
    "df=pd.DataFrame(data)\n",
    "print(df.cov())"
   ]
  },
  {
   "cell_type": "code",
   "execution_count": 5,
   "id": "94d45fe9",
   "metadata": {},
   "outputs": [],
   "source": [
    "#Question-5\n",
    "# Create a dataframe with Nan values and find their covariance"
   ]
  },
  {
   "cell_type": "code",
   "execution_count": 16,
   "id": "92ba8539",
   "metadata": {},
   "outputs": [
    {
     "name": "stdout",
     "output_type": "stream",
     "text": [
      "      col1  col2  col3  col4\n",
      "col1   8.0   NaN   4.0  -6.0\n",
      "col2   NaN   2.0   5.0   NaN\n",
      "col3   4.0   5.0  13.0  -3.0\n",
      "col4  -6.0   NaN  -3.0   4.5\n"
     ]
    }
   ],
   "source": [
    "import pandas as pd\n",
    "import numpy as np\n",
    "data={'col1':[1,5,np.nan],'col2':[3,np.nan,1],'col3':[6,8,1],'col4':[10,7,np.nan]}\n",
    "df=pd.DataFrame(data)\n",
    "print(df.cov())"
   ]
  },
  {
   "cell_type": "code",
   "execution_count": null,
   "id": "aebc3a1e",
   "metadata": {},
   "outputs": [],
   "source": []
  },
  {
   "cell_type": "code",
   "execution_count": null,
   "id": "0a1ae9fb",
   "metadata": {},
   "outputs": [],
   "source": []
  },
  {
   "cell_type": "markdown",
   "id": "0b74b76c",
   "metadata": {},
   "source": [
    "# Perason's and Spearman Correlation -Programming Assignment"
   ]
  },
  {
   "cell_type": "code",
   "execution_count": 17,
   "id": "2d71896b",
   "metadata": {},
   "outputs": [],
   "source": [
    "#Question-1\n",
    "# find the pearson's and spearman Correlation of given below data using numpy\n",
    "# x=[48,67,89,76,55,66,89,90,99,100,100,32,55]\n",
    "# y=[52,61,78,81,50,49,95,100,100,90,89,21,62]"
   ]
  },
  {
   "cell_type": "code",
   "execution_count": 13,
   "id": "04a64199",
   "metadata": {},
   "outputs": [
    {
     "name": "stdout",
     "output_type": "stream",
     "text": [
      "pearsons correlation is \n",
      " [[1.         0.93195306]\n",
      " [0.93195306 1.        ]]\n",
      "\n",
      "spearman correlation is \n",
      " [[1.         0.93195306]\n",
      " [0.93195306 1.        ]]\n"
     ]
    }
   ],
   "source": [
    "import numpy as np\n",
    "x=[48,67,89,76,55,66,89,90,99,100,100,32,55]\n",
    "y=[52,61,78,81,50,49,95,100,100,90,89,21,62]\n",
    "print('pearsons correlation is \\n',np.corrcoef(x,y))\n",
    "print()\n",
    "print('spearman correlation is \\n',np.corrcoef(x,y))"
   ]
  },
  {
   "cell_type": "code",
   "execution_count": 18,
   "id": "77795a54",
   "metadata": {},
   "outputs": [],
   "source": [
    "#Question-2\n",
    "# find the pearson's and spearman correlation of given below data using scipy\n",
    "# x=[48,67,89,76,55,66,89,90,99,100,100,32,55]\n",
    "# y=[52,61,78,81,50,49,95,100,100,90,89,21,62]"
   ]
  },
  {
   "cell_type": "code",
   "execution_count": 53,
   "id": "208e8ac5",
   "metadata": {},
   "outputs": [
    {
     "name": "stdout",
     "output_type": "stream",
     "text": [
      "Pearsons coefficient is: (0.9319530597064699, 3.5520847631734183e-06)\n",
      "Spearman coefficient is: SpearmanrResult(correlation=0.842544651209741, pvalue=0.0002999969301816804)\n"
     ]
    }
   ],
   "source": [
    "import pandas as pd\n",
    "from scipy.stats import pearsonr,spearmanr\n",
    "x=[48,67,89,76,55,66,89,90,99,100,100,32,55]\n",
    "y=[52,61,78,81,50,49,95,100,100,90,89,21,62]\n",
    "print('Pearsons coefficient is:',pearsonr(x,y))\n",
    "print('Spearman coefficient is:',spearmanr(x,y))"
   ]
  },
  {
   "cell_type": "code",
   "execution_count": 66,
   "id": "16672f45",
   "metadata": {},
   "outputs": [],
   "source": [
    "#Question-3\n",
    "# Calculate the correlation coefficient by Pearson's correlation coefficient, calculate values of x^2,y^2 ,xy\n",
    "# and display them in a series:\n",
    "# x=21,31,25,40,47,38\n",
    "# y=70,55,60,78,66,80"
   ]
  },
  {
   "cell_type": "code",
   "execution_count": 3,
   "id": "bd593380",
   "metadata": {},
   "outputs": [
    {
     "name": "stdout",
     "output_type": "stream",
     "text": [
      "Pearson's correlation coefficient: 0.347\n",
      "Values of X^2:  [441, 961, 625, 1600, 2209, 1444]\n",
      "Values of Y^2:  [4900, 3025, 3600, 6084, 4356, 6400]\n",
      "Values of XY:  [1470, 1705, 1500, 3120, 3102, 3040]\n"
     ]
    }
   ],
   "source": [
    "import math\n",
    "X = [21, 31, 25, 40, 47, 38]\n",
    "Y = [70, 55, 60, 78, 66, 80]\n",
    "n = len(X)\n",
    "mean_X = sum(X) / n\n",
    "mean_Y = sum(Y) / n\n",
    "std_X = math.sqrt(sum([(x - mean_X)**2 for x in X]) / (n - 1))\n",
    "std_Y = math.sqrt(sum([(y - mean_Y)**2 for y in Y]) / (n - 1))\n",
    "cov = sum([(X[i] - mean_X) * (Y[i] - mean_Y) for i in range(n)]) / (n - 1)\n",
    "corr = cov / (std_X * std_Y)\n",
    "# Calculate x^2, y^2, and xy\n",
    "X_squared = [x**2 for x in X]\n",
    "Y_squared = [y**2 for y in Y]\n",
    "XY = [X[i] * Y[i] for i in range(n)]\n",
    "print(\"Pearson's correlation coefficient: {:.3f}\".format(corr))\n",
    "print(\"Values of X^2: \", X_squared)\n",
    "print(\"Values of Y^2: \", Y_squared)\n",
    "print(\"Values of XY: \", XY)\n"
   ]
  },
  {
   "cell_type": "code",
   "execution_count": null,
   "id": "7e9bfefa",
   "metadata": {},
   "outputs": [],
   "source": [
    "#Question-4\n",
    "# Write a program to find spearman's coefficient from given values:\n",
    "# x=[15,18,21,15,21]\n",
    "# y=[25,25,27,27,27]"
   ]
  },
  {
   "cell_type": "code",
   "execution_count": 8,
   "id": "2e4d4d11",
   "metadata": {},
   "outputs": [
    {
     "name": "stdout",
     "output_type": "stream",
     "text": [
      "spearmans coefficient is: SpearmanrResult(correlation=0.45643546458763845, pvalue=0.4397101096353205)\n"
     ]
    }
   ],
   "source": [
    "from scipy.stats import spearmanr\n",
    "x=[15,18,21,15,21]\n",
    "y=[25,25,27,27,27]\n",
    "print('spearmans coefficient is:',spearmanr(x,y))"
   ]
  },
  {
   "cell_type": "code",
   "execution_count": 21,
   "id": "307b89bd",
   "metadata": {},
   "outputs": [],
   "source": [
    "#Question-5\n",
    "# The scores for nine students in physics and maths are as follows find the spearmans coefficient;\n",
    "# Physics: 35,23,47,17,10,43,9,6,28\n",
    "# Mathematics: 30,33,45,23,8,49,12,4,31"
   ]
  },
  {
   "cell_type": "code",
   "execution_count": 55,
   "id": "16fdd773",
   "metadata": {},
   "outputs": [
    {
     "name": "stdout",
     "output_type": "stream",
     "text": [
      "Physics and Mathematics of Sperarmans Coefficient: SpearmanrResult(correlation=0.9, pvalue=0.0009430623223403293)\n"
     ]
    }
   ],
   "source": [
    "from scipy.stats import spearmanr\n",
    "Physics=[35,23,47,17,10,43,9,6,28]\n",
    "Mathematics=[30,33,45,23,8,49,12,4,31]\n",
    "print('Physics and Mathematics of Sperarmans Coefficient:',spearmanr(Physics,Mathematics))"
   ]
  },
  {
   "cell_type": "code",
   "execution_count": 10,
   "id": "7f0690f4",
   "metadata": {},
   "outputs": [
    {
     "name": "stdout",
     "output_type": "stream",
     "text": [
      "Spearman's rank correlation coefficient: 0.900\n"
     ]
    }
   ],
   "source": [
    "from scipy.stats import spearmanr\n",
    "\n",
    "physics_scores = [35, 23, 47, 17, 10, 43, 9, 6, 28]\n",
    "math_scores = [30, 33, 45, 23, 8, 49, 12, 4, 31]\n",
    "\n",
    "rho, _ = spearmanr(physics_scores, math_scores)\n",
    "\n",
    "print(\"Spearman's rank correlation coefficient: {:.3f}\".format(rho))\n"
   ]
  },
  {
   "cell_type": "code",
   "execution_count": null,
   "id": "10e9075e",
   "metadata": {},
   "outputs": [],
   "source": []
  },
  {
   "cell_type": "code",
   "execution_count": null,
   "id": "0b7bddd1",
   "metadata": {},
   "outputs": [],
   "source": []
  },
  {
   "cell_type": "markdown",
   "id": "544db4d2",
   "metadata": {},
   "source": [
    "# Population and Sample -Programming Assignment."
   ]
  },
  {
   "cell_type": "code",
   "execution_count": null,
   "id": "c6e4af2d",
   "metadata": {},
   "outputs": [],
   "source": [
    "#Question-1\n",
    "# Random sampling using weights, write a program that creates a random sample from a population using weighted probabilities.\n",
    "# Definition: In weighted random sampling (WRS) the items are weighted and the probability of each item to be\n",
    "#             selected is determined by its relative weight.\n",
    "# import pandas as pds\n",
    "# TimeToReach vs distance\n",
    "# time2reach =  {\"Distance\":[10,15,20,25,30,35,40,45,50,55],\n",
    "#                \"TimeToReach\":[15,20,25,30,40,45,50,60,65,70]};\n",
    "\n",
    "# dataFrame = pds.DataFrame(data=time2reach);\n",
    "\n",
    "# weight define\n",
    "# w = pds.Series(data=[0.05, 0.05, 0.05,0.05, 0.05, 0.1,0.15, 0.15, 0.15,0.2]);"
   ]
  },
  {
   "cell_type": "code",
   "execution_count": 29,
   "id": "4233dd87",
   "metadata": {},
   "outputs": [
    {
     "name": "stdout",
     "output_type": "stream",
     "text": [
      "   Distance  TimeToReach\n",
      "2        20           25\n",
      "9        55           70\n",
      "\n",
      "4    0.05\n",
      "1    0.05\n",
      "5    0.10\n",
      "0    0.05\n",
      "dtype: float64\n"
     ]
    }
   ],
   "source": [
    "import random as rd\n",
    "import pandas as pd\n",
    "time2reach={'Distance':[10,15,20,25,30,35,40,45,50,55],\n",
    "            'TimeToReach':[15,20,25,30,40,45,50,60,65,70]}\n",
    "dataframe=pd.DataFrame(data=time2reach)\n",
    "w = pd.Series(data=[0.05, 0.05, 0.05,0.05, 0.05, 0.1,0.15, 0.15, 0.15,0.2])\n",
    "sample=dataframe.sample(n=2,random_state=1)\n",
    "print(sample)\n",
    "print()\n",
    "sample2=w.sample(n=4,random_state=2)\n",
    "print(sample2)"
   ]
  },
  {
   "cell_type": "code",
   "execution_count": null,
   "id": "c9b7ae2c",
   "metadata": {},
   "outputs": [],
   "source": [
    "#Question-2\n",
    "# Specify the sample size as a fraction of the population size: \n",
    "# Example python program that samples, a DataFrame specifying the sample, size as a proportion to the DataFrame size, \n",
    "# We will be using FiveThirtyEight Comic Characters Dataset from Kaggle."
   ]
  },
  {
   "cell_type": "markdown",
   "id": "b013f740",
   "metadata": {},
   "source": [
    "Download dataset: https://www.kaggle.com/datasets/fivethirtyeight/fivethirtyeight-comic-characters-dataset"
   ]
  },
  {
   "cell_type": "code",
   "execution_count": 48,
   "id": "d2260dd3",
   "metadata": {},
   "outputs": [
    {
     "data": {
      "text/html": [
       "<div>\n",
       "<style scoped>\n",
       "    .dataframe tbody tr th:only-of-type {\n",
       "        vertical-align: middle;\n",
       "    }\n",
       "\n",
       "    .dataframe tbody tr th {\n",
       "        vertical-align: top;\n",
       "    }\n",
       "\n",
       "    .dataframe thead th {\n",
       "        text-align: right;\n",
       "    }\n",
       "</style>\n",
       "<table border=\"1\" class=\"dataframe\">\n",
       "  <thead>\n",
       "    <tr style=\"text-align: right;\">\n",
       "      <th></th>\n",
       "      <th>page_id</th>\n",
       "      <th>name</th>\n",
       "      <th>urlslug</th>\n",
       "      <th>ID</th>\n",
       "      <th>ALIGN</th>\n",
       "      <th>EYE</th>\n",
       "      <th>HAIR</th>\n",
       "      <th>SEX</th>\n",
       "      <th>GSM</th>\n",
       "      <th>ALIVE</th>\n",
       "      <th>APPEARANCES</th>\n",
       "      <th>FIRST APPEARANCE</th>\n",
       "      <th>Year</th>\n",
       "    </tr>\n",
       "  </thead>\n",
       "  <tbody>\n",
       "    <tr>\n",
       "      <th>15805</th>\n",
       "      <td>425899</td>\n",
       "      <td>Blaast (Earth-616)</td>\n",
       "      <td>\\/Blaast_(Earth-616)</td>\n",
       "      <td>No Dual Identity</td>\n",
       "      <td>Good Characters</td>\n",
       "      <td>NaN</td>\n",
       "      <td>No Hair</td>\n",
       "      <td>Male Characters</td>\n",
       "      <td>NaN</td>\n",
       "      <td>Living Characters</td>\n",
       "      <td>NaN</td>\n",
       "      <td>May-95</td>\n",
       "      <td>1995.0</td>\n",
       "    </tr>\n",
       "    <tr>\n",
       "      <th>3180</th>\n",
       "      <td>58659</td>\n",
       "      <td>Ralph Hutchins (Earth-616)</td>\n",
       "      <td>\\/Ralph_Hutchins_(Earth-616)</td>\n",
       "      <td>Secret Identity</td>\n",
       "      <td>NaN</td>\n",
       "      <td>NaN</td>\n",
       "      <td>Brown Hair</td>\n",
       "      <td>Male Characters</td>\n",
       "      <td>NaN</td>\n",
       "      <td>Living Characters</td>\n",
       "      <td>10.0</td>\n",
       "      <td>Jul-80</td>\n",
       "      <td>1980.0</td>\n",
       "    </tr>\n",
       "    <tr>\n",
       "      <th>2369</th>\n",
       "      <td>554007</td>\n",
       "      <td>Ted Mankowski (Earth-616)</td>\n",
       "      <td>\\/Ted_Mankowski_(Earth-616)</td>\n",
       "      <td>No Dual Identity</td>\n",
       "      <td>NaN</td>\n",
       "      <td>NaN</td>\n",
       "      <td>NaN</td>\n",
       "      <td>Male Characters</td>\n",
       "      <td>NaN</td>\n",
       "      <td>Living Characters</td>\n",
       "      <td>15.0</td>\n",
       "      <td>Oct-04</td>\n",
       "      <td>2004.0</td>\n",
       "    </tr>\n",
       "    <tr>\n",
       "      <th>2996</th>\n",
       "      <td>34170</td>\n",
       "      <td>Hideko Takata (Earth-616)</td>\n",
       "      <td>\\/Hideko_Takata_(Earth-616)</td>\n",
       "      <td>Public Identity</td>\n",
       "      <td>NaN</td>\n",
       "      <td>NaN</td>\n",
       "      <td>Black Hair</td>\n",
       "      <td>Female Characters</td>\n",
       "      <td>NaN</td>\n",
       "      <td>Living Characters</td>\n",
       "      <td>11.0</td>\n",
       "      <td>Mar-86</td>\n",
       "      <td>1986.0</td>\n",
       "    </tr>\n",
       "    <tr>\n",
       "      <th>9475</th>\n",
       "      <td>555944</td>\n",
       "      <td>Maggie Langella (Earth-616)</td>\n",
       "      <td>\\/Maggie_Langella_(Earth-616)</td>\n",
       "      <td>Secret Identity</td>\n",
       "      <td>Bad Characters</td>\n",
       "      <td>NaN</td>\n",
       "      <td>NaN</td>\n",
       "      <td>Female Characters</td>\n",
       "      <td>NaN</td>\n",
       "      <td>Living Characters</td>\n",
       "      <td>2.0</td>\n",
       "      <td>Mar-93</td>\n",
       "      <td>1993.0</td>\n",
       "    </tr>\n",
       "    <tr>\n",
       "      <th>...</th>\n",
       "      <td>...</td>\n",
       "      <td>...</td>\n",
       "      <td>...</td>\n",
       "      <td>...</td>\n",
       "      <td>...</td>\n",
       "      <td>...</td>\n",
       "      <td>...</td>\n",
       "      <td>...</td>\n",
       "      <td>...</td>\n",
       "      <td>...</td>\n",
       "      <td>...</td>\n",
       "      <td>...</td>\n",
       "      <td>...</td>\n",
       "    </tr>\n",
       "    <tr>\n",
       "      <th>15232</th>\n",
       "      <td>695333</td>\n",
       "      <td>Mr. Taylor (Nova) (Earth-616)</td>\n",
       "      <td>\\/Mr._Taylor_(Nova)_(Earth-616)</td>\n",
       "      <td>NaN</td>\n",
       "      <td>Good Characters</td>\n",
       "      <td>Brown Eyes</td>\n",
       "      <td>Black Hair</td>\n",
       "      <td>Male Characters</td>\n",
       "      <td>NaN</td>\n",
       "      <td>Living Characters</td>\n",
       "      <td>1.0</td>\n",
       "      <td>NaN</td>\n",
       "      <td>NaN</td>\n",
       "    </tr>\n",
       "    <tr>\n",
       "      <th>13480</th>\n",
       "      <td>29935</td>\n",
       "      <td>Visog (Earth-616)</td>\n",
       "      <td>\\/Visog_(Earth-616)</td>\n",
       "      <td>NaN</td>\n",
       "      <td>NaN</td>\n",
       "      <td>NaN</td>\n",
       "      <td>Black Hair</td>\n",
       "      <td>Male Characters</td>\n",
       "      <td>NaN</td>\n",
       "      <td>Deceased Characters</td>\n",
       "      <td>1.0</td>\n",
       "      <td>Jun-94</td>\n",
       "      <td>1994.0</td>\n",
       "    </tr>\n",
       "    <tr>\n",
       "      <th>12656</th>\n",
       "      <td>346679</td>\n",
       "      <td>Myrrhot (Earth-616)</td>\n",
       "      <td>\\/Myrrhot_(Earth-616)</td>\n",
       "      <td>Public Identity</td>\n",
       "      <td>Bad Characters</td>\n",
       "      <td>NaN</td>\n",
       "      <td>Black Hair</td>\n",
       "      <td>Male Characters</td>\n",
       "      <td>NaN</td>\n",
       "      <td>Deceased Characters</td>\n",
       "      <td>1.0</td>\n",
       "      <td>Dec-86</td>\n",
       "      <td>1986.0</td>\n",
       "    </tr>\n",
       "    <tr>\n",
       "      <th>4605</th>\n",
       "      <td>18848</td>\n",
       "      <td>Lydia Hardy (Earth-616)</td>\n",
       "      <td>\\/Lydia_Hardy_(Earth-616)</td>\n",
       "      <td>NaN</td>\n",
       "      <td>NaN</td>\n",
       "      <td>NaN</td>\n",
       "      <td>Grey Hair</td>\n",
       "      <td>Female Characters</td>\n",
       "      <td>NaN</td>\n",
       "      <td>Living Characters</td>\n",
       "      <td>6.0</td>\n",
       "      <td>Aug-79</td>\n",
       "      <td>1979.0</td>\n",
       "    </tr>\n",
       "    <tr>\n",
       "      <th>10657</th>\n",
       "      <td>453249</td>\n",
       "      <td>Doctor Grimm (Earth-616)</td>\n",
       "      <td>\\/Doctor_Grimm_(Earth-616)</td>\n",
       "      <td>Public Identity</td>\n",
       "      <td>Bad Characters</td>\n",
       "      <td>NaN</td>\n",
       "      <td>Bald</td>\n",
       "      <td>Male Characters</td>\n",
       "      <td>NaN</td>\n",
       "      <td>Deceased Characters</td>\n",
       "      <td>1.0</td>\n",
       "      <td>Jun-41</td>\n",
       "      <td>1941.0</td>\n",
       "    </tr>\n",
       "  </tbody>\n",
       "</table>\n",
       "<p>819 rows × 13 columns</p>\n",
       "</div>"
      ],
      "text/plain": [
       "       page_id                           name  \\\n",
       "15805   425899             Blaast (Earth-616)   \n",
       "3180     58659     Ralph Hutchins (Earth-616)   \n",
       "2369    554007      Ted Mankowski (Earth-616)   \n",
       "2996     34170      Hideko Takata (Earth-616)   \n",
       "9475    555944    Maggie Langella (Earth-616)   \n",
       "...        ...                            ...   \n",
       "15232   695333  Mr. Taylor (Nova) (Earth-616)   \n",
       "13480    29935              Visog (Earth-616)   \n",
       "12656   346679            Myrrhot (Earth-616)   \n",
       "4605     18848        Lydia Hardy (Earth-616)   \n",
       "10657   453249       Doctor Grimm (Earth-616)   \n",
       "\n",
       "                               urlslug                ID            ALIGN  \\\n",
       "15805             \\/Blaast_(Earth-616)  No Dual Identity  Good Characters   \n",
       "3180      \\/Ralph_Hutchins_(Earth-616)   Secret Identity              NaN   \n",
       "2369       \\/Ted_Mankowski_(Earth-616)  No Dual Identity              NaN   \n",
       "2996       \\/Hideko_Takata_(Earth-616)   Public Identity              NaN   \n",
       "9475     \\/Maggie_Langella_(Earth-616)   Secret Identity   Bad Characters   \n",
       "...                                ...               ...              ...   \n",
       "15232  \\/Mr._Taylor_(Nova)_(Earth-616)               NaN  Good Characters   \n",
       "13480              \\/Visog_(Earth-616)               NaN              NaN   \n",
       "12656            \\/Myrrhot_(Earth-616)   Public Identity   Bad Characters   \n",
       "4605         \\/Lydia_Hardy_(Earth-616)               NaN              NaN   \n",
       "10657       \\/Doctor_Grimm_(Earth-616)   Public Identity   Bad Characters   \n",
       "\n",
       "              EYE        HAIR                SEX  GSM                ALIVE  \\\n",
       "15805         NaN     No Hair    Male Characters  NaN    Living Characters   \n",
       "3180          NaN  Brown Hair    Male Characters  NaN    Living Characters   \n",
       "2369          NaN         NaN    Male Characters  NaN    Living Characters   \n",
       "2996          NaN  Black Hair  Female Characters  NaN    Living Characters   \n",
       "9475          NaN         NaN  Female Characters  NaN    Living Characters   \n",
       "...           ...         ...                ...  ...                  ...   \n",
       "15232  Brown Eyes  Black Hair    Male Characters  NaN    Living Characters   \n",
       "13480         NaN  Black Hair    Male Characters  NaN  Deceased Characters   \n",
       "12656         NaN  Black Hair    Male Characters  NaN  Deceased Characters   \n",
       "4605          NaN   Grey Hair  Female Characters  NaN    Living Characters   \n",
       "10657         NaN        Bald    Male Characters  NaN  Deceased Characters   \n",
       "\n",
       "       APPEARANCES FIRST APPEARANCE    Year  \n",
       "15805          NaN           May-95  1995.0  \n",
       "3180          10.0           Jul-80  1980.0  \n",
       "2369          15.0           Oct-04  2004.0  \n",
       "2996          11.0           Mar-86  1986.0  \n",
       "9475           2.0           Mar-93  1993.0  \n",
       "...            ...              ...     ...  \n",
       "15232          1.0              NaN     NaN  \n",
       "13480          1.0           Jun-94  1994.0  \n",
       "12656          1.0           Dec-86  1986.0  \n",
       "4605           6.0           Aug-79  1979.0  \n",
       "10657          1.0           Jun-41  1941.0  \n",
       "\n",
       "[819 rows x 13 columns]"
      ]
     },
     "execution_count": 48,
     "metadata": {},
     "output_type": "execute_result"
    }
   ],
   "source": [
    "import pandas as pd\n",
    "data=pd.read_csv('marvel-wikia-data.csv')\n",
    "sample=data.sample(frac=0.05)\n",
    "sample  #print(sample)"
   ]
  },
  {
   "cell_type": "code",
   "execution_count": null,
   "id": "0eceff56",
   "metadata": {},
   "outputs": [],
   "source": [
    "#Question-3\n",
    "# Create a random sample from a pandas dataframe, code to create a dataframe is mentioned below.\n",
    "# Complete it by randomly taking out 5 rows from a dataframe.\n",
    "    \n",
    "# Example Python program that creates a random sample from a pandas DataFrame  \n",
    "# import pandas as pds\n",
    "# Age vs call duration\n",
    "# callTimes = {\"Age\": [20,25,31,37,43,44,52,58,64,68,70,77,82,86,91,96],\n",
    "#              \"Call Duration\":[17,25,10,15,5,7,15,25,30,35,10,15,12,14,20,12]};\n",
    "# dataFrame = pds.DataFrame(data=callTimes);"
   ]
  },
  {
   "cell_type": "code",
   "execution_count": 50,
   "id": "15fed6c4",
   "metadata": {},
   "outputs": [
    {
     "data": {
      "text/html": [
       "<div>\n",
       "<style scoped>\n",
       "    .dataframe tbody tr th:only-of-type {\n",
       "        vertical-align: middle;\n",
       "    }\n",
       "\n",
       "    .dataframe tbody tr th {\n",
       "        vertical-align: top;\n",
       "    }\n",
       "\n",
       "    .dataframe thead th {\n",
       "        text-align: right;\n",
       "    }\n",
       "</style>\n",
       "<table border=\"1\" class=\"dataframe\">\n",
       "  <thead>\n",
       "    <tr style=\"text-align: right;\">\n",
       "      <th></th>\n",
       "      <th>Age</th>\n",
       "      <th>Call Duration</th>\n",
       "    </tr>\n",
       "  </thead>\n",
       "  <tbody>\n",
       "    <tr>\n",
       "      <th>3</th>\n",
       "      <td>37</td>\n",
       "      <td>15</td>\n",
       "    </tr>\n",
       "    <tr>\n",
       "      <th>13</th>\n",
       "      <td>86</td>\n",
       "      <td>14</td>\n",
       "    </tr>\n",
       "    <tr>\n",
       "      <th>7</th>\n",
       "      <td>58</td>\n",
       "      <td>25</td>\n",
       "    </tr>\n",
       "    <tr>\n",
       "      <th>2</th>\n",
       "      <td>31</td>\n",
       "      <td>10</td>\n",
       "    </tr>\n",
       "    <tr>\n",
       "      <th>6</th>\n",
       "      <td>52</td>\n",
       "      <td>15</td>\n",
       "    </tr>\n",
       "  </tbody>\n",
       "</table>\n",
       "</div>"
      ],
      "text/plain": [
       "    Age  Call Duration\n",
       "3    37             15\n",
       "13   86             14\n",
       "7    58             25\n",
       "2    31             10\n",
       "6    52             15"
      ]
     },
     "execution_count": 50,
     "metadata": {},
     "output_type": "execute_result"
    }
   ],
   "source": [
    "import pandas as pd\n",
    "callTimes={'Age':[20,25,31,37,43,44,52,58,64,68,70,77,82,86,91,96],\n",
    "            \"Call Duration\":[17,25,10,15,5,7,15,25,30,35,10,15,12,14,20,12]}\n",
    "dataframe=pd.DataFrame(data=callTimes)\n",
    "sample=dataframe.sample(n=5,random_state=1)\n",
    "sample  #print(sample)"
   ]
  },
  {
   "cell_type": "code",
   "execution_count": null,
   "id": "380b876e",
   "metadata": {},
   "outputs": [],
   "source": [
    "#Question-4\n",
    "# Write a code to do systematic sampling, choosing every 10th element.\n",
    "# Systematic Sampling definition\n",
    "# Systematic sampling is a probability sampling method where elements from a target population are chosen by \n",
    "# selecting a random starting point and selecting sample members after a fixed ‘sampling interval.’ \n",
    "# This is implemented easily by selecting each ‘N’th element. Systematic sampling ensures that the full population\n",
    "# is represented fairly."
   ]
  },
  {
   "cell_type": "code",
   "execution_count": 43,
   "id": "2c3ec714",
   "metadata": {},
   "outputs": [
    {
     "data": {
      "text/html": [
       "<div>\n",
       "<style scoped>\n",
       "    .dataframe tbody tr th:only-of-type {\n",
       "        vertical-align: middle;\n",
       "    }\n",
       "\n",
       "    .dataframe tbody tr th {\n",
       "        vertical-align: top;\n",
       "    }\n",
       "\n",
       "    .dataframe thead th {\n",
       "        text-align: right;\n",
       "    }\n",
       "</style>\n",
       "<table border=\"1\" class=\"dataframe\">\n",
       "  <thead>\n",
       "    <tr style=\"text-align: right;\">\n",
       "      <th></th>\n",
       "      <th>house_number</th>\n",
       "      <th>number_of_Adults</th>\n",
       "    </tr>\n",
       "  </thead>\n",
       "  <tbody>\n",
       "    <tr>\n",
       "      <th>0</th>\n",
       "      <td>1</td>\n",
       "      <td>2</td>\n",
       "    </tr>\n",
       "    <tr>\n",
       "      <th>3</th>\n",
       "      <td>4</td>\n",
       "      <td>3</td>\n",
       "    </tr>\n",
       "    <tr>\n",
       "      <th>6</th>\n",
       "      <td>7</td>\n",
       "      <td>4</td>\n",
       "    </tr>\n",
       "    <tr>\n",
       "      <th>9</th>\n",
       "      <td>10</td>\n",
       "      <td>5</td>\n",
       "    </tr>\n",
       "    <tr>\n",
       "      <th>12</th>\n",
       "      <td>13</td>\n",
       "      <td>5</td>\n",
       "    </tr>\n",
       "    <tr>\n",
       "      <th>15</th>\n",
       "      <td>16</td>\n",
       "      <td>3</td>\n",
       "    </tr>\n",
       "    <tr>\n",
       "      <th>18</th>\n",
       "      <td>19</td>\n",
       "      <td>4</td>\n",
       "    </tr>\n",
       "    <tr>\n",
       "      <th>21</th>\n",
       "      <td>22</td>\n",
       "      <td>4</td>\n",
       "    </tr>\n",
       "    <tr>\n",
       "      <th>24</th>\n",
       "      <td>25</td>\n",
       "      <td>2</td>\n",
       "    </tr>\n",
       "    <tr>\n",
       "      <th>27</th>\n",
       "      <td>28</td>\n",
       "      <td>3</td>\n",
       "    </tr>\n",
       "  </tbody>\n",
       "</table>\n",
       "</div>"
      ],
      "text/plain": [
       "    house_number  number_of_Adults\n",
       "0              1                 2\n",
       "3              4                 3\n",
       "6              7                 4\n",
       "9             10                 5\n",
       "12            13                 5\n",
       "15            16                 3\n",
       "18            19                 4\n",
       "21            22                 4\n",
       "24            25                 2\n",
       "27            28                 3"
      ]
     },
     "metadata": {},
     "output_type": "display_data"
    },
    {
     "name": "stdout",
     "output_type": "stream",
     "text": [
      "\n",
      "Average Number Of Adults in Locality:  4\n"
     ]
    }
   ],
   "source": [
    "import numpy as np\n",
    "import pandas as pd\n",
    "import random\n",
    "number_of_house = 30\n",
    "data = {'house_number': [1, 2, 3, 4, 5, 6, 7, 8, 9, 10, 11, 12, 13,14, 15, 16, 17, 18, 19, 20, 21, 22, 23,24, 25, 26,\n",
    "                         27, 28, 29, 30],\n",
    "        'number_of_Adults': [2, 2, 5, 3, 2, 8, 4, 7, 8, 5, 4, 9, 5,4, 2, 3, 2, 3, 4, 5, 6, 4, 5, 4, 2, 6,2, 3, 2, 2]}\n",
    "df = pd.DataFrame(data)\n",
    "size_of_systematic_sample = 10\n",
    "interval = (number_of_house // size_of_systematic_sample)\n",
    "def systematic_sampling(df, step):\n",
    "    indexes = np.arange(0, len(df), step=step)\n",
    "    systematic_sample = df.iloc[indexes]\n",
    "    return systematic_sample\n",
    "systematic_sample = systematic_sampling(df, interval)\n",
    "display(systematic_sample)\n",
    "print()\n",
    "systematic_data = round(systematic_sample['number_of_Adults'].mean())\n",
    "print(\"Average Number Of Adults in Locality: \", systematic_data)"
   ]
  },
  {
   "cell_type": "code",
   "execution_count": null,
   "id": "51cdea73",
   "metadata": {},
   "outputs": [],
   "source": [
    "#Question-5\n",
    "# Write a code to import the data in a data frame and take out 200 sample data "
   ]
  },
  {
   "cell_type": "markdown",
   "id": "b7810222",
   "metadata": {},
   "source": [
    "Download dataset: https://www.kaggle.com/datasets/jb1433/sample-employees-monthly-salary"
   ]
  },
  {
   "cell_type": "code",
   "execution_count": 53,
   "id": "aa675b27",
   "metadata": {},
   "outputs": [
    {
     "data": {
      "text/html": [
       "<div>\n",
       "<style scoped>\n",
       "    .dataframe tbody tr th:only-of-type {\n",
       "        vertical-align: middle;\n",
       "    }\n",
       "\n",
       "    .dataframe tbody tr th {\n",
       "        vertical-align: top;\n",
       "    }\n",
       "\n",
       "    .dataframe thead th {\n",
       "        text-align: right;\n",
       "    }\n",
       "</style>\n",
       "<table border=\"1\" class=\"dataframe\">\n",
       "  <thead>\n",
       "    <tr style=\"text-align: right;\">\n",
       "      <th></th>\n",
       "      <th>First Name</th>\n",
       "      <th>Gender</th>\n",
       "      <th>Start Date</th>\n",
       "      <th>Last Login Time</th>\n",
       "      <th>Salary</th>\n",
       "      <th>Bonus %</th>\n",
       "      <th>Senior Management</th>\n",
       "      <th>Team</th>\n",
       "    </tr>\n",
       "  </thead>\n",
       "  <tbody>\n",
       "    <tr>\n",
       "      <th>841</th>\n",
       "      <td>Ruby</td>\n",
       "      <td>Female</td>\n",
       "      <td>8/13/2006</td>\n",
       "      <td>6:27 PM</td>\n",
       "      <td>48354</td>\n",
       "      <td>19.501</td>\n",
       "      <td>False</td>\n",
       "      <td>Business Development</td>\n",
       "    </tr>\n",
       "    <tr>\n",
       "      <th>956</th>\n",
       "      <td>Beverly</td>\n",
       "      <td>Female</td>\n",
       "      <td>10/17/1986</td>\n",
       "      <td>12:51 AM</td>\n",
       "      <td>80838</td>\n",
       "      <td>8.115</td>\n",
       "      <td>False</td>\n",
       "      <td>Engineering</td>\n",
       "    </tr>\n",
       "    <tr>\n",
       "      <th>544</th>\n",
       "      <td>Roger</td>\n",
       "      <td>Male</td>\n",
       "      <td>7/3/2010</td>\n",
       "      <td>5:11 PM</td>\n",
       "      <td>105689</td>\n",
       "      <td>13.320</td>\n",
       "      <td>True</td>\n",
       "      <td>Marketing</td>\n",
       "    </tr>\n",
       "    <tr>\n",
       "      <th>173</th>\n",
       "      <td>Lillian</td>\n",
       "      <td>Female</td>\n",
       "      <td>12/21/2008</td>\n",
       "      <td>6:51 PM</td>\n",
       "      <td>85446</td>\n",
       "      <td>3.959</td>\n",
       "      <td>True</td>\n",
       "      <td>Engineering</td>\n",
       "    </tr>\n",
       "    <tr>\n",
       "      <th>759</th>\n",
       "      <td>Ruth</td>\n",
       "      <td>Female</td>\n",
       "      <td>9/2/1980</td>\n",
       "      <td>6:52 AM</td>\n",
       "      <td>59678</td>\n",
       "      <td>10.895</td>\n",
       "      <td>False</td>\n",
       "      <td>Distribution</td>\n",
       "    </tr>\n",
       "    <tr>\n",
       "      <th>...</th>\n",
       "      <td>...</td>\n",
       "      <td>...</td>\n",
       "      <td>...</td>\n",
       "      <td>...</td>\n",
       "      <td>...</td>\n",
       "      <td>...</td>\n",
       "      <td>...</td>\n",
       "      <td>...</td>\n",
       "    </tr>\n",
       "    <tr>\n",
       "      <th>274</th>\n",
       "      <td>Howard</td>\n",
       "      <td>Male</td>\n",
       "      <td>10/5/1982</td>\n",
       "      <td>7:22 AM</td>\n",
       "      <td>97490</td>\n",
       "      <td>5.460</td>\n",
       "      <td>True</td>\n",
       "      <td>Marketing</td>\n",
       "    </tr>\n",
       "    <tr>\n",
       "      <th>192</th>\n",
       "      <td>Barbara</td>\n",
       "      <td>NaN</td>\n",
       "      <td>5/3/2003</td>\n",
       "      <td>7:32 PM</td>\n",
       "      <td>99326</td>\n",
       "      <td>16.475</td>\n",
       "      <td>True</td>\n",
       "      <td>Legal</td>\n",
       "    </tr>\n",
       "    <tr>\n",
       "      <th>398</th>\n",
       "      <td>Doris</td>\n",
       "      <td>Female</td>\n",
       "      <td>7/29/1992</td>\n",
       "      <td>6:40 PM</td>\n",
       "      <td>85215</td>\n",
       "      <td>7.425</td>\n",
       "      <td>True</td>\n",
       "      <td>Human Resources</td>\n",
       "    </tr>\n",
       "    <tr>\n",
       "      <th>450</th>\n",
       "      <td>Willie</td>\n",
       "      <td>Male</td>\n",
       "      <td>8/22/2009</td>\n",
       "      <td>1:03 PM</td>\n",
       "      <td>55038</td>\n",
       "      <td>19.691</td>\n",
       "      <td>False</td>\n",
       "      <td>Legal</td>\n",
       "    </tr>\n",
       "    <tr>\n",
       "      <th>520</th>\n",
       "      <td>Peter</td>\n",
       "      <td>Male</td>\n",
       "      <td>2/22/2003</td>\n",
       "      <td>9:09 AM</td>\n",
       "      <td>56580</td>\n",
       "      <td>8.411</td>\n",
       "      <td>True</td>\n",
       "      <td>NaN</td>\n",
       "    </tr>\n",
       "  </tbody>\n",
       "</table>\n",
       "<p>200 rows × 8 columns</p>\n",
       "</div>"
      ],
      "text/plain": [
       "    First Name  Gender  Start Date Last Login Time  Salary  Bonus %  \\\n",
       "841       Ruby  Female   8/13/2006         6:27 PM   48354   19.501   \n",
       "956    Beverly  Female  10/17/1986        12:51 AM   80838    8.115   \n",
       "544      Roger    Male    7/3/2010         5:11 PM  105689   13.320   \n",
       "173    Lillian  Female  12/21/2008         6:51 PM   85446    3.959   \n",
       "759       Ruth  Female    9/2/1980         6:52 AM   59678   10.895   \n",
       "..         ...     ...         ...             ...     ...      ...   \n",
       "274     Howard    Male   10/5/1982         7:22 AM   97490    5.460   \n",
       "192    Barbara     NaN    5/3/2003         7:32 PM   99326   16.475   \n",
       "398      Doris  Female   7/29/1992         6:40 PM   85215    7.425   \n",
       "450     Willie    Male   8/22/2009         1:03 PM   55038   19.691   \n",
       "520      Peter    Male   2/22/2003         9:09 AM   56580    8.411   \n",
       "\n",
       "    Senior Management                  Team  \n",
       "841             False  Business Development  \n",
       "956             False           Engineering  \n",
       "544              True             Marketing  \n",
       "173              True           Engineering  \n",
       "759             False          Distribution  \n",
       "..                ...                   ...  \n",
       "274              True             Marketing  \n",
       "192              True                 Legal  \n",
       "398              True       Human Resources  \n",
       "450             False                 Legal  \n",
       "520              True                   NaN  \n",
       "\n",
       "[200 rows x 8 columns]"
      ]
     },
     "execution_count": 53,
     "metadata": {},
     "output_type": "execute_result"
    }
   ],
   "source": [
    "import pandas as pd\n",
    "df=pd.read_csv('employees.csv')\n",
    "sample=df.sample(n=200,random_state=10)\n",
    "sample  #print(sample)"
   ]
  },
  {
   "cell_type": "code",
   "execution_count": null,
   "id": "085de048",
   "metadata": {},
   "outputs": [],
   "source": []
  },
  {
   "cell_type": "code",
   "execution_count": null,
   "id": "74a3a052",
   "metadata": {},
   "outputs": [],
   "source": []
  }
 ],
 "metadata": {
  "kernelspec": {
   "display_name": "Python 3 (ipykernel)",
   "language": "python",
   "name": "python3"
  },
  "language_info": {
   "codemirror_mode": {
    "name": "ipython",
    "version": 3
   },
   "file_extension": ".py",
   "mimetype": "text/x-python",
   "name": "python",
   "nbconvert_exporter": "python",
   "pygments_lexer": "ipython3",
   "version": "3.9.12"
  }
 },
 "nbformat": 4,
 "nbformat_minor": 5
}
