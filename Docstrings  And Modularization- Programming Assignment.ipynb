{
 "cells": [
  {
   "cell_type": "code",
   "execution_count": null,
   "id": "68141378",
   "metadata": {},
   "outputs": [],
   "source": [
    "#Question-1\n",
    "# Write a code to get the match.sqrt function documentation:"
   ]
  },
  {
   "cell_type": "code",
   "execution_count": 1,
   "id": "ae4ad967",
   "metadata": {},
   "outputs": [
    {
     "name": "stdout",
     "output_type": "stream",
     "text": [
      "5929\n"
     ]
    }
   ],
   "source": [
    "def sqrt(x):\n",
    "    print(x*x)\n",
    "sqrt(77)"
   ]
  },
  {
   "cell_type": "code",
   "execution_count": null,
   "id": "dd007ed8",
   "metadata": {},
   "outputs": [],
   "source": [
    "#Question-2\n",
    "# Write a code to create your own function for adding two number and add customdocstring inside the function.\n",
    "# And then print your function documentation."
   ]
  },
  {
   "cell_type": "code",
   "execution_count": 2,
   "id": "7d73d1fc",
   "metadata": {},
   "outputs": [
    {
     "name": "stdout",
     "output_type": "stream",
     "text": [
      "24\n",
      "takes two parameters\n",
      " returns sum\n"
     ]
    }
   ],
   "source": [
    "def add(a,b):\n",
    " '''takes two parameters\n",
    " returns sum'''\n",
    " return a+b\n",
    "print(add(4,20))\n",
    "print(add.__doc__)"
   ]
  },
  {
   "cell_type": "code",
   "execution_count": null,
   "id": "d1844956",
   "metadata": {},
   "outputs": [],
   "source": [
    "#Question-3\n",
    "# Write a code to create your own function for adding two number and add custom docstring inside the function. \n",
    "# And then print your function documentation without __doc__."
   ]
  },
  {
   "cell_type": "code",
   "execution_count": 3,
   "id": "17d34cea",
   "metadata": {},
   "outputs": [
    {
     "name": "stdout",
     "output_type": "stream",
     "text": [
      "58\n",
      "takes two parameters\n",
      " returns sum\n"
     ]
    }
   ],
   "source": [
    "def add(x,y):\n",
    " '''takes two parameters\n",
    " returns sum'''\n",
    " return x+y\n",
    "print(add(3,55))\n",
    "print(add.__doc__)"
   ]
  },
  {
   "cell_type": "code",
   "execution_count": null,
   "id": "b06f1d96",
   "metadata": {},
   "outputs": [],
   "source": [
    "#Question-4\n",
    "# Write a code for one liner documentionf or a custom function"
   ]
  },
  {
   "cell_type": "code",
   "execution_count": 4,
   "id": "1447b21e",
   "metadata": {},
   "outputs": [
    {
     "name": "stdout",
     "output_type": "stream",
     "text": [
      "This module provides access to the mathematical functions\n",
      "defined by the C standard.\n",
      "Return the square root of x.\n"
     ]
    }
   ],
   "source": [
    "import math\n",
    "print(math.__doc__)\n",
    "print(math.sqrt.__doc__)"
   ]
  },
  {
   "cell_type": "code",
   "execution_count": null,
   "id": "be1d64a6",
   "metadata": {},
   "outputs": [],
   "source": [
    "#Question-5\n",
    "# Write a multi-line Docstrings code?"
   ]
  },
  {
   "cell_type": "code",
   "execution_count": 5,
   "id": "a9590a30",
   "metadata": {},
   "outputs": [],
   "source": [
    "def calculate_average(numbers):\n",
    "    \"\"\"\n",
    "    This function takes in a list of numbers and calculates their average.\n",
    "    Args:\n",
    "        numbers (list): A list of integers or floats.\n",
    "    Returns:\n",
    "        float: The average of the numbers in the list.\n",
    "    \"\"\"\n",
    "    if len(numbers) == 0:\n",
    "        return 0.0\n",
    "    \n",
    "    return sum(numbers) / len(numbers)"
   ]
  },
  {
   "cell_type": "code",
   "execution_count": null,
   "id": "ef745519",
   "metadata": {},
   "outputs": [],
   "source": []
  },
  {
   "cell_type": "code",
   "execution_count": null,
   "id": "c0b3a8a8",
   "metadata": {},
   "outputs": [],
   "source": []
  },
  {
   "cell_type": "markdown",
   "id": "b180820a",
   "metadata": {},
   "source": [
    "# Modularization- Programming Assignment"
   ]
  },
  {
   "cell_type": "code",
   "execution_count": null,
   "id": "9e84026c",
   "metadata": {},
   "outputs": [],
   "source": [
    "#Question-1\n",
    "# Write a simple code to make a package that contains modules"
   ]
  },
  {
   "cell_type": "code",
   "execution_count": null,
   "id": "e5adfdc9",
   "metadata": {},
   "outputs": [],
   "source": [
    "def say_hello():\n",
    "    print(\"Hello from module 1!\")"
   ]
  },
  {
   "cell_type": "code",
   "execution_count": null,
   "id": "02fdce6b",
   "metadata": {},
   "outputs": [],
   "source": [
    "def say_goodbye():\n",
    "    print(\"Goodbye from module 2!\")"
   ]
  },
  {
   "cell_type": "code",
   "execution_count": null,
   "id": "c1ed7f4a",
   "metadata": {},
   "outputs": [],
   "source": [
    "from my_package.module1 import say_hello\n",
    "from my_package.module2 import say_goodbye\n",
    "\n",
    "say_hello()  # prints \"Hello from module 1!\"\n",
    "say_goodbye()  # prints \"Goodbye from module 2!\""
   ]
  },
  {
   "cell_type": "code",
   "execution_count": null,
   "id": "f152f089",
   "metadata": {},
   "outputs": [],
   "source": [
    "#Question-2\n",
    "# How to use the built-in function dir()  to list all valid attributes and methods for that module? Module -math"
   ]
  },
  {
   "cell_type": "code",
   "execution_count": 6,
   "id": "93545dcc",
   "metadata": {},
   "outputs": [
    {
     "name": "stdout",
     "output_type": "stream",
     "text": [
      "['__doc__', '__loader__', '__name__', '__package__', '__spec__', 'acos', 'acosh', 'asin', 'asinh', 'atan', 'atan2', 'atanh', 'ceil', 'comb', 'copysign', 'cos', 'cosh', 'degrees', 'dist', 'e', 'erf', 'erfc', 'exp', 'expm1', 'fabs', 'factorial', 'floor', 'fmod', 'frexp', 'fsum', 'gamma', 'gcd', 'hypot', 'inf', 'isclose', 'isfinite', 'isinf', 'isnan', 'isqrt', 'lcm', 'ldexp', 'lgamma', 'log', 'log10', 'log1p', 'log2', 'modf', 'nan', 'nextafter', 'perm', 'pi', 'pow', 'prod', 'radians', 'remainder', 'sin', 'sinh', 'sqrt', 'tan', 'tanh', 'tau', 'trunc', 'ulp']\n"
     ]
    }
   ],
   "source": [
    "import math\n",
    "# Use dir() function to list all valid attributes and methods for the math module\n",
    "print(dir(math))"
   ]
  },
  {
   "cell_type": "code",
   "execution_count": null,
   "id": "17228e8f",
   "metadata": {},
   "outputs": [],
   "source": [
    "#Question-3\n",
    "# Write a code to see builtin modules name from a module, For example, sys"
   ]
  },
  {
   "cell_type": "code",
   "execution_count": 7,
   "id": "d99286ff",
   "metadata": {},
   "outputs": [
    {
     "name": "stdout",
     "output_type": "stream",
     "text": [
      "('_abc', '_ast', '_bisect', '_blake2', '_codecs', '_codecs_cn', '_codecs_hk', '_codecs_iso2022', '_codecs_jp', '_codecs_kr', '_codecs_tw', '_collections', '_contextvars', '_csv', '_datetime', '_functools', '_heapq', '_imp', '_io', '_json', '_locale', '_lsprof', '_md5', '_multibytecodec', '_opcode', '_operator', '_peg_parser', '_pickle', '_random', '_sha1', '_sha256', '_sha3', '_sha512', '_signal', '_sre', '_stat', '_statistics', '_string', '_struct', '_symtable', '_thread', '_tracemalloc', '_warnings', '_weakref', '_winapi', '_xxsubinterpreters', 'array', 'atexit', 'audioop', 'binascii', 'builtins', 'cmath', 'errno', 'faulthandler', 'gc', 'itertools', 'marshal', 'math', 'mmap', 'msvcrt', 'nt', 'parser', 'sys', 'time', 'winreg', 'xxsubtype', 'zlib')\n"
     ]
    }
   ],
   "source": [
    "import sys\n",
    "# Get a list of all built-in modules\n",
    "builtin_modules = sys.builtin_module_names\n",
    "# Print the list of module names\n",
    "print(builtin_modules)"
   ]
  },
  {
   "cell_type": "code",
   "execution_count": null,
   "id": "b289ee51",
   "metadata": {},
   "outputs": [],
   "source": [
    "#Question-4\n",
    "# Write a code to turn the Fibonacci function into a module, on import Fibonacci it would return the Fibonacci of a number."
   ]
  },
  {
   "cell_type": "code",
   "execution_count": null,
   "id": "b3ebecef",
   "metadata": {},
   "outputs": [],
   "source": [
    "# Define the Fibonacci function\n",
    "def fibonacci(n):\n",
    "    if n <= 1:\n",
    "        return n\n",
    "    else:\n",
    "        return fibonacci(n-1) + fibonacci(n-2)\n",
    "# Save the Fibonacci function as a module\n",
    "if __name__ == \"__main__\":\n",
    "    import sys\n",
    "    fib = fibonacci(int(sys.argv[1]))\n",
    "    print(fib)\n",
    "# The module code\n",
    "def Fibonacci(n):\n",
    "    return fibonacci(n)\n",
    "\n",
    "import Fibonacci\n",
    "# Compute the Fibonacci number for n = 10\n",
    "fib = Fibonacci.Fibonacci(10)\n",
    "print(fib)  # Output: 55"
   ]
  },
  {
   "cell_type": "code",
   "execution_count": null,
   "id": "955d0f93",
   "metadata": {},
   "outputs": [],
   "source": [
    "import Fibonacci\n",
    "# Compute the Fibonacci number for n = 10\n",
    "fib = Fibonacci.Fibonacci(10)\n",
    "print(fib)  # Output: 55"
   ]
  },
  {
   "cell_type": "code",
   "execution_count": null,
   "id": "2e468d50",
   "metadata": {},
   "outputs": [],
   "source": [
    "#Question-5\n",
    "# Write a program to make your own module and import the py file as a module"
   ]
  },
  {
   "cell_type": "code",
   "execution_count": null,
   "id": "13b89f06",
   "metadata": {},
   "outputs": [],
   "source": [
    "def greet(name):\n",
    "    print(f\"Hello, {name}! Welcome to my module.\")"
   ]
  },
  {
   "cell_type": "code",
   "execution_count": null,
   "id": "82314fc1",
   "metadata": {},
   "outputs": [],
   "source": [
    "# Import the my_module module\n",
    "import my_module\n",
    "# Call the greet() function from the my_module module\n",
    "my_module.greet(\"Alice\")"
   ]
  },
  {
   "cell_type": "code",
   "execution_count": null,
   "id": "9e4e4063",
   "metadata": {},
   "outputs": [],
   "source": []
  },
  {
   "cell_type": "code",
   "execution_count": null,
   "id": "266a655d",
   "metadata": {},
   "outputs": [],
   "source": []
  },
  {
   "cell_type": "code",
   "execution_count": null,
   "id": "a899b0e2",
   "metadata": {},
   "outputs": [],
   "source": []
  },
  {
   "cell_type": "code",
   "execution_count": null,
   "id": "70a61cda",
   "metadata": {},
   "outputs": [],
   "source": []
  },
  {
   "cell_type": "code",
   "execution_count": null,
   "id": "41aa4d2d",
   "metadata": {},
   "outputs": [],
   "source": []
  }
 ],
 "metadata": {
  "kernelspec": {
   "display_name": "Python 3 (ipykernel)",
   "language": "python",
   "name": "python3"
  },
  "language_info": {
   "codemirror_mode": {
    "name": "ipython",
    "version": 3
   },
   "file_extension": ".py",
   "mimetype": "text/x-python",
   "name": "python",
   "nbconvert_exporter": "python",
   "pygments_lexer": "ipython3",
   "version": "3.9.12"
  }
 },
 "nbformat": 4,
 "nbformat_minor": 5
}
